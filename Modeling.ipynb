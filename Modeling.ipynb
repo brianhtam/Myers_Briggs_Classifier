{
 "cells": [
  {
   "cell_type": "markdown",
   "metadata": {},
   "source": [
    "# Modeling\n",
    "Author Brian Tam, 10/16/2020\n",
    "\n",
    "Inserted my final processed train/test Dataframes \n",
    "into various models to evaluate"
   ]
  },
  {
   "cell_type": "markdown",
   "metadata": {},
   "source": [
    "### Imports"
   ]
  },
  {
   "cell_type": "code",
   "execution_count": 2,
   "metadata": {
    "execution": {
     "iopub.execute_input": "2020-10-22T08:03:18.671414Z",
     "iopub.status.busy": "2020-10-22T08:03:18.671129Z",
     "iopub.status.idle": "2020-10-22T08:03:21.496033Z",
     "shell.execute_reply": "2020-10-22T08:03:21.495411Z",
     "shell.execute_reply.started": "2020-10-22T08:03:18.671388Z"
    }
   },
   "outputs": [],
   "source": [
    "# Get pandas and postgres to work together\n",
    "import psycopg2 as pg\n",
    "import pandas as pd\n",
    "import numpy as np\n",
    "import pickle\n",
    "\n",
    "# Import spacy to do NLP\n",
    "import spacy\n",
    "\n",
    "# Split the data into training and test sets\n",
    "from sklearn.model_selection import train_test_split\n",
    "\n",
    "# Import sklearn to do CountVectorizing\n",
    "from sklearn.feature_extraction.text import CountVectorizer\n",
    "count_vect = CountVectorizer()\n",
    "\n",
    "import matplotlib.pyplot as plt\n",
    "\n",
    "import databricks.koalas as ks\n",
    "\n",
    "# Topic Modeling\n",
    "from sklearn.decomposition import TruncatedSVD\n",
    "from sklearn.decomposition import NMF\n",
    "from sklearn.metrics.pairwise import cosine_similarity\n",
    "\n",
    "# Text Preprocessing\n",
    "import re\n",
    "import string"
   ]
  },
  {
   "cell_type": "code",
   "execution_count": 3,
   "metadata": {
    "execution": {
     "iopub.execute_input": "2020-10-22T08:03:21.497531Z",
     "iopub.status.busy": "2020-10-22T08:03:21.497333Z",
     "iopub.status.idle": "2020-10-22T08:03:21.581233Z",
     "shell.execute_reply": "2020-10-22T08:03:21.580565Z",
     "shell.execute_reply.started": "2020-10-22T08:03:21.497508Z"
    }
   },
   "outputs": [],
   "source": [
    "X_train_topics=pd.read_csv('X_train_topics.csv',index_col=0)\n",
    "X_test_topics=pd.read_csv('X_test_topics.csv',index_col=0)\n",
    "y_train_all=pd.read_csv('y_train.csv',index_col=0)\n",
    "y_test_all=pd.read_csv('y_test.csv',index_col=0)"
   ]
  },
  {
   "cell_type": "code",
   "execution_count": 4,
   "metadata": {
    "execution": {
     "iopub.execute_input": "2020-10-22T08:03:21.583904Z",
     "iopub.status.busy": "2020-10-22T08:03:21.583584Z",
     "iopub.status.idle": "2020-10-22T08:03:21.590480Z",
     "shell.execute_reply": "2020-10-22T08:03:21.589488Z",
     "shell.execute_reply.started": "2020-10-22T08:03:21.583875Z"
    }
   },
   "outputs": [
    {
     "data": {
      "text/plain": [
       "Index(['type', 'I-E', 'N-S', 'T-F', 'J-P'], dtype='object')"
      ]
     },
     "execution_count": 4,
     "metadata": {},
     "output_type": "execute_result"
    }
   ],
   "source": [
    "y_train_all.columns"
   ]
  },
  {
   "cell_type": "code",
   "execution_count": 5,
   "metadata": {
    "execution": {
     "iopub.execute_input": "2020-10-22T08:03:21.593326Z",
     "iopub.status.busy": "2020-10-22T08:03:21.592987Z",
     "iopub.status.idle": "2020-10-22T08:03:21.598231Z",
     "shell.execute_reply": "2020-10-22T08:03:21.596910Z",
     "shell.execute_reply.started": "2020-10-22T08:03:21.593292Z"
    }
   },
   "outputs": [],
   "source": [
    "target = 'N-S'\n",
    "\n",
    "y_train = y_train_all[target]\n",
    "y_test = y_test_all[target]"
   ]
  },
  {
   "cell_type": "code",
   "execution_count": 6,
   "metadata": {
    "execution": {
     "iopub.execute_input": "2020-10-22T08:03:21.600013Z",
     "iopub.status.busy": "2020-10-22T08:03:21.599666Z",
     "iopub.status.idle": "2020-10-22T08:03:21.796410Z",
     "shell.execute_reply": "2020-10-22T08:03:21.795622Z",
     "shell.execute_reply.started": "2020-10-22T08:03:21.599987Z"
    }
   },
   "outputs": [
    {
     "data": {
      "text/plain": [
       "<matplotlib.axes._subplots.AxesSubplot at 0x7fc4804c81f0>"
      ]
     },
     "execution_count": 6,
     "metadata": {},
     "output_type": "execute_result"
    },
    {
     "data": {
      "image/png": "[encoded data removed]",
      "text/plain": [
       "<Figure size 432x288 with 1 Axes>"
      ]
     },
     "metadata": {
      "needs_background": "light"
     },
     "output_type": "display_data"
    }
   ],
   "source": [
    "y_train.hist()"
   ]
  },
  {
   "cell_type": "markdown",
   "metadata": {},
   "source": [
    "### Try classifying using Logistic Regression"
   ]
  },
  {
   "cell_type": "code",
   "execution_count": 7,
   "metadata": {
    "execution": {
     "iopub.execute_input": "2020-10-22T08:03:21.797917Z",
     "iopub.status.busy": "2020-10-22T08:03:21.797601Z",
     "iopub.status.idle": "2020-10-22T08:03:21.803582Z",
     "shell.execute_reply": "2020-10-22T08:03:21.801768Z",
     "shell.execute_reply.started": "2020-10-22T08:03:21.797888Z"
    }
   },
   "outputs": [],
   "source": [
    "# Create a logistic regression model to use\n",
    "from sklearn.linear_model import LogisticRegression\n",
    "lr = LogisticRegression(class_weight = 'balanced')"
   ]
  },
  {
   "cell_type": "code",
   "execution_count": 8,
   "metadata": {
    "execution": {
     "iopub.execute_input": "2020-10-22T08:03:21.805122Z",
     "iopub.status.busy": "2020-10-22T08:03:21.804909Z",
     "iopub.status.idle": "2020-10-22T08:03:21.840067Z",
     "shell.execute_reply": "2020-10-22T08:03:21.839265Z",
     "shell.execute_reply.started": "2020-10-22T08:03:21.805097Z"
    }
   },
   "outputs": [],
   "source": [
    "# Train the first model\n",
    "lr.fit(X_train_topics, y_train)\n",
    "y_pred_topics = lr.predict(X_test_topics)"
   ]
  },
  {
   "cell_type": "code",
   "execution_count": 9,
   "metadata": {
    "execution": {
     "iopub.execute_input": "2020-10-22T08:03:21.844428Z",
     "iopub.status.busy": "2020-10-22T08:03:21.844034Z",
     "iopub.status.idle": "2020-10-22T08:03:21.991879Z",
     "shell.execute_reply": "2020-10-22T08:03:21.991056Z",
     "shell.execute_reply.started": "2020-10-22T08:03:21.844388Z"
    }
   },
   "outputs": [],
   "source": [
    "# Create a function to calculate the error metrics, since we'll be doing this several times\n",
    "from sklearn.metrics import confusion_matrix\n",
    "import matplotlib.pyplot as plt\n",
    "import seaborn as sns\n",
    "%matplotlib inline\n",
    "\n",
    "def conf_matrix(actual, predicted):\n",
    "    cm = confusion_matrix(actual, predicted)\n",
    "    sns.heatmap(cm, xticklabels=['predicted_negative', 'predicted_positive'], \n",
    "                yticklabels=['actual_negative', 'actual_positive'], annot=True,\n",
    "                fmt='d', annot_kws={'fontsize':20}, cmap=\"YlGnBu\");\n",
    "\n",
    "    true_neg, false_pos = cm[0]\n",
    "    false_neg, true_pos = cm[1]\n",
    "\n",
    "    accuracy = round((true_pos + true_neg) / (true_pos + true_neg + false_pos + false_neg),3)\n",
    "    precision = round((true_pos) / (true_pos + false_pos),3)\n",
    "    recall = round((true_pos) / (true_pos + false_neg),3)\n",
    "    f1 = round(2 * (precision * recall) / (precision + recall),3)\n",
    "\n",
    "    cm_results = [accuracy, precision, recall, f1]\n",
    "    return cm_results"
   ]
  },
  {
   "cell_type": "code",
   "execution_count": 10,
   "metadata": {
    "execution": {
     "iopub.execute_input": "2020-10-22T08:03:22.402831Z",
     "iopub.status.busy": "2020-10-22T08:03:22.402600Z",
     "iopub.status.idle": "2020-10-22T08:03:22.607320Z",
     "shell.execute_reply": "2020-10-22T08:03:22.606585Z",
     "shell.execute_reply.started": "2020-10-22T08:03:22.402806Z"
    }
   },
   "outputs": [
    {
     "data": {
      "image/png": "[encoded data removed]",
      "text/plain": [
       "<Figure size 432x288 with 2 Axes>"
      ]
     },
     "metadata": {
      "needs_background": "light"
     },
     "output_type": "display_data"
    }
   ],
   "source": [
    "# The heat map for the first logistic regression model\n",
    "cm1 = conf_matrix(y_test, y_pred_topics)"
   ]
  },
  {
   "cell_type": "code",
   "execution_count": 11,
   "metadata": {
    "execution": {
     "iopub.execute_input": "2020-10-22T08:03:22.882365Z",
     "iopub.status.busy": "2020-10-22T08:03:22.882138Z",
     "iopub.status.idle": "2020-10-22T08:03:22.895305Z",
     "shell.execute_reply": "2020-10-22T08:03:22.894509Z",
     "shell.execute_reply.started": "2020-10-22T08:03:22.882341Z"
    }
   },
   "outputs": [
    {
     "data": {
      "text/html": [
       "<div>\n",
       "<style scoped>\n",
       "    .dataframe tbody tr th:only-of-type {\n",
       "        vertical-align: middle;\n",
       "    }\n",
       "\n",
       "    .dataframe tbody tr th {\n",
       "        vertical-align: top;\n",
       "    }\n",
       "\n",
       "    .dataframe thead th {\n",
       "        text-align: right;\n",
       "    }\n",
       "</style>\n",
       "<table border=\"1\" class=\"dataframe\">\n",
       "  <thead>\n",
       "    <tr style=\"text-align: right;\">\n",
       "      <th></th>\n",
       "      <th>LogReg1</th>\n",
       "    </tr>\n",
       "  </thead>\n",
       "  <tbody>\n",
       "    <tr>\n",
       "      <th>Accuracy</th>\n",
       "      <td>0.628</td>\n",
       "    </tr>\n",
       "    <tr>\n",
       "      <th>Precision</th>\n",
       "      <td>0.915</td>\n",
       "    </tr>\n",
       "    <tr>\n",
       "      <th>Recall</th>\n",
       "      <td>0.630</td>\n",
       "    </tr>\n",
       "    <tr>\n",
       "      <th>F1 Score</th>\n",
       "      <td>0.746</td>\n",
       "    </tr>\n",
       "  </tbody>\n",
       "</table>\n",
       "</div>"
      ],
      "text/plain": [
       "           LogReg1\n",
       "Accuracy     0.628\n",
       "Precision    0.915\n",
       "Recall       0.630\n",
       "F1 Score     0.746"
      ]
     },
     "execution_count": 11,
     "metadata": {},
     "output_type": "execute_result"
    }
   ],
   "source": [
    "# Compile all of the error metrics into a dataframe for comparison\n",
    "results = pd.DataFrame(list(zip(cm1)))\n",
    "results = results.set_index([['Accuracy', 'Precision', 'Recall', 'F1 Score']])\n",
    "results.columns = ['LogReg1']\n",
    "results"
   ]
  },
  {
   "cell_type": "markdown",
   "metadata": {},
   "source": [
    "### Try classifying using Naive Bayes"
   ]
  },
  {
   "cell_type": "code",
   "execution_count": 12,
   "metadata": {
    "execution": {
     "iopub.execute_input": "2020-10-22T08:03:23.841807Z",
     "iopub.status.busy": "2020-10-22T08:03:23.841582Z",
     "iopub.status.idle": "2020-10-22T08:03:23.846311Z",
     "shell.execute_reply": "2020-10-22T08:03:23.845553Z",
     "shell.execute_reply.started": "2020-10-22T08:03:23.841784Z"
    }
   },
   "outputs": [
    {
     "name": "stdout",
     "output_type": "stream",
     "text": [
      "(6505,)\n"
     ]
    },
    {
     "data": {
      "text/plain": [
       "(6505, 40)"
      ]
     },
     "execution_count": 12,
     "metadata": {},
     "output_type": "execute_result"
    }
   ],
   "source": [
    "print(y_train.shape)\n",
    "X_train_topics.shape"
   ]
  },
  {
   "cell_type": "code",
   "execution_count": 13,
   "metadata": {
    "execution": {
     "iopub.execute_input": "2020-10-22T08:03:24.211893Z",
     "iopub.status.busy": "2020-10-22T08:03:24.211673Z",
     "iopub.status.idle": "2020-10-22T08:03:24.224748Z",
     "shell.execute_reply": "2020-10-22T08:03:24.223840Z",
     "shell.execute_reply.started": "2020-10-22T08:03:24.211870Z"
    }
   },
   "outputs": [],
   "source": [
    "# Fit the first Naive Bayes model\n",
    "from sklearn.naive_bayes import MultinomialNB\n",
    "\n",
    "mnb = MultinomialNB()\n",
    "mnb.fit(X_train_topics, y_train)\n",
    "\n",
    "y_pred_topics_nb = mnb.predict(X_test_topics)"
   ]
  },
  {
   "cell_type": "code",
   "execution_count": 14,
   "metadata": {
    "execution": {
     "iopub.execute_input": "2020-10-22T08:03:27.355520Z",
     "iopub.status.busy": "2020-10-22T08:03:27.355297Z",
     "iopub.status.idle": "2020-10-22T08:03:27.371922Z",
     "shell.execute_reply": "2020-10-22T08:03:27.370863Z",
     "shell.execute_reply.started": "2020-10-22T08:03:27.355496Z"
    }
   },
   "outputs": [],
   "source": [
    "# Fit the second Naive Bayes model\n",
    "from sklearn.naive_bayes import BernoulliNB\n",
    "\n",
    "bnb = BernoulliNB()\n",
    "bnb.fit(X_train_topics, y_train)\n",
    "\n",
    "y_pred_nb = bnb.predict(X_test_topics)"
   ]
  },
  {
   "cell_type": "code",
   "execution_count": 15,
   "metadata": {
    "execution": {
     "iopub.execute_input": "2020-10-22T08:03:28.502249Z",
     "iopub.status.busy": "2020-10-22T08:03:28.501903Z",
     "iopub.status.idle": "2020-10-22T08:03:28.672174Z",
     "shell.execute_reply": "2020-10-22T08:03:28.671398Z",
     "shell.execute_reply.started": "2020-10-22T08:03:28.502225Z"
    }
   },
   "outputs": [
    {
     "data": {
      "image/png": "[encoded data removed]",
      "text/plain": [
       "<Figure size 432x288 with 2 Axes>"
      ]
     },
     "metadata": {
      "needs_background": "light"
     },
     "output_type": "display_data"
    }
   ],
   "source": [
    "# Here's the heat map for the first Naive Bayes model\n",
    "cm3 = conf_matrix(y_test, y_pred_nb)"
   ]
  },
  {
   "cell_type": "code",
   "execution_count": 138,
   "metadata": {
    "execution": {
     "iopub.execute_input": "2020-10-21T23:33:56.822141Z",
     "iopub.status.busy": "2020-10-21T23:33:56.821926Z",
     "iopub.status.idle": "2020-10-21T23:33:56.830664Z",
     "shell.execute_reply": "2020-10-21T23:33:56.830056Z",
     "shell.execute_reply.started": "2020-10-21T23:33:56.822118Z"
    }
   },
   "outputs": [
    {
     "data": {
      "text/html": [
       "<div>\n",
       "<style scoped>\n",
       "    .dataframe tbody tr th:only-of-type {\n",
       "        vertical-align: middle;\n",
       "    }\n",
       "\n",
       "    .dataframe tbody tr th {\n",
       "        vertical-align: top;\n",
       "    }\n",
       "\n",
       "    .dataframe thead th {\n",
       "        text-align: right;\n",
       "    }\n",
       "</style>\n",
       "<table border=\"1\" class=\"dataframe\">\n",
       "  <thead>\n",
       "    <tr style=\"text-align: right;\">\n",
       "      <th></th>\n",
       "      <th>LogReg1</th>\n",
       "      <th>NB1</th>\n",
       "    </tr>\n",
       "  </thead>\n",
       "  <tbody>\n",
       "    <tr>\n",
       "      <th>Accuracy</th>\n",
       "      <td>0.628</td>\n",
       "      <td>0.870</td>\n",
       "    </tr>\n",
       "    <tr>\n",
       "      <th>Precision</th>\n",
       "      <td>0.915</td>\n",
       "      <td>0.873</td>\n",
       "    </tr>\n",
       "    <tr>\n",
       "      <th>Recall</th>\n",
       "      <td>0.630</td>\n",
       "      <td>0.995</td>\n",
       "    </tr>\n",
       "    <tr>\n",
       "      <th>F1 Score</th>\n",
       "      <td>0.746</td>\n",
       "      <td>0.930</td>\n",
       "    </tr>\n",
       "  </tbody>\n",
       "</table>\n",
       "</div>"
      ],
      "text/plain": [
       "           LogReg1    NB1\n",
       "Accuracy     0.628  0.870\n",
       "Precision    0.915  0.873\n",
       "Recall       0.630  0.995\n",
       "F1 Score     0.746  0.930"
      ]
     },
     "execution_count": 138,
     "metadata": {},
     "output_type": "execute_result"
    }
   ],
   "source": [
    "# Compile all of the error metrics into a dataframe for comparison\n",
    "results_nb = pd.DataFrame(list(zip(cm1, cm3)))\n",
    "results_nb = results_nb.set_index([['Accuracy', 'Precision', 'Recall', 'F1 Score']])\n",
    "results_nb.columns = ['LogReg1', 'NB1']\n",
    "results_nb"
   ]
  },
  {
   "cell_type": "code",
   "execution_count": null,
   "metadata": {},
   "outputs": [],
   "source": []
  },
  {
   "cell_type": "code",
   "execution_count": null,
   "metadata": {},
   "outputs": [],
   "source": []
  }
 ],
 "metadata": {
  "kernelspec": {
   "display_name": "Python [conda env:metis] *",
   "language": "python",
   "name": "conda-env-metis-py"
  },
  "language_info": {
   "codemirror_mode": {
    "name": "ipython",
    "version": 3
   },
   "file_extension": ".py",
   "mimetype": "text/x-python",
   "name": "python",
   "nbconvert_exporter": "python",
   "pygments_lexer": "ipython3",
   "version": "3.8.5"
  }
 },
 "nbformat": 4,
 "nbformat_minor": 4
}
