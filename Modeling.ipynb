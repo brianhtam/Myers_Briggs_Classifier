{
 "cells": [
  {
   "cell_type": "markdown",
   "metadata": {},
   "source": [
    "# Modeling\n",
    "Author Brian Tam, 10/16/2020\n",
    "\n",
    "Inserted my final processed train/test Dataframes \n",
    "into various models to evaluate\n",
    "\n",
    "12. Address class imbalance with randomOverSampler\n",
    "13. Created a pipline to run the following models:\n",
    "    - Logistic Reg\n",
    "    - Decision Tree\n",
    "    - Random Forest\n",
    "    - BernoulliNB\n",
    "    - MultinomialNB\n",
    "    - SVC\n",
    "    - XGBoost\n",
    "14. Created 4 seperate models to classify each letter"
   ]
  },
  {
   "cell_type": "markdown",
   "metadata": {},
   "source": [
    "### Imports"
   ]
  },
  {
   "cell_type": "code",
   "execution_count": 114,
   "metadata": {
    "execution": {
     "iopub.execute_input": "2020-10-26T23:38:05.993750Z",
     "iopub.status.busy": "2020-10-26T23:38:05.993540Z",
     "iopub.status.idle": "2020-10-26T23:38:06.000040Z",
     "shell.execute_reply": "2020-10-26T23:38:05.999263Z",
     "shell.execute_reply.started": "2020-10-26T23:38:05.993729Z"
    }
   },
   "outputs": [],
   "source": [
    "# Get pandas and postgres to work together\n",
    "import psycopg2 as pg\n",
    "import pandas as pd\n",
    "import numpy as np\n",
    "import pickle\n",
    "\n",
    "# Import spacy to do NLP\n",
    "import spacy\n",
    "\n",
    "# Split the data into training and test sets\n",
    "from sklearn.model_selection import train_test_split\n",
    "\n",
    "# Import sklearn to do CountVectorizing\n",
    "from sklearn.feature_extraction.text import CountVectorizer\n",
    "count_vect = CountVectorizer()\n",
    "\n",
    "import matplotlib.pyplot as plt\n",
    "\n",
    "import databricks.koalas as ks\n",
    "\n",
    "# Topic Modeling\n",
    "from sklearn.decomposition import TruncatedSVD\n",
    "from sklearn.decomposition import NMF\n",
    "from sklearn.metrics.pairwise import cosine_similarity\n",
    "\n",
    "\n",
    "# Text Preprocessing\n",
    "import re\n",
    "import string\n",
    "\n",
    "# Pipeline dealing with class imbalance\n",
    "from imblearn.pipeline import Pipeline, make_pipeline\n",
    "from imblearn.over_sampling import SMOTE\n",
    "from sklearn.model_selection import cross_val_score\n",
    "from imblearn.under_sampling import RandomUnderSampler\n",
    "from imblearn.over_sampling import RandomOverSampler\n",
    "from imblearn.over_sampling import ADASYN\n",
    "\n",
    "# Models\n",
    "from sklearn.ensemble import RandomForestClassifier\n",
    "from sklearn.ensemble import GradientBoostingClassifier\n",
    "from sklearn.linear_model import LogisticRegression\n",
    "from sklearn.naive_bayes import MultinomialNB, BernoulliNB\n",
    "from sklearn.svm import SVC\n",
    "from tpot import TPOTClassifier\n",
    "from sklearn.tree import DecisionTreeClassifier\n",
    "from xgboost import XGBClassifier\n",
    "\n",
    "# scoring metrics\n",
    "from sklearn.metrics import classification_report"
   ]
  },
  {
   "cell_type": "code",
   "execution_count": 115,
   "metadata": {
    "execution": {
     "iopub.execute_input": "2020-10-26T23:38:06.400028Z",
     "iopub.status.busy": "2020-10-26T23:38:06.399797Z",
     "iopub.status.idle": "2020-10-26T23:38:06.452408Z",
     "shell.execute_reply": "2020-10-26T23:38:06.451762Z",
     "shell.execute_reply.started": "2020-10-26T23:38:06.400005Z"
    }
   },
   "outputs": [],
   "source": [
    "X_train_topics=pd.read_csv('data/X_train_topics.csv',index_col=0)\n",
    "X_test_topics=pd.read_csv('data/X_test_topics.csv',index_col=0)\n",
    "y_train_all=pd.read_csv('data/y_train_all.csv',index_col=0)\n",
    "y_test_all=pd.read_csv('data/y_test_all.csv',index_col=0)"
   ]
  },
  {
   "cell_type": "code",
   "execution_count": 148,
   "metadata": {
    "execution": {
     "iopub.execute_input": "2020-10-28T15:30:15.351663Z",
     "iopub.status.busy": "2020-10-28T15:30:15.347058Z",
     "iopub.status.idle": "2020-10-28T15:30:15.605964Z",
     "shell.execute_reply": "2020-10-28T15:30:15.605133Z",
     "shell.execute_reply.started": "2020-10-28T15:30:15.351070Z"
    }
   },
   "outputs": [],
   "source": [
    "X_train_all=pd.read_csv('data/X_train_all.csv',index_col=0)\n",
    "X_test_all=pd.read_csv('data/X_test_all.csv',index_col=0)\n",
    "y_train_all=pd.read_csv('data/y_train_all.csv',index_col=0)\n",
    "y_test_all=pd.read_csv('data/y_test_all.csv',index_col=0)"
   ]
  },
  {
   "cell_type": "code",
   "execution_count": 149,
   "metadata": {
    "execution": {
     "iopub.execute_input": "2020-10-28T15:30:16.502573Z",
     "iopub.status.busy": "2020-10-28T15:30:16.502354Z",
     "iopub.status.idle": "2020-10-28T15:30:16.514246Z",
     "shell.execute_reply": "2020-10-28T15:30:16.513628Z",
     "shell.execute_reply.started": "2020-10-28T15:30:16.502550Z"
    }
   },
   "outputs": [
    {
     "data": {
      "text/plain": [
       "Index(['E/I', 'N/S', 'F/T', 'P/J'], dtype='object')"
      ]
     },
     "execution_count": 149,
     "metadata": {},
     "output_type": "execute_result"
    }
   ],
   "source": [
    "y_train_all.columns[1:]"
   ]
  },
  {
   "cell_type": "code",
   "execution_count": 150,
   "metadata": {
    "execution": {
     "iopub.execute_input": "2020-10-28T15:30:17.336540Z",
     "iopub.status.busy": "2020-10-28T15:30:17.336287Z",
     "iopub.status.idle": "2020-10-28T15:30:17.344564Z",
     "shell.execute_reply": "2020-10-28T15:30:17.343925Z",
     "shell.execute_reply.started": "2020-10-28T15:30:17.336515Z"
    }
   },
   "outputs": [],
   "source": [
    "target = 'E/I'\n",
    "\n",
    "y_train = y_train_all[target]\n",
    "y_test = y_test_all[target]\n",
    "\n"
   ]
  },
  {
   "cell_type": "markdown",
   "metadata": {},
   "source": [
    "When setting up models toon extreme peramiters\n",
    "data prep\n",
    "trying out diffdrent models\n",
    "hyper perameters\n",
    "retrain train and val on model\n",
    "\n",
    "mvp of app to work first them come back"
   ]
  },
  {
   "cell_type": "code",
   "execution_count": 151,
   "metadata": {
    "execution": {
     "iopub.execute_input": "2020-10-28T15:30:19.259817Z",
     "iopub.status.busy": "2020-10-28T15:30:19.259593Z",
     "iopub.status.idle": "2020-10-28T15:30:19.288154Z",
     "shell.execute_reply": "2020-10-28T15:30:19.287467Z",
     "shell.execute_reply.started": "2020-10-28T15:30:19.259795Z"
    }
   },
   "outputs": [],
   "source": [
    "\n",
    "# defining and instantiating other models\n",
    "models = {\"Logistic Reg\": LogisticRegression(max_iter=5000), \n",
    "          \"Decision Tree\": DecisionTreeClassifier(),\n",
    "          \"Random Forest\": RandomForestClassifier(),\n",
    "          \"BernoulliNB\": BernoulliNB(),\n",
    "          \"MultinomialNB\": MultinomialNB(),\n",
    "          \"SVC\": SVC(),\n",
    "          'XGBoost': XGBClassifier()\n",
    "         }"
   ]
  },
  {
   "cell_type": "code",
   "execution_count": 152,
   "metadata": {
    "execution": {
     "iopub.execute_input": "2020-10-28T15:30:20.489922Z",
     "iopub.status.busy": "2020-10-28T15:30:20.489709Z",
     "iopub.status.idle": "2020-10-28T15:30:20.495863Z",
     "shell.execute_reply": "2020-10-28T15:30:20.495205Z",
     "shell.execute_reply.started": "2020-10-28T15:30:20.489899Z"
    }
   },
   "outputs": [],
   "source": [
    "def classification_reports_pipeline(X, y, model_name, model, oversampler):\n",
    "    \"\"\" For a given dataset and classification model, fits the model, predicts classes of\n",
    "    validation set, and returns the classification report showing precision, recall, f1 and \n",
    "    support for each class, as well as the average accuracy score. \"\"\"\n",
    "\n",
    "    X = np.array(X)\n",
    "    y = np.array(y)\n",
    "\n",
    "    # train-val split and oversample\n",
    "    X_train, X_val, y_train, y_val = train_test_split(\n",
    "        X, y, test_size=.2, random_state=0)\n",
    "    X_oversampled_train, y_oversampled_train = oversampler.fit_sample(\n",
    "        X_train, y_train)\n",
    "\n",
    "    model.fit(X_oversampled_train, np.array(y_oversampled_train).ravel())\n",
    "    y_pred = model.predict(X_val)\n",
    "\n",
    "    # print classification reports\n",
    "    print(model_name, classification_report(y_val, y_pred))"
   ]
  },
  {
   "cell_type": "markdown",
   "metadata": {},
   "source": [
    "# Removed sentiment and POS included Max_df and min_df  "
   ]
  },
  {
   "cell_type": "code",
   "execution_count": 155,
   "metadata": {
    "execution": {
     "iopub.execute_input": "2020-10-28T15:30:32.594941Z",
     "iopub.status.busy": "2020-10-28T15:30:32.594735Z",
     "iopub.status.idle": "2020-10-28T15:30:32.617128Z",
     "shell.execute_reply": "2020-10-28T15:30:32.616465Z",
     "shell.execute_reply.started": "2020-10-28T15:30:32.594920Z"
    }
   },
   "outputs": [
    {
     "data": {
      "text/html": [
       "<div>\n",
       "<style scoped>\n",
       "    .dataframe tbody tr th:only-of-type {\n",
       "        vertical-align: middle;\n",
       "    }\n",
       "\n",
       "    .dataframe tbody tr th {\n",
       "        vertical-align: top;\n",
       "    }\n",
       "\n",
       "    .dataframe thead th {\n",
       "        text-align: right;\n",
       "    }\n",
       "</style>\n",
       "<table border=\"1\" class=\"dataframe\">\n",
       "  <thead>\n",
       "    <tr style=\"text-align: right;\">\n",
       "      <th></th>\n",
       "      <th>neg</th>\n",
       "      <th>neu</th>\n",
       "      <th>pos</th>\n",
       "      <th>ADJ</th>\n",
       "      <th>ADP</th>\n",
       "      <th>ADV</th>\n",
       "      <th>AUX</th>\n",
       "      <th>CCONJ</th>\n",
       "      <th>DET</th>\n",
       "      <th>INTJ</th>\n",
       "      <th>...</th>\n",
       "      <th>function, mbti, test, cognitive, enneagram, personality, theory, result, description, introvert, read, preference, score, different, example</th>\n",
       "      <th>woman, man, sex, male, female, gender, wife, old, attractive, yes, need, sexual, society, tell, body</th>\n",
       "      <th>music, song, listen, band, lyric, favorite, play, rock, artist, favourite, taste, enjoy, sing, great, write</th>\n",
       "      <th>haha, yeah, hahaha, oh, yes, agree, exactly, kinda, mean, laugh, guess, person, hmm, definitely, man</th>\n",
       "      <th>esfj, estj, esfp, mother, mbti, sister, fe, mom, male, father, inferior, match, tend, agree, girlfriend</th>\n",
       "      <th>day, dream, today, sleep, night, hour, week, dear, wake, morning, walk, wish, eye, little, eat</th>\n",
       "      <th>book, movie, read, watch, character, film, write, favorite, series, finish, story, tv, fiction, anime, language</th>\n",
       "      <th>god, believe, religion, human, argument, exist, science, religious, belief, evidence, universe, claim, mean, atheist, point</th>\n",
       "      <th>relationship, date, boyfriend, year, month, ex, meet, tell, week, romantic, partner, sex, break, long, person</th>\n",
       "      <th>game, play, video, youtube, sport, watch, computer, series, win, buy, remember, anime, team, enjoy, favorite</th>\n",
       "    </tr>\n",
       "  </thead>\n",
       "  <tbody>\n",
       "    <tr>\n",
       "      <th>7278</th>\n",
       "      <td>0.089</td>\n",
       "      <td>0.747</td>\n",
       "      <td>0.164</td>\n",
       "      <td>118.0</td>\n",
       "      <td>190.0</td>\n",
       "      <td>154.0</td>\n",
       "      <td>106.0</td>\n",
       "      <td>80.0</td>\n",
       "      <td>187.0</td>\n",
       "      <td>5.0</td>\n",
       "      <td>...</td>\n",
       "      <td>0.00531</td>\n",
       "      <td>0.0</td>\n",
       "      <td>0.05446</td>\n",
       "      <td>0.00053</td>\n",
       "      <td>0.00000</td>\n",
       "      <td>0.09128</td>\n",
       "      <td>0.03352</td>\n",
       "      <td>0.00188</td>\n",
       "      <td>0.00000</td>\n",
       "      <td>0.01355</td>\n",
       "    </tr>\n",
       "    <tr>\n",
       "      <th>5736</th>\n",
       "      <td>0.083</td>\n",
       "      <td>0.763</td>\n",
       "      <td>0.155</td>\n",
       "      <td>119.0</td>\n",
       "      <td>166.0</td>\n",
       "      <td>145.0</td>\n",
       "      <td>138.0</td>\n",
       "      <td>63.0</td>\n",
       "      <td>170.0</td>\n",
       "      <td>13.0</td>\n",
       "      <td>...</td>\n",
       "      <td>0.02789</td>\n",
       "      <td>0.0</td>\n",
       "      <td>0.00000</td>\n",
       "      <td>0.00020</td>\n",
       "      <td>0.00061</td>\n",
       "      <td>0.00887</td>\n",
       "      <td>0.02649</td>\n",
       "      <td>0.00000</td>\n",
       "      <td>0.03552</td>\n",
       "      <td>0.01378</td>\n",
       "    </tr>\n",
       "    <tr>\n",
       "      <th>7512</th>\n",
       "      <td>0.066</td>\n",
       "      <td>0.748</td>\n",
       "      <td>0.186</td>\n",
       "      <td>118.0</td>\n",
       "      <td>128.0</td>\n",
       "      <td>111.0</td>\n",
       "      <td>127.0</td>\n",
       "      <td>49.0</td>\n",
       "      <td>158.0</td>\n",
       "      <td>9.0</td>\n",
       "      <td>...</td>\n",
       "      <td>0.04102</td>\n",
       "      <td>0.0</td>\n",
       "      <td>0.02326</td>\n",
       "      <td>0.00000</td>\n",
       "      <td>0.03757</td>\n",
       "      <td>0.00000</td>\n",
       "      <td>0.04250</td>\n",
       "      <td>0.01192</td>\n",
       "      <td>0.00058</td>\n",
       "      <td>0.00000</td>\n",
       "    </tr>\n",
       "    <tr>\n",
       "      <th>8277</th>\n",
       "      <td>0.089</td>\n",
       "      <td>0.744</td>\n",
       "      <td>0.167</td>\n",
       "      <td>108.0</td>\n",
       "      <td>118.0</td>\n",
       "      <td>142.0</td>\n",
       "      <td>123.0</td>\n",
       "      <td>66.0</td>\n",
       "      <td>159.0</td>\n",
       "      <td>12.0</td>\n",
       "      <td>...</td>\n",
       "      <td>0.01660</td>\n",
       "      <td>0.0</td>\n",
       "      <td>0.01978</td>\n",
       "      <td>0.05681</td>\n",
       "      <td>0.00000</td>\n",
       "      <td>0.01779</td>\n",
       "      <td>0.13127</td>\n",
       "      <td>0.00000</td>\n",
       "      <td>0.00000</td>\n",
       "      <td>0.05382</td>\n",
       "    </tr>\n",
       "    <tr>\n",
       "      <th>2186</th>\n",
       "      <td>0.123</td>\n",
       "      <td>0.724</td>\n",
       "      <td>0.153</td>\n",
       "      <td>41.0</td>\n",
       "      <td>50.0</td>\n",
       "      <td>43.0</td>\n",
       "      <td>40.0</td>\n",
       "      <td>14.0</td>\n",
       "      <td>52.0</td>\n",
       "      <td>4.0</td>\n",
       "      <td>...</td>\n",
       "      <td>0.00345</td>\n",
       "      <td>0.0</td>\n",
       "      <td>0.00000</td>\n",
       "      <td>0.00000</td>\n",
       "      <td>0.00000</td>\n",
       "      <td>0.02847</td>\n",
       "      <td>0.00000</td>\n",
       "      <td>0.04942</td>\n",
       "      <td>0.00000</td>\n",
       "      <td>0.00000</td>\n",
       "    </tr>\n",
       "  </tbody>\n",
       "</table>\n",
       "<p>5 rows × 61 columns</p>\n",
       "</div>"
      ],
      "text/plain": [
       "        neg    neu    pos    ADJ    ADP    ADV    AUX  CCONJ    DET  INTJ  \\\n",
       "7278  0.089  0.747  0.164  118.0  190.0  154.0  106.0   80.0  187.0   5.0   \n",
       "5736  0.083  0.763  0.155  119.0  166.0  145.0  138.0   63.0  170.0  13.0   \n",
       "7512  0.066  0.748  0.186  118.0  128.0  111.0  127.0   49.0  158.0   9.0   \n",
       "8277  0.089  0.744  0.167  108.0  118.0  142.0  123.0   66.0  159.0  12.0   \n",
       "2186  0.123  0.724  0.153   41.0   50.0   43.0   40.0   14.0   52.0   4.0   \n",
       "\n",
       "      ...  \\\n",
       "7278  ...   \n",
       "5736  ...   \n",
       "7512  ...   \n",
       "8277  ...   \n",
       "2186  ...   \n",
       "\n",
       "      function, mbti, test, cognitive, enneagram, personality, theory, result, description, introvert, read, preference, score, different, example  \\\n",
       "7278                                            0.00531                                                                                              \n",
       "5736                                            0.02789                                                                                              \n",
       "7512                                            0.04102                                                                                              \n",
       "8277                                            0.01660                                                                                              \n",
       "2186                                            0.00345                                                                                              \n",
       "\n",
       "      woman, man, sex, male, female, gender, wife, old, attractive, yes, need, sexual, society, tell, body  \\\n",
       "7278                                                0.0                                                      \n",
       "5736                                                0.0                                                      \n",
       "7512                                                0.0                                                      \n",
       "8277                                                0.0                                                      \n",
       "2186                                                0.0                                                      \n",
       "\n",
       "      music, song, listen, band, lyric, favorite, play, rock, artist, favourite, taste, enjoy, sing, great, write  \\\n",
       "7278                                            0.05446                                                             \n",
       "5736                                            0.00000                                                             \n",
       "7512                                            0.02326                                                             \n",
       "8277                                            0.01978                                                             \n",
       "2186                                            0.00000                                                             \n",
       "\n",
       "      haha, yeah, hahaha, oh, yes, agree, exactly, kinda, mean, laugh, guess, person, hmm, definitely, man  \\\n",
       "7278                                            0.00053                                                      \n",
       "5736                                            0.00020                                                      \n",
       "7512                                            0.00000                                                      \n",
       "8277                                            0.05681                                                      \n",
       "2186                                            0.00000                                                      \n",
       "\n",
       "      esfj, estj, esfp, mother, mbti, sister, fe, mom, male, father, inferior, match, tend, agree, girlfriend  \\\n",
       "7278                                            0.00000                                                         \n",
       "5736                                            0.00061                                                         \n",
       "7512                                            0.03757                                                         \n",
       "8277                                            0.00000                                                         \n",
       "2186                                            0.00000                                                         \n",
       "\n",
       "      day, dream, today, sleep, night, hour, week, dear, wake, morning, walk, wish, eye, little, eat  \\\n",
       "7278                                            0.09128                                                \n",
       "5736                                            0.00887                                                \n",
       "7512                                            0.00000                                                \n",
       "8277                                            0.01779                                                \n",
       "2186                                            0.02847                                                \n",
       "\n",
       "      book, movie, read, watch, character, film, write, favorite, series, finish, story, tv, fiction, anime, language  \\\n",
       "7278                                            0.03352                                                                 \n",
       "5736                                            0.02649                                                                 \n",
       "7512                                            0.04250                                                                 \n",
       "8277                                            0.13127                                                                 \n",
       "2186                                            0.00000                                                                 \n",
       "\n",
       "      god, believe, religion, human, argument, exist, science, religious, belief, evidence, universe, claim, mean, atheist, point  \\\n",
       "7278                                            0.00188                                                                             \n",
       "5736                                            0.00000                                                                             \n",
       "7512                                            0.01192                                                                             \n",
       "8277                                            0.00000                                                                             \n",
       "2186                                            0.04942                                                                             \n",
       "\n",
       "      relationship, date, boyfriend, year, month, ex, meet, tell, week, romantic, partner, sex, break, long, person  \\\n",
       "7278                                            0.00000                                                               \n",
       "5736                                            0.03552                                                               \n",
       "7512                                            0.00058                                                               \n",
       "8277                                            0.00000                                                               \n",
       "2186                                            0.00000                                                               \n",
       "\n",
       "      game, play, video, youtube, sport, watch, computer, series, win, buy, remember, anime, team, enjoy, favorite  \n",
       "7278                                            0.01355                                                             \n",
       "5736                                            0.01378                                                             \n",
       "7512                                            0.00000                                                             \n",
       "8277                                            0.05382                                                             \n",
       "2186                                            0.00000                                                             \n",
       "\n",
       "[5 rows x 61 columns]"
      ]
     },
     "execution_count": 155,
     "metadata": {},
     "output_type": "execute_result"
    }
   ],
   "source": [
    "X_train_all.head()"
   ]
  },
  {
   "cell_type": "code",
   "execution_count": null,
   "metadata": {},
   "outputs": [],
   "source": []
  },
  {
   "cell_type": "code",
   "execution_count": 158,
   "metadata": {
    "execution": {
     "iopub.execute_input": "2020-10-28T20:00:47.223720Z",
     "iopub.status.busy": "2020-10-28T20:00:47.219634Z",
     "iopub.status.idle": "2020-10-28T20:01:18.851508Z",
     "shell.execute_reply": "2020-10-28T20:01:18.850792Z",
     "shell.execute_reply.started": "2020-10-28T20:00:47.223638Z"
    }
   },
   "outputs": [
    {
     "name": "stdout",
     "output_type": "stream",
     "text": [
      "--------------------------------------------\n",
      "E/I\n",
      "Logistic Reg               precision    recall  f1-score   support\n",
      "\n",
      "           0       0.91      0.86      0.89       798\n",
      "           1       0.62      0.73      0.67       243\n",
      "\n",
      "    accuracy                           0.83      1041\n",
      "   macro avg       0.77      0.80      0.78      1041\n",
      "weighted avg       0.85      0.83      0.84      1041\n",
      "\n",
      " \n",
      "Decision Tree               precision    recall  f1-score   support\n",
      "\n",
      "           0       0.84      0.84      0.84       798\n",
      "           1       0.48      0.47      0.48       243\n",
      "\n",
      "    accuracy                           0.76      1041\n",
      "   macro avg       0.66      0.66      0.66      1041\n",
      "weighted avg       0.76      0.76      0.76      1041\n",
      "\n",
      " \n",
      "Random Forest               precision    recall  f1-score   support\n",
      "\n",
      "           0       0.86      0.97      0.91       798\n",
      "           1       0.82      0.46      0.59       243\n",
      "\n",
      "    accuracy                           0.85      1041\n",
      "   macro avg       0.84      0.71      0.75      1041\n",
      "weighted avg       0.85      0.85      0.83      1041\n",
      "\n",
      " \n",
      "BernoulliNB               precision    recall  f1-score   support\n",
      "\n",
      "           0       0.84      0.66      0.74       798\n",
      "           1       0.35      0.59      0.44       243\n",
      "\n",
      "    accuracy                           0.64      1041\n",
      "   macro avg       0.59      0.63      0.59      1041\n",
      "weighted avg       0.73      0.64      0.67      1041\n",
      "\n",
      " \n",
      "MultinomialNB               precision    recall  f1-score   support\n",
      "\n",
      "           0       0.80      0.60      0.69       798\n",
      "           1       0.28      0.52      0.37       243\n",
      "\n",
      "    accuracy                           0.58      1041\n",
      "   macro avg       0.54      0.56      0.53      1041\n",
      "weighted avg       0.68      0.58      0.61      1041\n",
      "\n",
      " \n",
      "SVC               precision    recall  f1-score   support\n",
      "\n",
      "           0       0.81      0.68      0.74       798\n",
      "           1       0.32      0.49      0.38       243\n",
      "\n",
      "    accuracy                           0.63      1041\n",
      "   macro avg       0.57      0.58      0.56      1041\n",
      "weighted avg       0.70      0.63      0.66      1041\n",
      "\n",
      " \n",
      "XGBoost               precision    recall  f1-score   support\n",
      "\n",
      "           0       0.89      0.94      0.91       798\n",
      "           1       0.75      0.62      0.68       243\n",
      "\n",
      "    accuracy                           0.86      1041\n",
      "   macro avg       0.82      0.78      0.79      1041\n",
      "weighted avg       0.86      0.86      0.86      1041\n",
      "\n",
      " \n",
      "--------------------------------------------\n",
      "N/S\n",
      "Logistic Reg               precision    recall  f1-score   support\n",
      "\n",
      "           0       0.40      0.73      0.52       143\n",
      "           1       0.95      0.83      0.88       898\n",
      "\n",
      "    accuracy                           0.81      1041\n",
      "   macro avg       0.68      0.78      0.70      1041\n",
      "weighted avg       0.88      0.81      0.83      1041\n",
      "\n",
      " \n",
      "Decision Tree               precision    recall  f1-score   support\n",
      "\n",
      "           0       0.44      0.42      0.43       143\n",
      "           1       0.91      0.91      0.91       898\n",
      "\n",
      "    accuracy                           0.85      1041\n",
      "   macro avg       0.67      0.67      0.67      1041\n",
      "weighted avg       0.84      0.85      0.84      1041\n",
      "\n",
      " \n",
      "Random Forest               precision    recall  f1-score   support\n",
      "\n",
      "           0       0.88      0.29      0.44       143\n",
      "           1       0.90      0.99      0.94       898\n",
      "\n",
      "    accuracy                           0.90      1041\n",
      "   macro avg       0.89      0.64      0.69      1041\n",
      "weighted avg       0.90      0.90      0.87      1041\n",
      "\n",
      " \n",
      "BernoulliNB               precision    recall  f1-score   support\n",
      "\n",
      "           0       0.21      0.57      0.30       143\n",
      "           1       0.91      0.65      0.76       898\n",
      "\n",
      "    accuracy                           0.64      1041\n",
      "   macro avg       0.56      0.61      0.53      1041\n",
      "weighted avg       0.81      0.64      0.70      1041\n",
      "\n",
      " \n",
      "MultinomialNB               precision    recall  f1-score   support\n",
      "\n",
      "           0       0.15      0.43      0.22       143\n",
      "           1       0.87      0.60      0.71       898\n",
      "\n",
      "    accuracy                           0.58      1041\n",
      "   macro avg       0.51      0.52      0.47      1041\n",
      "weighted avg       0.77      0.58      0.65      1041\n",
      "\n",
      " \n",
      "SVC               precision    recall  f1-score   support\n",
      "\n",
      "           0       0.16      0.51      0.24       143\n",
      "           1       0.88      0.56      0.69       898\n",
      "\n",
      "    accuracy                           0.56      1041\n",
      "   macro avg       0.52      0.54      0.46      1041\n",
      "weighted avg       0.78      0.56      0.63      1041\n",
      "\n",
      " \n",
      "XGBoost               precision    recall  f1-score   support\n",
      "\n",
      "           0       0.70      0.52      0.60       143\n",
      "           1       0.93      0.96      0.95       898\n",
      "\n",
      "    accuracy                           0.90      1041\n",
      "   macro avg       0.81      0.74      0.77      1041\n",
      "weighted avg       0.90      0.90      0.90      1041\n",
      "\n",
      " \n",
      "--------------------------------------------\n",
      "F/T\n",
      "Logistic Reg               precision    recall  f1-score   support\n",
      "\n",
      "           0       0.72      0.79      0.75       462\n",
      "           1       0.82      0.75      0.78       579\n",
      "\n",
      "    accuracy                           0.77      1041\n",
      "   macro avg       0.77      0.77      0.77      1041\n",
      "weighted avg       0.77      0.77      0.77      1041\n",
      "\n",
      " \n",
      "Decision Tree               precision    recall  f1-score   support\n",
      "\n",
      "           0       0.69      0.71      0.70       462\n",
      "           1       0.77      0.74      0.75       579\n",
      "\n",
      "    accuracy                           0.73      1041\n",
      "   macro avg       0.73      0.73      0.73      1041\n",
      "weighted avg       0.73      0.73      0.73      1041\n",
      "\n",
      " \n",
      "Random Forest               precision    recall  f1-score   support\n",
      "\n",
      "           0       0.79      0.79      0.79       462\n",
      "           1       0.83      0.83      0.83       579\n",
      "\n",
      "    accuracy                           0.81      1041\n",
      "   macro avg       0.81      0.81      0.81      1041\n",
      "weighted avg       0.81      0.81      0.81      1041\n",
      "\n",
      " \n",
      "BernoulliNB               precision    recall  f1-score   support\n",
      "\n",
      "           0       0.68      0.75      0.71       462\n",
      "           1       0.78      0.72      0.75       579\n",
      "\n",
      "    accuracy                           0.73      1041\n",
      "   macro avg       0.73      0.73      0.73      1041\n",
      "weighted avg       0.74      0.73      0.73      1041\n",
      "\n",
      " \n",
      "MultinomialNB               precision    recall  f1-score   support\n",
      "\n",
      "           0       0.54      0.62      0.58       462\n",
      "           1       0.65      0.57      0.61       579\n",
      "\n",
      "    accuracy                           0.59      1041\n",
      "   macro avg       0.59      0.60      0.59      1041\n",
      "weighted avg       0.60      0.59      0.59      1041\n",
      "\n",
      " \n",
      "SVC               precision    recall  f1-score   support\n",
      "\n",
      "           0       0.54      0.68      0.60       462\n",
      "           1       0.68      0.53      0.60       579\n",
      "\n",
      "    accuracy                           0.60      1041\n",
      "   macro avg       0.61      0.61      0.60      1041\n",
      "weighted avg       0.61      0.60      0.60      1041\n",
      "\n",
      " \n",
      "XGBoost               precision    recall  f1-score   support\n",
      "\n",
      "           0       0.79      0.83      0.81       462\n",
      "           1       0.86      0.83      0.84       579\n",
      "\n",
      "    accuracy                           0.83      1041\n",
      "   macro avg       0.83      0.83      0.83      1041\n",
      "weighted avg       0.83      0.83      0.83      1041\n",
      "\n",
      " \n",
      "--------------------------------------------\n",
      "P/J\n",
      "Logistic Reg               precision    recall  f1-score   support\n",
      "\n",
      "           0       0.64      0.68      0.66       407\n",
      "           1       0.78      0.76      0.77       634\n",
      "\n",
      "    accuracy                           0.72      1041\n",
      "   macro avg       0.71      0.72      0.71      1041\n",
      "weighted avg       0.73      0.72      0.73      1041\n",
      "\n",
      " \n",
      "Decision Tree               precision    recall  f1-score   support\n",
      "\n",
      "           0       0.62      0.59      0.60       407\n",
      "           1       0.74      0.77      0.76       634\n",
      "\n",
      "    accuracy                           0.70      1041\n",
      "   macro avg       0.68      0.68      0.68      1041\n",
      "weighted avg       0.70      0.70      0.70      1041\n",
      "\n",
      " \n",
      "Random Forest               precision    recall  f1-score   support\n",
      "\n",
      "           0       0.77      0.64      0.70       407\n",
      "           1       0.79      0.88      0.83       634\n",
      "\n",
      "    accuracy                           0.78      1041\n",
      "   macro avg       0.78      0.76      0.76      1041\n",
      "weighted avg       0.78      0.78      0.78      1041\n",
      "\n",
      " \n",
      "BernoulliNB               precision    recall  f1-score   support\n",
      "\n",
      "           0       0.47      0.58      0.52       407\n",
      "           1       0.68      0.59      0.63       634\n",
      "\n",
      "    accuracy                           0.58      1041\n",
      "   macro avg       0.58      0.58      0.58      1041\n",
      "weighted avg       0.60      0.58      0.59      1041\n",
      "\n",
      " \n",
      "MultinomialNB               precision    recall  f1-score   support\n",
      "\n",
      "           0       0.43      0.48      0.45       407\n",
      "           1       0.64      0.59      0.62       634\n",
      "\n",
      "    accuracy                           0.55      1041\n",
      "   macro avg       0.53      0.54      0.53      1041\n",
      "weighted avg       0.56      0.55      0.55      1041\n",
      "\n",
      " \n",
      "SVC               precision    recall  f1-score   support\n",
      "\n",
      "           0       0.43      0.52      0.47       407\n",
      "           1       0.64      0.55      0.59       634\n",
      "\n",
      "    accuracy                           0.54      1041\n",
      "   macro avg       0.53      0.54      0.53      1041\n",
      "weighted avg       0.56      0.54      0.54      1041\n",
      "\n",
      " \n",
      "XGBoost               precision    recall  f1-score   support\n",
      "\n",
      "           0       0.71      0.69      0.70       407\n",
      "           1       0.80      0.82      0.81       634\n",
      "\n",
      "    accuracy                           0.77      1041\n",
      "   macro avg       0.76      0.75      0.76      1041\n",
      "weighted avg       0.77      0.77      0.77      1041\n",
      "\n",
      " \n"
     ]
    }
   ],
   "source": [
    "for mb in y_train_all.columns[1:]:\n",
    "    # Update target variable\n",
    "    target = mb\n",
    "    print('--------------------------------------------' )\n",
    "    print(mb)\n",
    "    y_train = y_train_all[target]\n",
    "    y_test = y_test_all[target]\n",
    "    \n",
    "    for model_name, model in models.items():\n",
    "        classification_reports_pipeline(X_train_all, y_train, model_name, model, RandomOverSampler(random_state=42))\n",
    "        pd.to_pickle(model, f\"pickled_models/{mb.replace('/','')}_{model_name}.pkl\")\n",
    "        print(\" \")"
   ]
  },
  {
   "cell_type": "markdown",
   "metadata": {
    "collapsed": "true"
   },
   "source": [
    "# APPENDIX"
   ]
  },
  {
   "cell_type": "code",
   "execution_count": null,
   "metadata": {
    "execution": {
     "iopub.status.busy": "2020-10-27T18:13:48.582199Z",
     "iopub.status.idle": "2020-10-27T18:13:48.583162Z"
    }
   },
   "outputs": [],
   "source": [
    "for mb in y_train_all.columns[1:]:\n",
    "    # Update target variable\n",
    "    target = mb\n",
    "    print('--------------------------------------------' )\n",
    "    print(mb)\n",
    "    y_train = y_train_all[target]\n",
    "    y_test = y_test_all[target]\n",
    "    \n",
    "    for model_name, model in models.items():\n",
    "        classification_reports_pipeline(X_train_topics, y_train, model_name, model, RandomOverSampler(random_state=42))\n",
    "        pd.to_pickle(model, f\"pickled_models/{mb.replace('/','')}_{model_name}.pkl\")\n",
    "        print(\" \")"
   ]
  },
  {
   "cell_type": "markdown",
   "metadata": {},
   "source": [
    "### MBTI words filtered out and senitment/parts-of-speech included"
   ]
  },
  {
   "cell_type": "code",
   "execution_count": 64,
   "metadata": {
    "execution": {
     "iopub.execute_input": "2020-10-25T22:37:42.769183Z",
     "iopub.status.busy": "2020-10-25T22:37:42.768971Z",
     "iopub.status.idle": "2020-10-25T22:37:48.835309Z",
     "shell.execute_reply": "2020-10-25T22:37:48.834148Z",
     "shell.execute_reply.started": "2020-10-25T22:37:42.769160Z"
    }
   },
   "outputs": [
    {
     "name": "stdout",
     "output_type": "stream",
     "text": [
      "--------------------------------------------\n",
      "E/I\n",
      "Logistic Reg               precision    recall  f1-score   support\n",
      "\n",
      "           0       0.85      0.67      0.75       798\n",
      "           1       0.36      0.60      0.45       243\n",
      "\n",
      "    accuracy                           0.65      1041\n",
      "   macro avg       0.60      0.64      0.60      1041\n",
      "weighted avg       0.73      0.65      0.68      1041\n",
      "\n",
      " \n",
      "Decision Tree               precision    recall  f1-score   support\n",
      "\n",
      "           0       0.78      0.80      0.79       798\n",
      "           1       0.27      0.24      0.25       243\n",
      "\n",
      "    accuracy                           0.67      1041\n",
      "   macro avg       0.52      0.52      0.52      1041\n",
      "weighted avg       0.66      0.67      0.66      1041\n",
      "\n",
      " \n",
      "Random Forest               precision    recall  f1-score   support\n",
      "\n",
      "           0       0.77      0.98      0.87       798\n",
      "           1       0.48      0.06      0.10       243\n",
      "\n",
      "    accuracy                           0.77      1041\n",
      "   macro avg       0.63      0.52      0.48      1041\n",
      "weighted avg       0.71      0.77      0.69      1041\n",
      "\n",
      " \n",
      "BernoulliNB               precision    recall  f1-score   support\n",
      "\n",
      "           0       0.82      0.64      0.72       798\n",
      "           1       0.31      0.53      0.39       243\n",
      "\n",
      "    accuracy                           0.62      1041\n",
      "   macro avg       0.56      0.59      0.56      1041\n",
      "weighted avg       0.70      0.62      0.64      1041\n",
      "\n",
      " \n"
     ]
    },
    {
     "ename": "ValueError",
     "evalue": "Negative values in data passed to MultinomialNB (input X)",
     "output_type": "error",
     "traceback": [
      "\u001b[0;31m---------------------------------------------------------------------------\u001b[0m",
      "\u001b[0;31mValueError\u001b[0m                                Traceback (most recent call last)",
      "\u001b[0;32m<ipython-input-64-4b304756beef>\u001b[0m in \u001b[0;36m<module>\u001b[0;34m\u001b[0m\n\u001b[1;32m      8\u001b[0m \u001b[0;34m\u001b[0m\u001b[0m\n\u001b[1;32m      9\u001b[0m     \u001b[0;32mfor\u001b[0m \u001b[0mmodel_name\u001b[0m\u001b[0;34m,\u001b[0m \u001b[0mmodel\u001b[0m \u001b[0;32min\u001b[0m \u001b[0mmodels\u001b[0m\u001b[0;34m.\u001b[0m\u001b[0mitems\u001b[0m\u001b[0;34m(\u001b[0m\u001b[0;34m)\u001b[0m\u001b[0;34m:\u001b[0m\u001b[0;34m\u001b[0m\u001b[0;34m\u001b[0m\u001b[0m\n\u001b[0;32m---> 10\u001b[0;31m         \u001b[0mclassification_reports_pipeline\u001b[0m\u001b[0;34m(\u001b[0m\u001b[0mX_train_all\u001b[0m\u001b[0;34m,\u001b[0m \u001b[0my_train\u001b[0m\u001b[0;34m,\u001b[0m \u001b[0mmodel_name\u001b[0m\u001b[0;34m,\u001b[0m \u001b[0mmodel\u001b[0m\u001b[0;34m,\u001b[0m \u001b[0mRandomOverSampler\u001b[0m\u001b[0;34m(\u001b[0m\u001b[0mrandom_state\u001b[0m\u001b[0;34m=\u001b[0m\u001b[0;36m42\u001b[0m\u001b[0;34m)\u001b[0m\u001b[0;34m)\u001b[0m\u001b[0;34m\u001b[0m\u001b[0;34m\u001b[0m\u001b[0m\n\u001b[0m\u001b[1;32m     11\u001b[0m         \u001b[0mprint\u001b[0m\u001b[0;34m(\u001b[0m\u001b[0;34m\" \"\u001b[0m\u001b[0;34m)\u001b[0m\u001b[0;34m\u001b[0m\u001b[0;34m\u001b[0m\u001b[0m\n",
      "\u001b[0;32m<ipython-input-60-73f4ca750b5e>\u001b[0m in \u001b[0;36mclassification_reports_pipeline\u001b[0;34m(X, y, model_name, model, oversampler)\u001b[0m\n\u001b[1;32m     24\u001b[0m         \u001b[0my_pred\u001b[0m \u001b[0;34m=\u001b[0m \u001b[0mmodel\u001b[0m\u001b[0;34m.\u001b[0m\u001b[0mpredict\u001b[0m\u001b[0;34m(\u001b[0m\u001b[0mX_val\u001b[0m\u001b[0;34m,\u001b[0m \u001b[0mntree_limit\u001b[0m\u001b[0;34m=\u001b[0m\u001b[0mmodel\u001b[0m\u001b[0;34m.\u001b[0m\u001b[0mbest_ntree_limit\u001b[0m\u001b[0;34m)\u001b[0m\u001b[0;34m\u001b[0m\u001b[0;34m\u001b[0m\u001b[0m\n\u001b[1;32m     25\u001b[0m     \u001b[0;32melse\u001b[0m\u001b[0;34m:\u001b[0m\u001b[0;34m\u001b[0m\u001b[0;34m\u001b[0m\u001b[0m\n\u001b[0;32m---> 26\u001b[0;31m         \u001b[0mmodel\u001b[0m\u001b[0;34m.\u001b[0m\u001b[0mfit\u001b[0m\u001b[0;34m(\u001b[0m\u001b[0mX_oversampled_train\u001b[0m\u001b[0;34m,\u001b[0m \u001b[0mnp\u001b[0m\u001b[0;34m.\u001b[0m\u001b[0marray\u001b[0m\u001b[0;34m(\u001b[0m\u001b[0my_oversampled_train\u001b[0m\u001b[0;34m)\u001b[0m\u001b[0;34m.\u001b[0m\u001b[0mravel\u001b[0m\u001b[0;34m(\u001b[0m\u001b[0;34m)\u001b[0m\u001b[0;34m)\u001b[0m\u001b[0;34m\u001b[0m\u001b[0;34m\u001b[0m\u001b[0m\n\u001b[0m\u001b[1;32m     27\u001b[0m         \u001b[0my_pred\u001b[0m \u001b[0;34m=\u001b[0m \u001b[0mmodel\u001b[0m\u001b[0;34m.\u001b[0m\u001b[0mpredict\u001b[0m\u001b[0;34m(\u001b[0m\u001b[0mX_val\u001b[0m\u001b[0;34m)\u001b[0m\u001b[0;34m\u001b[0m\u001b[0;34m\u001b[0m\u001b[0m\n\u001b[1;32m     28\u001b[0m \u001b[0;34m\u001b[0m\u001b[0m\n",
      "\u001b[0;32m~/opt/anaconda3/envs/metis/lib/python3.8/site-packages/sklearn/naive_bayes.py\u001b[0m in \u001b[0;36mfit\u001b[0;34m(self, X, y, sample_weight)\u001b[0m\n\u001b[1;32m    639\u001b[0m \u001b[0;34m\u001b[0m\u001b[0m\n\u001b[1;32m    640\u001b[0m         \u001b[0mself\u001b[0m\u001b[0;34m.\u001b[0m\u001b[0m_init_counters\u001b[0m\u001b[0;34m(\u001b[0m\u001b[0mn_effective_classes\u001b[0m\u001b[0;34m,\u001b[0m \u001b[0mn_features\u001b[0m\u001b[0;34m)\u001b[0m\u001b[0;34m\u001b[0m\u001b[0;34m\u001b[0m\u001b[0m\n\u001b[0;32m--> 641\u001b[0;31m         \u001b[0mself\u001b[0m\u001b[0;34m.\u001b[0m\u001b[0m_count\u001b[0m\u001b[0;34m(\u001b[0m\u001b[0mX\u001b[0m\u001b[0;34m,\u001b[0m \u001b[0mY\u001b[0m\u001b[0;34m)\u001b[0m\u001b[0;34m\u001b[0m\u001b[0;34m\u001b[0m\u001b[0m\n\u001b[0m\u001b[1;32m    642\u001b[0m         \u001b[0malpha\u001b[0m \u001b[0;34m=\u001b[0m \u001b[0mself\u001b[0m\u001b[0;34m.\u001b[0m\u001b[0m_check_alpha\u001b[0m\u001b[0;34m(\u001b[0m\u001b[0;34m)\u001b[0m\u001b[0;34m\u001b[0m\u001b[0;34m\u001b[0m\u001b[0m\n\u001b[1;32m    643\u001b[0m         \u001b[0mself\u001b[0m\u001b[0;34m.\u001b[0m\u001b[0m_update_feature_log_prob\u001b[0m\u001b[0;34m(\u001b[0m\u001b[0malpha\u001b[0m\u001b[0;34m)\u001b[0m\u001b[0;34m\u001b[0m\u001b[0;34m\u001b[0m\u001b[0m\n",
      "\u001b[0;32m~/opt/anaconda3/envs/metis/lib/python3.8/site-packages/sklearn/naive_bayes.py\u001b[0m in \u001b[0;36m_count\u001b[0;34m(self, X, Y)\u001b[0m\n\u001b[1;32m    761\u001b[0m     \u001b[0;32mdef\u001b[0m \u001b[0m_count\u001b[0m\u001b[0;34m(\u001b[0m\u001b[0mself\u001b[0m\u001b[0;34m,\u001b[0m \u001b[0mX\u001b[0m\u001b[0;34m,\u001b[0m \u001b[0mY\u001b[0m\u001b[0;34m)\u001b[0m\u001b[0;34m:\u001b[0m\u001b[0;34m\u001b[0m\u001b[0;34m\u001b[0m\u001b[0m\n\u001b[1;32m    762\u001b[0m         \u001b[0;34m\"\"\"Count and smooth feature occurrences.\"\"\"\u001b[0m\u001b[0;34m\u001b[0m\u001b[0;34m\u001b[0m\u001b[0m\n\u001b[0;32m--> 763\u001b[0;31m         \u001b[0mcheck_non_negative\u001b[0m\u001b[0;34m(\u001b[0m\u001b[0mX\u001b[0m\u001b[0;34m,\u001b[0m \u001b[0;34m\"MultinomialNB (input X)\"\u001b[0m\u001b[0;34m)\u001b[0m\u001b[0;34m\u001b[0m\u001b[0;34m\u001b[0m\u001b[0m\n\u001b[0m\u001b[1;32m    764\u001b[0m         \u001b[0mself\u001b[0m\u001b[0;34m.\u001b[0m\u001b[0mfeature_count_\u001b[0m \u001b[0;34m+=\u001b[0m \u001b[0msafe_sparse_dot\u001b[0m\u001b[0;34m(\u001b[0m\u001b[0mY\u001b[0m\u001b[0;34m.\u001b[0m\u001b[0mT\u001b[0m\u001b[0;34m,\u001b[0m \u001b[0mX\u001b[0m\u001b[0;34m)\u001b[0m\u001b[0;34m\u001b[0m\u001b[0;34m\u001b[0m\u001b[0m\n\u001b[1;32m    765\u001b[0m         \u001b[0mself\u001b[0m\u001b[0;34m.\u001b[0m\u001b[0mclass_count_\u001b[0m \u001b[0;34m+=\u001b[0m \u001b[0mY\u001b[0m\u001b[0;34m.\u001b[0m\u001b[0msum\u001b[0m\u001b[0;34m(\u001b[0m\u001b[0maxis\u001b[0m\u001b[0;34m=\u001b[0m\u001b[0;36m0\u001b[0m\u001b[0;34m)\u001b[0m\u001b[0;34m\u001b[0m\u001b[0;34m\u001b[0m\u001b[0m\n",
      "\u001b[0;32m~/opt/anaconda3/envs/metis/lib/python3.8/site-packages/sklearn/utils/validation.py\u001b[0m in \u001b[0;36mcheck_non_negative\u001b[0;34m(X, whom)\u001b[0m\n\u001b[1;32m   1044\u001b[0m \u001b[0;34m\u001b[0m\u001b[0m\n\u001b[1;32m   1045\u001b[0m     \u001b[0;32mif\u001b[0m \u001b[0mX_min\u001b[0m \u001b[0;34m<\u001b[0m \u001b[0;36m0\u001b[0m\u001b[0;34m:\u001b[0m\u001b[0;34m\u001b[0m\u001b[0;34m\u001b[0m\u001b[0m\n\u001b[0;32m-> 1046\u001b[0;31m         \u001b[0;32mraise\u001b[0m \u001b[0mValueError\u001b[0m\u001b[0;34m(\u001b[0m\u001b[0;34m\"Negative values in data passed to %s\"\u001b[0m \u001b[0;34m%\u001b[0m \u001b[0mwhom\u001b[0m\u001b[0;34m)\u001b[0m\u001b[0;34m\u001b[0m\u001b[0;34m\u001b[0m\u001b[0m\n\u001b[0m\u001b[1;32m   1047\u001b[0m \u001b[0;34m\u001b[0m\u001b[0m\n\u001b[1;32m   1048\u001b[0m \u001b[0;34m\u001b[0m\u001b[0m\n",
      "\u001b[0;31mValueError\u001b[0m: Negative values in data passed to MultinomialNB (input X)"
     ]
    }
   ],
   "source": [
    "for mb in y_train_all.columns[1:]:\n",
    "    # Update target variable\n",
    "    target = mb\n",
    "    print('--------------------------------------------' )\n",
    "    print(mb)\n",
    "    y_train = y_train_all[target]\n",
    "    y_test = y_test_all[target]\n",
    "    \n",
    "    for model_name, model in models.items():\n",
    "        classification_reports_pipeline(X_train_all, y_train, model_name, model, RandomOverSampler(random_state=42))\n",
    "        print(\" \")"
   ]
  },
  {
   "cell_type": "markdown",
   "metadata": {},
   "source": [
    "### With MBTI words and sentiment/parts-of-speech"
   ]
  },
  {
   "cell_type": "code",
   "execution_count": 67,
   "metadata": {
    "execution": {
     "iopub.execute_input": "2020-10-25T22:39:56.822573Z",
     "iopub.status.busy": "2020-10-25T22:39:56.822359Z",
     "iopub.status.idle": "2020-10-25T22:39:57.002034Z",
     "shell.execute_reply": "2020-10-25T22:39:57.001330Z",
     "shell.execute_reply.started": "2020-10-25T22:39:56.822551Z"
    }
   },
   "outputs": [],
   "source": [
    "import pickle\n",
    "pd.to_pickle(SVC, 'SVC.pkl')"
   ]
  },
  {
   "cell_type": "code",
   "execution_count": 77,
   "metadata": {
    "execution": {
     "iopub.execute_input": "2020-10-25T23:24:15.295634Z",
     "iopub.status.busy": "2020-10-25T23:24:15.295376Z",
     "iopub.status.idle": "2020-10-25T23:24:46.544530Z",
     "shell.execute_reply": "2020-10-25T23:24:46.543621Z",
     "shell.execute_reply.started": "2020-10-25T23:24:15.295608Z"
    }
   },
   "outputs": [
    {
     "name": "stdout",
     "output_type": "stream",
     "text": [
      "--------------------------------------------\n",
      "E/I\n",
      "Logistic Reg               precision    recall  f1-score   support\n",
      "\n",
      "           0       0.91      0.85      0.88       798\n",
      "           1       0.60      0.72      0.65       243\n",
      "\n",
      "    accuracy                           0.82      1041\n",
      "   macro avg       0.75      0.78      0.76      1041\n",
      "weighted avg       0.84      0.82      0.83      1041\n",
      "\n",
      " \n",
      "Decision Tree               precision    recall  f1-score   support\n",
      "\n",
      "           0       0.85      0.87      0.86       798\n",
      "           1       0.53      0.50      0.52       243\n",
      "\n",
      "    accuracy                           0.78      1041\n",
      "   macro avg       0.69      0.68      0.69      1041\n",
      "weighted avg       0.78      0.78      0.78      1041\n",
      "\n",
      " \n",
      "Random Forest               precision    recall  f1-score   support\n",
      "\n",
      "           0       0.85      0.97      0.91       798\n",
      "           1       0.83      0.43      0.57       243\n",
      "\n",
      "    accuracy                           0.85      1041\n",
      "   macro avg       0.84      0.70      0.74      1041\n",
      "weighted avg       0.84      0.85      0.83      1041\n",
      "\n",
      " \n",
      "BernoulliNB               precision    recall  f1-score   support\n",
      "\n",
      "           0       0.84      0.65      0.74       798\n",
      "           1       0.35      0.60      0.44       243\n",
      "\n",
      "    accuracy                           0.64      1041\n",
      "   macro avg       0.60      0.63      0.59      1041\n",
      "weighted avg       0.73      0.64      0.67      1041\n",
      "\n",
      " \n",
      "MultinomialNB               precision    recall  f1-score   support\n",
      "\n",
      "           0       0.80      0.60      0.69       798\n",
      "           1       0.29      0.52      0.37       243\n",
      "\n",
      "    accuracy                           0.58      1041\n",
      "   macro avg       0.54      0.56      0.53      1041\n",
      "weighted avg       0.68      0.58      0.61      1041\n",
      "\n",
      " \n",
      "SVC               precision    recall  f1-score   support\n",
      "\n",
      "           0       0.81      0.68      0.74       798\n",
      "           1       0.32      0.49      0.38       243\n",
      "\n",
      "    accuracy                           0.63      1041\n",
      "   macro avg       0.57      0.58      0.56      1041\n",
      "weighted avg       0.70      0.63      0.66      1041\n",
      "\n",
      " \n",
      "--------------------------------------------\n",
      "N/S\n",
      "Logistic Reg               precision    recall  f1-score   support\n",
      "\n",
      "           0       0.39      0.74      0.51       143\n",
      "           1       0.95      0.82      0.88       898\n",
      "\n",
      "    accuracy                           0.81      1041\n",
      "   macro avg       0.67      0.78      0.70      1041\n",
      "weighted avg       0.88      0.81      0.83      1041\n",
      "\n",
      " \n",
      "Decision Tree               precision    recall  f1-score   support\n",
      "\n",
      "           0       0.48      0.46      0.47       143\n",
      "           1       0.91      0.92      0.92       898\n",
      "\n",
      "    accuracy                           0.86      1041\n",
      "   macro avg       0.70      0.69      0.69      1041\n",
      "weighted avg       0.86      0.86      0.86      1041\n",
      "\n",
      " \n",
      "Random Forest               precision    recall  f1-score   support\n",
      "\n",
      "           0       0.81      0.27      0.40       143\n",
      "           1       0.89      0.99      0.94       898\n",
      "\n",
      "    accuracy                           0.89      1041\n",
      "   macro avg       0.85      0.63      0.67      1041\n",
      "weighted avg       0.88      0.89      0.87      1041\n",
      "\n",
      " \n",
      "BernoulliNB               precision    recall  f1-score   support\n",
      "\n",
      "           0       0.24      0.62      0.35       143\n",
      "           1       0.92      0.69      0.79       898\n",
      "\n",
      "    accuracy                           0.68      1041\n",
      "   macro avg       0.58      0.65      0.57      1041\n",
      "weighted avg       0.83      0.68      0.73      1041\n",
      "\n",
      " \n",
      "MultinomialNB               precision    recall  f1-score   support\n",
      "\n",
      "           0       0.15      0.43      0.22       143\n",
      "           1       0.87      0.60      0.71       898\n",
      "\n",
      "    accuracy                           0.58      1041\n",
      "   macro avg       0.51      0.51      0.46      1041\n",
      "weighted avg       0.77      0.58      0.64      1041\n",
      "\n",
      " \n",
      "SVC               precision    recall  f1-score   support\n",
      "\n",
      "           0       0.16      0.51      0.24       143\n",
      "           1       0.88      0.56      0.69       898\n",
      "\n",
      "    accuracy                           0.56      1041\n",
      "   macro avg       0.52      0.54      0.46      1041\n",
      "weighted avg       0.78      0.56      0.63      1041\n",
      "\n",
      " \n",
      "--------------------------------------------\n",
      "F/T\n",
      "Logistic Reg               precision    recall  f1-score   support\n",
      "\n",
      "           0       0.70      0.76      0.73       462\n",
      "           1       0.80      0.73      0.76       579\n",
      "\n",
      "    accuracy                           0.75      1041\n",
      "   macro avg       0.75      0.75      0.75      1041\n",
      "weighted avg       0.75      0.75      0.75      1041\n",
      "\n",
      " \n",
      "Decision Tree               precision    recall  f1-score   support\n",
      "\n",
      "           0       0.68      0.73      0.70       462\n",
      "           1       0.77      0.73      0.75       579\n",
      "\n",
      "    accuracy                           0.73      1041\n",
      "   macro avg       0.73      0.73      0.73      1041\n",
      "weighted avg       0.73      0.73      0.73      1041\n",
      "\n",
      " \n",
      "Random Forest               precision    recall  f1-score   support\n",
      "\n",
      "           0       0.78      0.78      0.78       462\n",
      "           1       0.83      0.82      0.82       579\n",
      "\n",
      "    accuracy                           0.80      1041\n",
      "   macro avg       0.80      0.80      0.80      1041\n",
      "weighted avg       0.81      0.80      0.81      1041\n",
      "\n",
      " \n",
      "BernoulliNB               precision    recall  f1-score   support\n",
      "\n",
      "           0       0.68      0.72      0.70       462\n",
      "           1       0.76      0.73      0.75       579\n",
      "\n",
      "    accuracy                           0.73      1041\n",
      "   macro avg       0.72      0.73      0.72      1041\n",
      "weighted avg       0.73      0.73      0.73      1041\n",
      "\n",
      " \n",
      "MultinomialNB               precision    recall  f1-score   support\n",
      "\n",
      "           0       0.53      0.62      0.57       462\n",
      "           1       0.65      0.57      0.61       579\n",
      "\n",
      "    accuracy                           0.59      1041\n",
      "   macro avg       0.59      0.59      0.59      1041\n",
      "weighted avg       0.60      0.59      0.59      1041\n",
      "\n",
      " \n",
      "SVC               precision    recall  f1-score   support\n",
      "\n",
      "           0       0.54      0.68      0.60       462\n",
      "           1       0.68      0.53      0.60       579\n",
      "\n",
      "    accuracy                           0.60      1041\n",
      "   macro avg       0.61      0.61      0.60      1041\n",
      "weighted avg       0.61      0.60      0.60      1041\n",
      "\n",
      " \n",
      "--------------------------------------------\n",
      "P/J\n",
      "Logistic Reg               precision    recall  f1-score   support\n",
      "\n",
      "           0       0.63      0.68      0.65       407\n",
      "           1       0.78      0.74      0.76       634\n",
      "\n",
      "    accuracy                           0.72      1041\n",
      "   macro avg       0.70      0.71      0.71      1041\n",
      "weighted avg       0.72      0.72      0.72      1041\n",
      "\n",
      " \n",
      "Decision Tree               precision    recall  f1-score   support\n",
      "\n",
      "           0       0.63      0.63      0.63       407\n",
      "           1       0.76      0.77      0.76       634\n",
      "\n",
      "    accuracy                           0.71      1041\n",
      "   macro avg       0.70      0.70      0.70      1041\n",
      "weighted avg       0.71      0.71      0.71      1041\n",
      "\n",
      " \n",
      "Random Forest               precision    recall  f1-score   support\n",
      "\n",
      "           0       0.75      0.66      0.70       407\n",
      "           1       0.80      0.86      0.83       634\n",
      "\n",
      "    accuracy                           0.78      1041\n",
      "   macro avg       0.78      0.76      0.76      1041\n",
      "weighted avg       0.78      0.78      0.78      1041\n",
      "\n",
      " \n",
      "BernoulliNB               precision    recall  f1-score   support\n",
      "\n",
      "           0       0.49      0.59      0.53       407\n",
      "           1       0.70      0.60      0.65       634\n",
      "\n",
      "    accuracy                           0.60      1041\n",
      "   macro avg       0.59      0.60      0.59      1041\n",
      "weighted avg       0.62      0.60      0.60      1041\n",
      "\n",
      " \n",
      "MultinomialNB               precision    recall  f1-score   support\n",
      "\n",
      "           0       0.43      0.47      0.45       407\n",
      "           1       0.64      0.59      0.61       634\n",
      "\n",
      "    accuracy                           0.55      1041\n",
      "   macro avg       0.53      0.53      0.53      1041\n",
      "weighted avg       0.55      0.55      0.55      1041\n",
      "\n",
      " \n",
      "SVC               precision    recall  f1-score   support\n",
      "\n",
      "           0       0.43      0.52      0.47       407\n",
      "           1       0.64      0.55      0.59       634\n",
      "\n",
      "    accuracy                           0.54      1041\n",
      "   macro avg       0.53      0.54      0.53      1041\n",
      "weighted avg       0.56      0.54      0.54      1041\n",
      "\n",
      " \n"
     ]
    }
   ],
   "source": [
    "for mb in y_train_all.columns[1:]:\n",
    "    # Update target variable\n",
    "    target = mb\n",
    "    print('--------------------------------------------' )\n",
    "    print(mb)\n",
    "    y_train = y_train_all[target]\n",
    "    y_test = y_test_all[target]\n",
    "    \n",
    "    for model_name, model in models.items():\n",
    "        classification_reports_pipeline(X_train_all, y_train, model_name, model, RandomOverSampler(random_state=42))\n",
    "        pd.to_pickle(model, f\"pickled_models/{mb.replace('/','')}_{model_name}.pkl\")\n",
    "        print(\" \")"
   ]
  },
  {
   "cell_type": "markdown",
   "metadata": {},
   "source": [
    "### Original (just topic features and MBTI words included)"
   ]
  },
  {
   "cell_type": "code",
   "execution_count": 78,
   "metadata": {
    "execution": {
     "iopub.execute_input": "2020-10-25T23:29:48.831572Z",
     "iopub.status.busy": "2020-10-25T23:29:48.831359Z",
     "iopub.status.idle": "2020-10-25T23:29:48.905438Z",
     "shell.execute_reply": "2020-10-25T23:29:48.904421Z",
     "shell.execute_reply.started": "2020-10-25T23:29:48.831549Z"
    }
   },
   "outputs": [
    {
     "name": "stdout",
     "output_type": "stream",
     "text": [
      "--------------------------------------------\n",
      "E/I\n"
     ]
    },
    {
     "ename": "ValueError",
     "evalue": "Found input variables with inconsistent numbers of samples: [6505, 5204]",
     "output_type": "error",
     "traceback": [
      "\u001b[0;31m---------------------------------------------------------------------------\u001b[0m",
      "\u001b[0;31mValueError\u001b[0m                                Traceback (most recent call last)",
      "\u001b[0;32m<ipython-input-78-8f0f658113e8>\u001b[0m in \u001b[0;36m<module>\u001b[0;34m\u001b[0m\n\u001b[1;32m      8\u001b[0m \u001b[0;34m\u001b[0m\u001b[0m\n\u001b[1;32m      9\u001b[0m     \u001b[0;32mfor\u001b[0m \u001b[0mmodel_name\u001b[0m\u001b[0;34m,\u001b[0m \u001b[0mmodel\u001b[0m \u001b[0;32min\u001b[0m \u001b[0mmodels\u001b[0m\u001b[0;34m.\u001b[0m\u001b[0mitems\u001b[0m\u001b[0;34m(\u001b[0m\u001b[0;34m)\u001b[0m\u001b[0;34m:\u001b[0m\u001b[0;34m\u001b[0m\u001b[0;34m\u001b[0m\u001b[0m\n\u001b[0;32m---> 10\u001b[0;31m         \u001b[0mclassification_reports_pipeline\u001b[0m\u001b[0;34m(\u001b[0m\u001b[0mX_train_topics\u001b[0m\u001b[0;34m,\u001b[0m \u001b[0my_train\u001b[0m\u001b[0;34m,\u001b[0m \u001b[0mmodel_name\u001b[0m\u001b[0;34m,\u001b[0m \u001b[0mmodel\u001b[0m\u001b[0;34m,\u001b[0m \u001b[0mRandomOverSampler\u001b[0m\u001b[0;34m(\u001b[0m\u001b[0mrandom_state\u001b[0m\u001b[0;34m=\u001b[0m\u001b[0;36m42\u001b[0m\u001b[0;34m)\u001b[0m\u001b[0;34m)\u001b[0m\u001b[0;34m\u001b[0m\u001b[0;34m\u001b[0m\u001b[0m\n\u001b[0m\u001b[1;32m     11\u001b[0m         \u001b[0mprint\u001b[0m\u001b[0;34m(\u001b[0m\u001b[0;34m\" \"\u001b[0m\u001b[0;34m)\u001b[0m\u001b[0;34m\u001b[0m\u001b[0;34m\u001b[0m\u001b[0m\n",
      "\u001b[0;32m<ipython-input-72-73f4ca750b5e>\u001b[0m in \u001b[0;36mclassification_reports_pipeline\u001b[0;34m(X, y, model_name, model, oversampler)\u001b[0m\n\u001b[1;32m      8\u001b[0m \u001b[0;34m\u001b[0m\u001b[0m\n\u001b[1;32m      9\u001b[0m     \u001b[0;31m# train-val split and oversample\u001b[0m\u001b[0;34m\u001b[0m\u001b[0;34m\u001b[0m\u001b[0;34m\u001b[0m\u001b[0m\n\u001b[0;32m---> 10\u001b[0;31m     X_train, X_val, y_train, y_val = train_test_split(\n\u001b[0m\u001b[1;32m     11\u001b[0m         X, y, test_size=.2, random_state=0)\n\u001b[1;32m     12\u001b[0m     X_oversampled_train, y_oversampled_train = oversampler.fit_sample(\n",
      "\u001b[0;32m~/opt/anaconda3/envs/metis/lib/python3.8/site-packages/sklearn/model_selection/_split.py\u001b[0m in \u001b[0;36mtrain_test_split\u001b[0;34m(*arrays, **options)\u001b[0m\n\u001b[1;32m   2125\u001b[0m         \u001b[0;32mraise\u001b[0m \u001b[0mTypeError\u001b[0m\u001b[0;34m(\u001b[0m\u001b[0;34m\"Invalid parameters passed: %s\"\u001b[0m \u001b[0;34m%\u001b[0m \u001b[0mstr\u001b[0m\u001b[0;34m(\u001b[0m\u001b[0moptions\u001b[0m\u001b[0;34m)\u001b[0m\u001b[0;34m)\u001b[0m\u001b[0;34m\u001b[0m\u001b[0;34m\u001b[0m\u001b[0m\n\u001b[1;32m   2126\u001b[0m \u001b[0;34m\u001b[0m\u001b[0m\n\u001b[0;32m-> 2127\u001b[0;31m     \u001b[0marrays\u001b[0m \u001b[0;34m=\u001b[0m \u001b[0mindexable\u001b[0m\u001b[0;34m(\u001b[0m\u001b[0;34m*\u001b[0m\u001b[0marrays\u001b[0m\u001b[0;34m)\u001b[0m\u001b[0;34m\u001b[0m\u001b[0;34m\u001b[0m\u001b[0m\n\u001b[0m\u001b[1;32m   2128\u001b[0m \u001b[0;34m\u001b[0m\u001b[0m\n\u001b[1;32m   2129\u001b[0m     \u001b[0mn_samples\u001b[0m \u001b[0;34m=\u001b[0m \u001b[0m_num_samples\u001b[0m\u001b[0;34m(\u001b[0m\u001b[0marrays\u001b[0m\u001b[0;34m[\u001b[0m\u001b[0;36m0\u001b[0m\u001b[0;34m]\u001b[0m\u001b[0;34m)\u001b[0m\u001b[0;34m\u001b[0m\u001b[0;34m\u001b[0m\u001b[0m\n",
      "\u001b[0;32m~/opt/anaconda3/envs/metis/lib/python3.8/site-packages/sklearn/utils/validation.py\u001b[0m in \u001b[0;36mindexable\u001b[0;34m(*iterables)\u001b[0m\n\u001b[1;32m    290\u001b[0m     \"\"\"\n\u001b[1;32m    291\u001b[0m     \u001b[0mresult\u001b[0m \u001b[0;34m=\u001b[0m \u001b[0;34m[\u001b[0m\u001b[0m_make_indexable\u001b[0m\u001b[0;34m(\u001b[0m\u001b[0mX\u001b[0m\u001b[0;34m)\u001b[0m \u001b[0;32mfor\u001b[0m \u001b[0mX\u001b[0m \u001b[0;32min\u001b[0m \u001b[0miterables\u001b[0m\u001b[0;34m]\u001b[0m\u001b[0;34m\u001b[0m\u001b[0;34m\u001b[0m\u001b[0m\n\u001b[0;32m--> 292\u001b[0;31m     \u001b[0mcheck_consistent_length\u001b[0m\u001b[0;34m(\u001b[0m\u001b[0;34m*\u001b[0m\u001b[0mresult\u001b[0m\u001b[0;34m)\u001b[0m\u001b[0;34m\u001b[0m\u001b[0;34m\u001b[0m\u001b[0m\n\u001b[0m\u001b[1;32m    293\u001b[0m     \u001b[0;32mreturn\u001b[0m \u001b[0mresult\u001b[0m\u001b[0;34m\u001b[0m\u001b[0;34m\u001b[0m\u001b[0m\n\u001b[1;32m    294\u001b[0m \u001b[0;34m\u001b[0m\u001b[0m\n",
      "\u001b[0;32m~/opt/anaconda3/envs/metis/lib/python3.8/site-packages/sklearn/utils/validation.py\u001b[0m in \u001b[0;36mcheck_consistent_length\u001b[0;34m(*arrays)\u001b[0m\n\u001b[1;32m    253\u001b[0m     \u001b[0muniques\u001b[0m \u001b[0;34m=\u001b[0m \u001b[0mnp\u001b[0m\u001b[0;34m.\u001b[0m\u001b[0munique\u001b[0m\u001b[0;34m(\u001b[0m\u001b[0mlengths\u001b[0m\u001b[0;34m)\u001b[0m\u001b[0;34m\u001b[0m\u001b[0;34m\u001b[0m\u001b[0m\n\u001b[1;32m    254\u001b[0m     \u001b[0;32mif\u001b[0m \u001b[0mlen\u001b[0m\u001b[0;34m(\u001b[0m\u001b[0muniques\u001b[0m\u001b[0;34m)\u001b[0m \u001b[0;34m>\u001b[0m \u001b[0;36m1\u001b[0m\u001b[0;34m:\u001b[0m\u001b[0;34m\u001b[0m\u001b[0;34m\u001b[0m\u001b[0m\n\u001b[0;32m--> 255\u001b[0;31m         raise ValueError(\"Found input variables with inconsistent numbers of\"\n\u001b[0m\u001b[1;32m    256\u001b[0m                          \" samples: %r\" % [int(l) for l in lengths])\n\u001b[1;32m    257\u001b[0m \u001b[0;34m\u001b[0m\u001b[0m\n",
      "\u001b[0;31mValueError\u001b[0m: Found input variables with inconsistent numbers of samples: [6505, 5204]"
     ]
    }
   ],
   "source": [
    "for mb in y_train_all.columns[1:]:\n",
    "    # Update target variable\n",
    "    target = mb\n",
    "    print('--------------------------------------------' )\n",
    "    print(mb)\n",
    "    y_train = y_train_all[target]\n",
    "    y_test = y_test_all[target]\n",
    "    \n",
    "    for model_name, model in models.items():\n",
    "        classification_reports_pipeline(X_train_topics, y_train, model_name, model, RandomOverSampler(random_state=42))\n",
    "        print(\" \")"
   ]
  },
  {
   "cell_type": "code",
   "execution_count": 26,
   "metadata": {
    "execution": {
     "iopub.execute_input": "2020-10-24T16:53:21.820115Z",
     "iopub.status.busy": "2020-10-24T16:53:21.819898Z",
     "iopub.status.idle": "2020-10-24T16:53:22.496404Z",
     "shell.execute_reply": "2020-10-24T16:53:22.495767Z",
     "shell.execute_reply.started": "2020-10-24T16:53:21.820092Z"
    }
   },
   "outputs": [
    {
     "name": "stdout",
     "output_type": "stream",
     "text": [
      "SVC               precision    recall  f1-score   support\n",
      "\n",
      "           0       0.74      0.80      0.77       513\n",
      "           1       0.86      0.82      0.84       788\n",
      "\n",
      "    accuracy                           0.81      1301\n",
      "   macro avg       0.80      0.81      0.80      1301\n",
      "weighted avg       0.81      0.81      0.81      1301\n",
      "\n"
     ]
    }
   ],
   "source": [
    "classification_reports_pipeline(X_train_topics, y_train,    print( ), RandomUnderSampler())"
   ]
  },
  {
   "cell_type": "code",
   "execution_count": 18,
   "metadata": {
    "execution": {
     "iopub.execute_input": "2020-10-24T16:45:35.658406Z",
     "iopub.status.busy": "2020-10-24T16:45:35.658178Z",
     "iopub.status.idle": "2020-10-24T16:47:56.213552Z",
     "shell.execute_reply": "2020-10-24T16:47:56.213083Z",
     "shell.execute_reply.started": "2020-10-24T16:45:35.658382Z"
    }
   },
   "outputs": [
    {
     "name": "stdout",
     "output_type": "stream",
     "text": [
      "E/I 10-fold mean score for LogisticRegression():  0.8187522155264091\n",
      "\n",
      "N/S 10-fold mean score for LogisticRegression():  0.8608812477844735\n",
      "\n",
      "F/T 10-fold mean score for LogisticRegression():  0.8359711686163299\n",
      "\n",
      "P/J 10-fold mean score for LogisticRegression():  0.794767340186695\n",
      "\n",
      "E/I 10-fold mean score for MultinomialNB(alpha=1000):  0.8249065343258891\n",
      "\n",
      "N/S 10-fold mean score for MultinomialNB(alpha=1000):  0.8513479853479854\n",
      "\n",
      "F/T 10-fold mean score for MultinomialNB(alpha=1000):  0.8350454921422662\n",
      "\n",
      "P/J 10-fold mean score for MultinomialNB(alpha=1000):  0.7852385678837293\n",
      "\n",
      "E/I 10-fold mean score for SVC():  0.8267425262909134\n",
      "\n",
      "N/S 10-fold mean score for SVC():  0.8418166134940328\n",
      "\n",
      "F/T 10-fold mean score for SVC():  0.852574500768049\n",
      "\n",
      "P/J 10-fold mean score for SVC():  0.8087545787545787\n",
      "\n",
      "E/I 10-fold mean score for RandomForestClassifier():  0.811526645397613\n",
      "\n",
      "N/S 10-fold mean score for RandomForestClassifier():  0.8256774193548386\n",
      "\n",
      "F/T 10-fold mean score for RandomForestClassifier():  0.8468890464374337\n",
      "\n",
      "P/J 10-fold mean score for RandomForestClassifier():  0.8089096065225096\n",
      "\n",
      "E/I 10-fold mean score for GradientBoostingClassifier():  0.826900153609831\n",
      "\n",
      "N/S 10-fold mean score for GradientBoostingClassifier():  0.8364374335342075\n",
      "\n",
      "F/T 10-fold mean score for GradientBoostingClassifier():  0.8519588798298475\n",
      "\n",
      "P/J 10-fold mean score for GradientBoostingClassifier():  0.8093730355665839\n",
      "\n"
     ]
    },
    {
     "data": {
      "image/png": "[encoded data removed]",
      "text/plain": [
       "<Figure size 432x288 with 1 Axes>"
      ]
     },
     "metadata": {
      "needs_background": "light"
     },
     "output_type": "display_data"
    }
   ],
   "source": [
    "for model in [LogisticRegression(), MultinomialNB(alpha=1000), SVC(), RandomForestClassifier(), GradientBoostingClassifier()]:\n",
    "    for mb in y_train_all.columns[1:]:\n",
    "        # Update target variable\n",
    "        target = mb\n",
    "\n",
    "        y_train = y_train_all[target]\n",
    "        y_test = y_test_all[target]\n",
    "        y_train.hist()\n",
    "\n",
    "        imba_pipeline = make_pipeline(RandomUnderSampler(), \n",
    "                                      model)\n",
    "        cross_val_scores = cross_val_score(imba_pipeline, X_train_topics, y_train, scoring='accuracy', cv=10)\n",
    "#         print(cross_val_scores)\n",
    "        print(f'{mb} 10-fold mean score for {model}: ', np.mean(cross_val_scores))\n",
    "        print()"
   ]
  },
  {
   "cell_type": "code",
   "execution_count": 130,
   "metadata": {
    "execution": {
     "iopub.execute_input": "2020-10-23T17:14:49.413219Z",
     "iopub.status.busy": "2020-10-23T17:14:49.412984Z",
     "iopub.status.idle": "2020-10-23T17:14:49.582566Z",
     "shell.execute_reply": "2020-10-23T17:14:49.581856Z",
     "shell.execute_reply.started": "2020-10-23T17:14:49.413192Z"
    }
   },
   "outputs": [
    {
     "data": {
      "text/plain": [
       "<matplotlib.axes._subplots.AxesSubplot at 0x7fc464231e20>"
      ]
     },
     "execution_count": 130,
     "metadata": {},
     "output_type": "execute_result"
    },
    {
     "data": {
      "image/png": "[encoded data removed]",
      "text/plain": [
       "<Figure size 432x288 with 1 Axes>"
      ]
     },
     "metadata": {
      "needs_background": "light"
     },
     "output_type": "display_data"
    }
   ],
   "source": [
    "y_train.hist()"
   ]
  },
  {
   "cell_type": "markdown",
   "metadata": {},
   "source": [
    "### Try classifying using Logistic Regression"
   ]
  },
  {
   "cell_type": "code",
   "execution_count": 131,
   "metadata": {
    "execution": {
     "iopub.execute_input": "2020-10-23T17:14:56.854364Z",
     "iopub.status.busy": "2020-10-23T17:14:56.854129Z",
     "iopub.status.idle": "2020-10-23T17:14:56.859150Z",
     "shell.execute_reply": "2020-10-23T17:14:56.858467Z",
     "shell.execute_reply.started": "2020-10-23T17:14:56.854339Z"
    }
   },
   "outputs": [],
   "source": [
    "# Create a logistic regression model to use\n",
    "from sklearn.linear_model import LogisticRegression\n",
    "lr = LogisticRegression(class_weight = 'balanced')"
   ]
  },
  {
   "cell_type": "code",
   "execution_count": 132,
   "metadata": {
    "execution": {
     "iopub.execute_input": "2020-10-23T17:14:57.197427Z",
     "iopub.status.busy": "2020-10-23T17:14:57.197195Z",
     "iopub.status.idle": "2020-10-23T17:14:57.233532Z",
     "shell.execute_reply": "2020-10-23T17:14:57.232753Z",
     "shell.execute_reply.started": "2020-10-23T17:14:57.197397Z"
    }
   },
   "outputs": [],
   "source": [
    "# Train the first model\n",
    "lr.fit(X_train_topics, y_train)\n",
    "y_pred_topics = lr.predict(X_test_topics)"
   ]
  },
  {
   "cell_type": "code",
   "execution_count": 133,
   "metadata": {
    "execution": {
     "iopub.execute_input": "2020-10-23T17:14:57.404103Z",
     "iopub.status.busy": "2020-10-23T17:14:57.403861Z",
     "iopub.status.idle": "2020-10-23T17:14:57.424780Z",
     "shell.execute_reply": "2020-10-23T17:14:57.424067Z",
     "shell.execute_reply.started": "2020-10-23T17:14:57.404077Z"
    }
   },
   "outputs": [],
   "source": [
    "# Create a function to calculate the error metrics, since we'll be doing this several times\n",
    "from sklearn.metrics import confusion_matrix\n",
    "import matplotlib.pyplot as plt\n",
    "import seaborn as sns\n",
    "%matplotlib inline\n",
    "\n",
    "def conf_matrix(actual, predicted):\n",
    "    cm = confusion_matrix(actual, predicted)\n",
    "    sns.heatmap(cm, xticklabels=['predicted_negative', 'predicted_positive'], \n",
    "                yticklabels=['actual_negative', 'actual_positive'], annot=True,\n",
    "                fmt='d', annot_kws={'fontsize':20}, cmap=\"YlGnBu\");\n",
    "\n",
    "    true_neg, false_pos = cm[0]\n",
    "    false_neg, true_pos = cm[1]\n",
    "\n",
    "    accuracy = round((true_pos + true_neg) / (true_pos + true_neg + false_pos + false_neg),3)\n",
    "    precision = round((true_pos) / (true_pos + false_pos),3)\n",
    "    recall = round((true_pos) / (true_pos + false_neg),3)\n",
    "    f1 = round(2 * (precision * recall) / (precision + recall),3)\n",
    "\n",
    "    cm_results = [accuracy, precision, recall, f1]\n",
    "    return cm_results"
   ]
  },
  {
   "cell_type": "code",
   "execution_count": 135,
   "metadata": {
    "execution": {
     "iopub.execute_input": "2020-10-23T17:15:10.475437Z",
     "iopub.status.busy": "2020-10-23T17:15:10.475202Z",
     "iopub.status.idle": "2020-10-23T17:15:10.999384Z",
     "shell.execute_reply": "2020-10-23T17:15:10.998925Z",
     "shell.execute_reply.started": "2020-10-23T17:15:10.475413Z"
    }
   },
   "outputs": [
    {
     "data": {
      "image/png": "[encoded data removed]",
      "text/plain": [
       "<Figure size 432x288 with 2 Axes>"
      ]
     },
     "metadata": {
      "needs_background": "light"
     },
     "output_type": "display_data"
    }
   ],
   "source": [
    "# The heat map for the first logistic regression model\n",
    "cm1 = conf_matrix(y_test, y_pred_topics)"
   ]
  },
  {
   "cell_type": "code",
   "execution_count": 136,
   "metadata": {
    "execution": {
     "iopub.execute_input": "2020-10-23T17:15:11.739789Z",
     "iopub.status.busy": "2020-10-23T17:15:11.739573Z",
     "iopub.status.idle": "2020-10-23T17:15:11.753698Z",
     "shell.execute_reply": "2020-10-23T17:15:11.752809Z",
     "shell.execute_reply.started": "2020-10-23T17:15:11.739765Z"
    }
   },
   "outputs": [
    {
     "data": {
      "text/html": [
       "<div>\n",
       "<style scoped>\n",
       "    .dataframe tbody tr th:only-of-type {\n",
       "        vertical-align: middle;\n",
       "    }\n",
       "\n",
       "    .dataframe tbody tr th {\n",
       "        vertical-align: top;\n",
       "    }\n",
       "\n",
       "    .dataframe thead th {\n",
       "        text-align: right;\n",
       "    }\n",
       "</style>\n",
       "<table border=\"1\" class=\"dataframe\">\n",
       "  <thead>\n",
       "    <tr style=\"text-align: right;\">\n",
       "      <th></th>\n",
       "      <th>LogReg1</th>\n",
       "    </tr>\n",
       "  </thead>\n",
       "  <tbody>\n",
       "    <tr>\n",
       "      <th>Accuracy</th>\n",
       "      <td>0.841</td>\n",
       "    </tr>\n",
       "    <tr>\n",
       "      <th>Precision</th>\n",
       "      <td>0.650</td>\n",
       "    </tr>\n",
       "    <tr>\n",
       "      <th>Recall</th>\n",
       "      <td>0.733</td>\n",
       "    </tr>\n",
       "    <tr>\n",
       "      <th>F1 Score</th>\n",
       "      <td>0.689</td>\n",
       "    </tr>\n",
       "  </tbody>\n",
       "</table>\n",
       "</div>"
      ],
      "text/plain": [
       "           LogReg1\n",
       "Accuracy     0.841\n",
       "Precision    0.650\n",
       "Recall       0.733\n",
       "F1 Score     0.689"
      ]
     },
     "execution_count": 136,
     "metadata": {},
     "output_type": "execute_result"
    }
   ],
   "source": [
    "# Compile all of the error metrics into a dataframe for comparison\n",
    "results = pd.DataFrame(list(zip(cm1)))\n",
    "results = results.set_index([['Accuracy', 'Precision', 'Recall', 'F1 Score']])\n",
    "results.columns = ['LogReg1']\n",
    "results"
   ]
  },
  {
   "cell_type": "markdown",
   "metadata": {},
   "source": [
    "### Try classifying using Naive Bayes"
   ]
  },
  {
   "cell_type": "code",
   "execution_count": 12,
   "metadata": {
    "execution": {
     "iopub.execute_input": "2020-10-22T08:03:23.841807Z",
     "iopub.status.busy": "2020-10-22T08:03:23.841582Z",
     "iopub.status.idle": "2020-10-22T08:03:23.846311Z",
     "shell.execute_reply": "2020-10-22T08:03:23.845553Z",
     "shell.execute_reply.started": "2020-10-22T08:03:23.841784Z"
    }
   },
   "outputs": [
    {
     "name": "stdout",
     "output_type": "stream",
     "text": [
      "(6505,)\n"
     ]
    },
    {
     "data": {
      "text/plain": [
       "(6505, 40)"
      ]
     },
     "execution_count": 12,
     "metadata": {},
     "output_type": "execute_result"
    }
   ],
   "source": [
    "print(y_train.shape)\n",
    "X_train_topics.shape"
   ]
  },
  {
   "cell_type": "code",
   "execution_count": 13,
   "metadata": {
    "execution": {
     "iopub.execute_input": "2020-10-22T08:03:24.211893Z",
     "iopub.status.busy": "2020-10-22T08:03:24.211673Z",
     "iopub.status.idle": "2020-10-22T08:03:24.224748Z",
     "shell.execute_reply": "2020-10-22T08:03:24.223840Z",
     "shell.execute_reply.started": "2020-10-22T08:03:24.211870Z"
    }
   },
   "outputs": [],
   "source": [
    "# Fit the first Naive Bayes model\n",
    "from sklearn.naive_bayes import MultinomialNB\n",
    "\n",
    "mnb = MultinomialNB()\n",
    "mnb.fit(X_train_topics, y_train)\n",
    "\n",
    "y_pred_topics_nb = mnb.predict(X_test_topics)"
   ]
  },
  {
   "cell_type": "code",
   "execution_count": 14,
   "metadata": {
    "execution": {
     "iopub.execute_input": "2020-10-22T08:03:27.355520Z",
     "iopub.status.busy": "2020-10-22T08:03:27.355297Z",
     "iopub.status.idle": "2020-10-22T08:03:27.371922Z",
     "shell.execute_reply": "2020-10-22T08:03:27.370863Z",
     "shell.execute_reply.started": "2020-10-22T08:03:27.355496Z"
    }
   },
   "outputs": [],
   "source": [
    "# Fit the second Naive Bayes model\n",
    "from sklearn.naive_bayes import BernoulliNB\n",
    "\n",
    "bnb = BernoulliNB()\n",
    "bnb.fit(X_train_topics, y_train)\n",
    "\n",
    "y_pred_nb = bnb.predict(X_test_topics)"
   ]
  },
  {
   "cell_type": "code",
   "execution_count": 15,
   "metadata": {
    "execution": {
     "iopub.execute_input": "2020-10-22T08:03:28.502249Z",
     "iopub.status.busy": "2020-10-22T08:03:28.501903Z",
     "iopub.status.idle": "2020-10-22T08:03:28.672174Z",
     "shell.execute_reply": "2020-10-22T08:03:28.671398Z",
     "shell.execute_reply.started": "2020-10-22T08:03:28.502225Z"
    }
   },
   "outputs": [
    {
     "data": {
      "image/png": "[encoded data removed]",
      "text/plain": [
       "<Figure size 432x288 with 2 Axes>"
      ]
     },
     "metadata": {
      "needs_background": "light"
     },
     "output_type": "display_data"
    }
   ],
   "source": [
    "# Here's the heat map for the first Naive Bayes model\n",
    "cm3 = conf_matrix(y_test, y_pred_nb)"
   ]
  },
  {
   "cell_type": "code",
   "execution_count": 138,
   "metadata": {
    "execution": {
     "iopub.execute_input": "2020-10-21T23:33:56.822141Z",
     "iopub.status.busy": "2020-10-21T23:33:56.821926Z",
     "iopub.status.idle": "2020-10-21T23:33:56.830664Z",
     "shell.execute_reply": "2020-10-21T23:33:56.830056Z",
     "shell.execute_reply.started": "2020-10-21T23:33:56.822118Z"
    }
   },
   "outputs": [
    {
     "data": {
      "text/html": [
       "<div>\n",
       "<style scoped>\n",
       "    .dataframe tbody tr th:only-of-type {\n",
       "        vertical-align: middle;\n",
       "    }\n",
       "\n",
       "    .dataframe tbody tr th {\n",
       "        vertical-align: top;\n",
       "    }\n",
       "\n",
       "    .dataframe thead th {\n",
       "        text-align: right;\n",
       "    }\n",
       "</style>\n",
       "<table border=\"1\" class=\"dataframe\">\n",
       "  <thead>\n",
       "    <tr style=\"text-align: right;\">\n",
       "      <th></th>\n",
       "      <th>LogReg1</th>\n",
       "      <th>NB1</th>\n",
       "    </tr>\n",
       "  </thead>\n",
       "  <tbody>\n",
       "    <tr>\n",
       "      <th>Accuracy</th>\n",
       "      <td>0.628</td>\n",
       "      <td>0.870</td>\n",
       "    </tr>\n",
       "    <tr>\n",
       "      <th>Precision</th>\n",
       "      <td>0.915</td>\n",
       "      <td>0.873</td>\n",
       "    </tr>\n",
       "    <tr>\n",
       "      <th>Recall</th>\n",
       "      <td>0.630</td>\n",
       "      <td>0.995</td>\n",
       "    </tr>\n",
       "    <tr>\n",
       "      <th>F1 Score</th>\n",
       "      <td>0.746</td>\n",
       "      <td>0.930</td>\n",
       "    </tr>\n",
       "  </tbody>\n",
       "</table>\n",
       "</div>"
      ],
      "text/plain": [
       "           LogReg1    NB1\n",
       "Accuracy     0.628  0.870\n",
       "Precision    0.915  0.873\n",
       "Recall       0.630  0.995\n",
       "F1 Score     0.746  0.930"
      ]
     },
     "execution_count": 138,
     "metadata": {},
     "output_type": "execute_result"
    }
   ],
   "source": [
    "# Compile all of the error metrics into a dataframe for comparison\n",
    "results_nb = pd.DataFrame(list(zip(cm1, cm3)))\n",
    "results_nb = results_nb.set_index([['Accuracy', 'Precision', 'Recall', 'F1 Score']])\n",
    "results_nb.columns = ['LogReg1', 'NB1']\n",
    "results_nb"
   ]
  },
  {
   "cell_type": "markdown",
   "metadata": {},
   "source": [
    "## Use make pipeline"
   ]
  },
  {
   "cell_type": "code",
   "execution_count": 141,
   "metadata": {
    "execution": {
     "iopub.execute_input": "2020-10-23T17:23:10.589906Z",
     "iopub.status.busy": "2020-10-23T17:23:10.589658Z",
     "iopub.status.idle": "2020-10-23T17:23:10.897754Z",
     "shell.execute_reply": "2020-10-23T17:23:10.897082Z",
     "shell.execute_reply.started": "2020-10-23T17:23:10.589878Z"
    }
   },
   "outputs": [
    {
     "name": "stdout",
     "output_type": "stream",
     "text": [
      "[0.80337942 0.8202765  0.82795699 0.85560676 0.80952381 0.82461538\n",
      " 0.80153846 0.83076923 0.82307692 0.82307692]\n",
      "10-fold mean score:  0.8219820394659104\n"
     ]
    }
   ],
   "source": [
    "imba_pipeline = make_pipeline(RandomUnderSampler(), \n",
    "                              LogisticRegression())\n",
    "cross_val_scores = cross_val_score(imba_pipeline, X_train_topics, y_train, scoring='accuracy', cv=10)\n",
    "print(cross_val_scores)\n",
    "print('10-fold mean score: ', np.mean(cross_val_scores))"
   ]
  },
  {
   "cell_type": "code",
   "execution_count": 127,
   "metadata": {
    "execution": {
     "iopub.execute_input": "2020-10-23T17:14:02.063776Z",
     "iopub.status.busy": "2020-10-23T17:14:02.063548Z",
     "iopub.status.idle": "2020-10-23T17:14:02.763138Z",
     "shell.execute_reply": "2020-10-23T17:14:02.762387Z",
     "shell.execute_reply.started": "2020-10-23T17:14:02.063752Z"
    }
   },
   "outputs": [
    {
     "name": "stdout",
     "output_type": "stream",
     "text": [
      "[0.91992551 0.92051756 0.93554328 0.90651558 0.90702087 0.93148148\n",
      " 0.92022263 0.92393321 0.92207792 0.92063492]\n",
      "10-fold mean score:  0.9207872972214922\n"
     ]
    }
   ],
   "source": [
    "imba_pipeline = make_pipeline(RandomOverSampler(), \n",
    "                              LogisticRegression())\n",
    "cross_val_scores = cross_val_score(imba_pipeline, X_train_topics, y_train, scoring='Accuracy', cv=10)\n",
    "print(cross_val_scores)\n",
    "print('10-fold mean score: ', np.mean(cross_val_scores))"
   ]
  },
  {
   "cell_type": "code",
   "execution_count": 128,
   "metadata": {
    "execution": {
     "iopub.execute_input": "2020-10-23T17:14:02.764938Z",
     "iopub.status.busy": "2020-10-23T17:14:02.764623Z",
     "iopub.status.idle": "2020-10-23T17:14:03.940780Z",
     "shell.execute_reply": "2020-10-23T17:14:03.940103Z",
     "shell.execute_reply.started": "2020-10-23T17:14:02.764910Z"
    }
   },
   "outputs": [
    {
     "name": "stdout",
     "output_type": "stream",
     "text": [
      "[0.90892019 0.91705499 0.93419833 0.90684411 0.89885496 0.93283582\n",
      " 0.92149533 0.91775701 0.91806331 0.91304348]\n",
      "10-fold mean score:  0.9169067524214911\n"
     ]
    }
   ],
   "source": [
    "imba_pipeline = make_pipeline(SMOTE(), \n",
    "                              LogisticRegression())\n",
    "cross_val_scores = cross_val_score(imba_pipeline, X_train_topics, y_train, scoring='f1', cv=10)\n",
    "print(cross_val_scores)\n",
    "print('10-fold mean score: ', np.mean(cross_val_scores))"
   ]
  },
  {
   "cell_type": "code",
   "execution_count": 100,
   "metadata": {
    "execution": {
     "iopub.execute_input": "2020-10-22T23:23:56.378118Z",
     "iopub.status.busy": "2020-10-22T23:23:56.377890Z",
     "iopub.status.idle": "2020-10-22T23:24:03.188245Z",
     "shell.execute_reply": "2020-10-22T23:24:03.187495Z",
     "shell.execute_reply.started": "2020-10-22T23:23:56.378092Z"
    }
   },
   "outputs": [
    {
     "name": "stdout",
     "output_type": "stream",
     "text": [
      "[0.66494845 0.66298343 0.69021739 0.71866295 0.65168539 0.66115702\n",
      " 0.63509749 0.68169014 0.64971751 0.65957447]\n",
      "10-fold mean score:  0.6675734257115697\n"
     ]
    }
   ],
   "source": [
    "imba_pipeline = make_pipeline(ADASYN(), \n",
    "                              LogisticRegression())\n",
    "cross_val_scores = cross_val_score(imba_pipeline, X_train_topics, y_train, scoring='f1', cv=10)\n",
    "print(cross_val_scores)\n",
    "print('10-fold mean score: ', np.mean(cross_val_scores))"
   ]
  },
  {
   "cell_type": "code",
   "execution_count": 101,
   "metadata": {
    "execution": {
     "iopub.execute_input": "2020-10-22T23:24:03.190326Z",
     "iopub.status.busy": "2020-10-22T23:24:03.189903Z",
     "iopub.status.idle": "2020-10-22T23:24:03.194441Z",
     "shell.execute_reply": "2020-10-22T23:24:03.193432Z",
     "shell.execute_reply.started": "2020-10-22T23:24:03.190295Z"
    }
   },
   "outputs": [],
   "source": [
    "from imblearn.over_sampling import RandomOverSampler"
   ]
  },
  {
   "cell_type": "code",
   "execution_count": 96,
   "metadata": {
    "execution": {
     "iopub.execute_input": "2020-10-22T23:23:30.560580Z",
     "iopub.status.busy": "2020-10-22T23:23:30.560293Z",
     "iopub.status.idle": "2020-10-22T23:23:30.565758Z",
     "shell.execute_reply": "2020-10-22T23:23:30.564784Z",
     "shell.execute_reply.started": "2020-10-22T23:23:30.560548Z"
    }
   },
   "outputs": [
    {
     "data": {
      "text/plain": [
       "['accuracy',\n",
       " 'adjusted_mutual_info_score',\n",
       " 'adjusted_rand_score',\n",
       " 'average_precision',\n",
       " 'balanced_accuracy',\n",
       " 'completeness_score',\n",
       " 'explained_variance',\n",
       " 'f1',\n",
       " 'f1_macro',\n",
       " 'f1_micro',\n",
       " 'f1_samples',\n",
       " 'f1_weighted',\n",
       " 'fowlkes_mallows_score',\n",
       " 'homogeneity_score',\n",
       " 'jaccard',\n",
       " 'jaccard_macro',\n",
       " 'jaccard_micro',\n",
       " 'jaccard_samples',\n",
       " 'jaccard_weighted',\n",
       " 'max_error',\n",
       " 'mutual_info_score',\n",
       " 'neg_brier_score',\n",
       " 'neg_log_loss',\n",
       " 'neg_mean_absolute_error',\n",
       " 'neg_mean_gamma_deviance',\n",
       " 'neg_mean_poisson_deviance',\n",
       " 'neg_mean_squared_error',\n",
       " 'neg_mean_squared_log_error',\n",
       " 'neg_median_absolute_error',\n",
       " 'neg_root_mean_squared_error',\n",
       " 'normalized_mutual_info_score',\n",
       " 'precision',\n",
       " 'precision_macro',\n",
       " 'precision_micro',\n",
       " 'precision_samples',\n",
       " 'precision_weighted',\n",
       " 'r2',\n",
       " 'recall',\n",
       " 'recall_macro',\n",
       " 'recall_micro',\n",
       " 'recall_samples',\n",
       " 'recall_weighted',\n",
       " 'roc_auc',\n",
       " 'roc_auc_ovo',\n",
       " 'roc_auc_ovo_weighted',\n",
       " 'roc_auc_ovr',\n",
       " 'roc_auc_ovr_weighted',\n",
       " 'v_measure_score']"
      ]
     },
     "execution_count": 96,
     "metadata": {},
     "output_type": "execute_result"
    }
   ],
   "source": [
    "sorted(sklearn.metrics.SCORERS.keys())"
   ]
  },
  {
   "cell_type": "code",
   "execution_count": null,
   "metadata": {},
   "outputs": [],
   "source": [
    "params = {'sampling tech'  : [SMOT]}"
   ]
  },
  {
   "cell_type": "code",
   "execution_count": 102,
   "metadata": {
    "execution": {
     "iopub.execute_input": "2020-10-22T23:25:31.010857Z",
     "iopub.status.busy": "2020-10-22T23:25:31.010604Z",
     "iopub.status.idle": "2020-10-22T23:25:31.027583Z",
     "shell.execute_reply": "2020-10-22T23:25:31.025994Z",
     "shell.execute_reply.started": "2020-10-22T23:25:31.010827Z"
    }
   },
   "outputs": [
    {
     "ename": "NameError",
     "evalue": "name 'params' is not defined",
     "output_type": "error",
     "traceback": [
      "\u001b[0;31m---------------------------------------------------------------------------\u001b[0m",
      "\u001b[0;31mNameError\u001b[0m                                 Traceback (most recent call last)",
      "\u001b[0;32m<ipython-input-102-d37423bd0adc>\u001b[0m in \u001b[0;36m<module>\u001b[0;34m\u001b[0m\n\u001b[0;32m----> 1\u001b[0;31m \u001b[0mnew_params\u001b[0m \u001b[0;34m=\u001b[0m \u001b[0;34m{\u001b[0m\u001b[0;34m'LogisticRegressionClassifier__'\u001b[0m \u001b[0;34m+\u001b[0m \u001b[0mkey\u001b[0m\u001b[0;34m:\u001b[0m \u001b[0mparams\u001b[0m\u001b[0;34m[\u001b[0m\u001b[0mkey\u001b[0m\u001b[0;34m]\u001b[0m \u001b[0;32mfor\u001b[0m \u001b[0mkey\u001b[0m \u001b[0;32min\u001b[0m \u001b[0mparams\u001b[0m\u001b[0;34m}\u001b[0m\u001b[0;34m\u001b[0m\u001b[0;34m\u001b[0m\u001b[0m\n\u001b[0m\u001b[1;32m      2\u001b[0m grid_imba = GridSearchCV(imba_pipeline, param_grid=new_params, cv=kf, scoring='recall',\n\u001b[1;32m      3\u001b[0m                         return_train_score=True)\n\u001b[1;32m      4\u001b[0m \u001b[0mgrid_imba\u001b[0m\u001b[0;34m.\u001b[0m\u001b[0mfit\u001b[0m\u001b[0;34m(\u001b[0m\u001b[0mX_train\u001b[0m\u001b[0;34m,\u001b[0m \u001b[0my_train\u001b[0m\u001b[0;34m)\u001b[0m\u001b[0;34m;\u001b[0m\u001b[0;34m\u001b[0m\u001b[0;34m\u001b[0m\u001b[0m\n",
      "\u001b[0;31mNameError\u001b[0m: name 'params' is not defined"
     ]
    }
   ],
   "source": [
    "\n",
    "new_params = {'LogisticRegressionClassifier__' + key: params[key] for key in params}\n",
    "grid_imba = GridSearchCV(imba_pipeline, param_grid=new_params, cv=kf, scoring='recall',\n",
    "                        return_train_score=True)\n",
    "grid_imba.fit(X_train, y_train);"
   ]
  },
  {
   "cell_type": "code",
   "execution_count": null,
   "metadata": {},
   "outputs": [],
   "source": [
    "[.77, .85],[.86, 90],[.54,.84],[.6,.77]"
   ]
  }
 ],
 "metadata": {
  "kernelspec": {
   "display_name": "Python [conda env:metis] *",
   "language": "python",
   "name": "conda-env-metis-py"
  },
  "language_info": {
   "codemirror_mode": {
    "name": "ipython",
    "version": 3
   },
   "file_extension": ".py",
   "mimetype": "text/x-python",
   "name": "python",
   "nbconvert_exporter": "python",
   "pygments_lexer": "ipython3",
   "version": "3.8.5"
  }
 },
 "nbformat": 4,
 "nbformat_minor": 4
}
