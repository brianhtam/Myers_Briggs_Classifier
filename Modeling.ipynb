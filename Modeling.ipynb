{
 "cells": [
  {
   "cell_type": "markdown",
   "metadata": {},
   "source": [
    "# Modeling\n",
    "Author Brian Tam, 10/16/2020\n",
    "\n",
    "Inserted my final processed train/test Dataframes \n",
    "into various models to evaluate"
   ]
  },
  {
   "cell_type": "markdown",
   "metadata": {},
   "source": [
    "### Imports"
   ]
  },
  {
   "cell_type": "code",
   "execution_count": 91,
   "metadata": {
    "execution": {
     "iopub.execute_input": "2020-10-20T22:50:40.704437Z",
     "iopub.status.busy": "2020-10-20T22:50:40.704211Z",
     "iopub.status.idle": "2020-10-20T22:50:40.708805Z",
     "shell.execute_reply": "2020-10-20T22:50:40.708123Z",
     "shell.execute_reply.started": "2020-10-20T22:50:40.704412Z"
    }
   },
   "outputs": [],
   "source": [
    "# Get pandas and postgres to work together\n",
    "import psycopg2 as pg\n",
    "import pandas as pd\n",
    "import numpy as np\n",
    "import pickle\n",
    "\n",
    "# Import spacy to do NLP\n",
    "import spacy\n",
    "\n",
    "# Split the data into training and test sets\n",
    "from sklearn.model_selection import train_test_split\n",
    "\n",
    "# Import sklearn to do CountVectorizing\n",
    "from sklearn.feature_extraction.text import CountVectorizer\n",
    "count_vect = CountVectorizer()\n",
    "\n",
    "import matplotlib.pyplot as plt\n",
    "\n",
    "import databricks.koalas as ks\n",
    "\n",
    "# Topic Modeling\n",
    "from sklearn.decomposition import TruncatedSVD\n",
    "from sklearn.decomposition import NMF\n",
    "from sklearn.metrics.pairwise import cosine_similarity\n",
    "\n",
    "# Text Preprocessing\n",
    "import re\n",
    "import string"
   ]
  },
  {
   "cell_type": "code",
   "execution_count": 92,
   "metadata": {
    "execution": {
     "iopub.execute_input": "2020-10-20T22:50:41.141928Z",
     "iopub.status.busy": "2020-10-20T22:50:41.141713Z",
     "iopub.status.idle": "2020-10-20T22:50:41.366681Z",
     "shell.execute_reply": "2020-10-20T22:50:41.366079Z",
     "shell.execute_reply.started": "2020-10-20T22:50:41.141905Z"
    }
   },
   "outputs": [],
   "source": [
    "X_train_topics=pd.read_csv('X_train_topics.csv',index_col=0)\n",
    "X_test_topics=pd.read_csv('X_test_topics.csv',index_col=0)\n",
    "y_train=pd.read_csv('y_train.csv',index_col=0)\n",
    "y_test=pd.read_csv('y_test.csv',index_col=0)"
   ]
  },
  {
   "cell_type": "markdown",
   "metadata": {},
   "source": [
    "### Try classifying using Logistic Regression"
   ]
  },
  {
   "cell_type": "code",
   "execution_count": 93,
   "metadata": {
    "execution": {
     "iopub.execute_input": "2020-10-20T22:50:42.355823Z",
     "iopub.status.busy": "2020-10-20T22:50:42.355540Z",
     "iopub.status.idle": "2020-10-20T22:50:42.358755Z",
     "shell.execute_reply": "2020-10-20T22:50:42.358116Z",
     "shell.execute_reply.started": "2020-10-20T22:50:42.355797Z"
    }
   },
   "outputs": [],
   "source": [
    "# Create a logistic regression model to use\n",
    "from sklearn.linear_model import LogisticRegression\n",
    "lr = LogisticRegression(class_weight = 'balanced')"
   ]
  },
  {
   "cell_type": "code",
   "execution_count": 94,
   "metadata": {
    "execution": {
     "iopub.execute_input": "2020-10-20T22:50:42.688616Z",
     "iopub.status.busy": "2020-10-20T22:50:42.688377Z",
     "iopub.status.idle": "2020-10-20T22:50:42.719045Z",
     "shell.execute_reply": "2020-10-20T22:50:42.718299Z",
     "shell.execute_reply.started": "2020-10-20T22:50:42.688591Z"
    }
   },
   "outputs": [
    {
     "name": "stderr",
     "output_type": "stream",
     "text": [
      "/Users/briantam/opt/anaconda3/envs/metis/lib/python3.8/site-packages/sklearn/utils/validation.py:72: DataConversionWarning: A column-vector y was passed when a 1d array was expected. Please change the shape of y to (n_samples, ), for example using ravel().\n",
      "  return f(**kwargs)\n"
     ]
    }
   ],
   "source": [
    "# Train the first model\n",
    "lr.fit(X_train_topics, y_train)\n",
    "y_pred_topics = lr.predict(X_test_topics)"
   ]
  },
  {
   "cell_type": "code",
   "execution_count": 95,
   "metadata": {
    "execution": {
     "iopub.execute_input": "2020-10-20T22:50:42.946906Z",
     "iopub.status.busy": "2020-10-20T22:50:42.946692Z",
     "iopub.status.idle": "2020-10-20T22:50:42.957150Z",
     "shell.execute_reply": "2020-10-20T22:50:42.956434Z",
     "shell.execute_reply.started": "2020-10-20T22:50:42.946883Z"
    }
   },
   "outputs": [],
   "source": [
    "# Create a function to calculate the error metrics, since we'll be doing this several times\n",
    "from sklearn.metrics import confusion_matrix\n",
    "import matplotlib.pyplot as plt\n",
    "import seaborn as sns\n",
    "%matplotlib inline\n",
    "\n",
    "def conf_matrix(actual, predicted):\n",
    "    cm = confusion_matrix(actual, predicted)\n",
    "    sns.heatmap(cm, xticklabels=['predicted_negative', 'predicted_positive'], \n",
    "                yticklabels=['actual_negative', 'actual_positive'], annot=True,\n",
    "                fmt='d', annot_kws={'fontsize':20}, cmap=\"YlGnBu\");\n",
    "\n",
    "    true_neg, false_pos = cm[0]\n",
    "    false_neg, true_pos = cm[1]\n",
    "\n",
    "    accuracy = round((true_pos + true_neg) / (true_pos + true_neg + false_pos + false_neg),3)\n",
    "    precision = round((true_pos) / (true_pos + false_pos),3)\n",
    "    recall = round((true_pos) / (true_pos + false_neg),3)\n",
    "    f1 = round(2 * (precision * recall) / (precision + recall),3)\n",
    "\n",
    "    cm_results = [accuracy, precision, recall, f1]\n",
    "    return cm_results"
   ]
  },
  {
   "cell_type": "code",
   "execution_count": 96,
   "metadata": {
    "execution": {
     "iopub.execute_input": "2020-10-20T22:50:43.202702Z",
     "iopub.status.busy": "2020-10-20T22:50:43.202488Z",
     "iopub.status.idle": "2020-10-20T22:50:43.918976Z",
     "shell.execute_reply": "2020-10-20T22:50:43.918432Z",
     "shell.execute_reply.started": "2020-10-20T22:50:43.202678Z"
    }
   },
   "outputs": [
    {
     "data": {
      "image/png": "[encoded data removed]",
      "text/plain": [
       "<Figure size 432x288 with 2 Axes>"
      ]
     },
     "metadata": {
      "needs_background": "light"
     },
     "output_type": "display_data"
    }
   ],
   "source": [
    "# The heat map for the first logistic regression model\n",
    "cm1 = conf_matrix(y_test, y_pred_topics)"
   ]
  },
  {
   "cell_type": "code",
   "execution_count": 97,
   "metadata": {
    "execution": {
     "iopub.execute_input": "2020-10-20T22:50:47.478405Z",
     "iopub.status.busy": "2020-10-20T22:50:47.478168Z",
     "iopub.status.idle": "2020-10-20T22:50:47.486217Z",
     "shell.execute_reply": "2020-10-20T22:50:47.485527Z",
     "shell.execute_reply.started": "2020-10-20T22:50:47.478381Z"
    }
   },
   "outputs": [
    {
     "data": {
      "text/html": [
       "<div>\n",
       "<style scoped>\n",
       "    .dataframe tbody tr th:only-of-type {\n",
       "        vertical-align: middle;\n",
       "    }\n",
       "\n",
       "    .dataframe tbody tr th {\n",
       "        vertical-align: top;\n",
       "    }\n",
       "\n",
       "    .dataframe thead th {\n",
       "        text-align: right;\n",
       "    }\n",
       "</style>\n",
       "<table border=\"1\" class=\"dataframe\">\n",
       "  <thead>\n",
       "    <tr style=\"text-align: right;\">\n",
       "      <th></th>\n",
       "      <th>LogReg1</th>\n",
       "    </tr>\n",
       "  </thead>\n",
       "  <tbody>\n",
       "    <tr>\n",
       "      <th>Accuracy</th>\n",
       "      <td>0.731</td>\n",
       "    </tr>\n",
       "    <tr>\n",
       "      <th>Precision</th>\n",
       "      <td>0.430</td>\n",
       "    </tr>\n",
       "    <tr>\n",
       "      <th>Recall</th>\n",
       "      <td>0.540</td>\n",
       "    </tr>\n",
       "    <tr>\n",
       "      <th>F1 Score</th>\n",
       "      <td>0.479</td>\n",
       "    </tr>\n",
       "  </tbody>\n",
       "</table>\n",
       "</div>"
      ],
      "text/plain": [
       "           LogReg1\n",
       "Accuracy     0.731\n",
       "Precision    0.430\n",
       "Recall       0.540\n",
       "F1 Score     0.479"
      ]
     },
     "execution_count": 97,
     "metadata": {},
     "output_type": "execute_result"
    }
   ],
   "source": [
    "# Compile all of the error metrics into a dataframe for comparison\n",
    "results = pd.DataFrame(list(zip(cm1)))\n",
    "results = results.set_index([['Accuracy', 'Precision', 'Recall', 'F1 Score']])\n",
    "results.columns = ['LogReg1']\n",
    "results"
   ]
  },
  {
   "cell_type": "markdown",
   "metadata": {},
   "source": [
    "### Try classifying using Naive Bayes"
   ]
  },
  {
   "cell_type": "code",
   "execution_count": 98,
   "metadata": {
    "execution": {
     "iopub.execute_input": "2020-10-20T22:50:50.529591Z",
     "iopub.status.busy": "2020-10-20T22:50:50.529334Z",
     "iopub.status.idle": "2020-10-20T22:50:50.534950Z",
     "shell.execute_reply": "2020-10-20T22:50:50.534251Z",
     "shell.execute_reply.started": "2020-10-20T22:50:50.529565Z"
    }
   },
   "outputs": [
    {
     "name": "stdout",
     "output_type": "stream",
     "text": [
      "(6071, 1)\n"
     ]
    },
    {
     "data": {
      "text/plain": [
       "(6071, 150)"
      ]
     },
     "execution_count": 98,
     "metadata": {},
     "output_type": "execute_result"
    }
   ],
   "source": [
    "print(y_train.shape)\n",
    "X_train_topics.shape"
   ]
  },
  {
   "cell_type": "code",
   "execution_count": 99,
   "metadata": {
    "execution": {
     "iopub.execute_input": "2020-10-20T22:50:51.168589Z",
     "iopub.status.busy": "2020-10-20T22:50:51.168379Z",
     "iopub.status.idle": "2020-10-20T22:50:51.183412Z",
     "shell.execute_reply": "2020-10-20T22:50:51.182524Z",
     "shell.execute_reply.started": "2020-10-20T22:50:51.168566Z"
    }
   },
   "outputs": [
    {
     "name": "stderr",
     "output_type": "stream",
     "text": [
      "/Users/briantam/opt/anaconda3/envs/metis/lib/python3.8/site-packages/sklearn/utils/validation.py:72: DataConversionWarning: A column-vector y was passed when a 1d array was expected. Please change the shape of y to (n_samples, ), for example using ravel().\n",
      "  return f(**kwargs)\n"
     ]
    }
   ],
   "source": [
    "# Fit the first Naive Bayes model\n",
    "from sklearn.naive_bayes import MultinomialNB\n",
    "\n",
    "mnb = MultinomialNB()\n",
    "mnb.fit(X_train_topics, y_train)\n",
    "\n",
    "y_pred_topics_nb = mnb.predict(X_test_topics)"
   ]
  },
  {
   "cell_type": "code",
   "execution_count": 100,
   "metadata": {
    "execution": {
     "iopub.execute_input": "2020-10-20T22:50:53.266099Z",
     "iopub.status.busy": "2020-10-20T22:50:53.265824Z",
     "iopub.status.idle": "2020-10-20T22:50:53.312591Z",
     "shell.execute_reply": "2020-10-20T22:50:53.311734Z",
     "shell.execute_reply.started": "2020-10-20T22:50:53.266072Z"
    }
   },
   "outputs": [
    {
     "name": "stderr",
     "output_type": "stream",
     "text": [
      "/Users/briantam/opt/anaconda3/envs/metis/lib/python3.8/site-packages/sklearn/utils/validation.py:72: DataConversionWarning: A column-vector y was passed when a 1d array was expected. Please change the shape of y to (n_samples, ), for example using ravel().\n",
      "  return f(**kwargs)\n"
     ]
    }
   ],
   "source": [
    "# Fit the second Naive Bayes model\n",
    "from sklearn.naive_bayes import BernoulliNB\n",
    "\n",
    "bnb = BernoulliNB()\n",
    "bnb.fit(X_train_topics, y_train)\n",
    "\n",
    "y_pred_nb = bnb.predict(X_test_topics)"
   ]
  },
  {
   "cell_type": "code",
   "execution_count": 101,
   "metadata": {
    "execution": {
     "iopub.execute_input": "2020-10-20T22:50:53.989471Z",
     "iopub.status.busy": "2020-10-20T22:50:53.989253Z",
     "iopub.status.idle": "2020-10-20T22:50:54.168860Z",
     "shell.execute_reply": "2020-10-20T22:50:54.168333Z",
     "shell.execute_reply.started": "2020-10-20T22:50:53.989448Z"
    }
   },
   "outputs": [
    {
     "data": {
      "image/png": "[encoded data removed]",
      "text/plain": [
       "<Figure size 432x288 with 2 Axes>"
      ]
     },
     "metadata": {
      "needs_background": "light"
     },
     "output_type": "display_data"
    }
   ],
   "source": [
    "# Here's the heat map for the first Naive Bayes model\n",
    "cm3 = conf_matrix(y_test, y_pred_nb)"
   ]
  },
  {
   "cell_type": "code",
   "execution_count": 102,
   "metadata": {
    "execution": {
     "iopub.execute_input": "2020-10-20T22:50:56.479251Z",
     "iopub.status.busy": "2020-10-20T22:50:56.478931Z",
     "iopub.status.idle": "2020-10-20T22:50:56.489931Z",
     "shell.execute_reply": "2020-10-20T22:50:56.489288Z",
     "shell.execute_reply.started": "2020-10-20T22:50:56.479221Z"
    }
   },
   "outputs": [
    {
     "data": {
      "text/html": [
       "<div>\n",
       "<style scoped>\n",
       "    .dataframe tbody tr th:only-of-type {\n",
       "        vertical-align: middle;\n",
       "    }\n",
       "\n",
       "    .dataframe tbody tr th {\n",
       "        vertical-align: top;\n",
       "    }\n",
       "\n",
       "    .dataframe thead th {\n",
       "        text-align: right;\n",
       "    }\n",
       "</style>\n",
       "<table border=\"1\" class=\"dataframe\">\n",
       "  <thead>\n",
       "    <tr style=\"text-align: right;\">\n",
       "      <th></th>\n",
       "      <th>LogReg1</th>\n",
       "      <th>NB1</th>\n",
       "    </tr>\n",
       "  </thead>\n",
       "  <tbody>\n",
       "    <tr>\n",
       "      <th>Accuracy</th>\n",
       "      <td>0.731</td>\n",
       "      <td>0.760</td>\n",
       "    </tr>\n",
       "    <tr>\n",
       "      <th>Precision</th>\n",
       "      <td>0.430</td>\n",
       "      <td>0.461</td>\n",
       "    </tr>\n",
       "    <tr>\n",
       "      <th>Recall</th>\n",
       "      <td>0.540</td>\n",
       "      <td>0.322</td>\n",
       "    </tr>\n",
       "    <tr>\n",
       "      <th>F1 Score</th>\n",
       "      <td>0.479</td>\n",
       "      <td>0.379</td>\n",
       "    </tr>\n",
       "  </tbody>\n",
       "</table>\n",
       "</div>"
      ],
      "text/plain": [
       "           LogReg1    NB1\n",
       "Accuracy     0.731  0.760\n",
       "Precision    0.430  0.461\n",
       "Recall       0.540  0.322\n",
       "F1 Score     0.479  0.379"
      ]
     },
     "execution_count": 102,
     "metadata": {},
     "output_type": "execute_result"
    }
   ],
   "source": [
    "# Compile all of the error metrics into a dataframe for comparison\n",
    "results_nb = pd.DataFrame(list(zip(cm1, cm3)))\n",
    "results_nb = results_nb.set_index([['Accuracy', 'Precision', 'Recall', 'F1 Score']])\n",
    "results_nb.columns = ['LogReg1', 'NB1']\n",
    "results_nb"
   ]
  },
  {
   "cell_type": "code",
   "execution_count": null,
   "metadata": {},
   "outputs": [],
   "source": []
  },
  {
   "cell_type": "code",
   "execution_count": null,
   "metadata": {},
   "outputs": [],
   "source": []
  }
 ],
 "metadata": {
  "kernelspec": {
   "display_name": "Python [conda env:metis] *",
   "language": "python",
   "name": "conda-env-metis-py"
  },
  "language_info": {
   "codemirror_mode": {
    "name": "ipython",
    "version": 3
   },
   "file_extension": ".py",
   "mimetype": "text/x-python",
   "name": "python",
   "nbconvert_exporter": "python",
   "pygments_lexer": "ipython3",
   "version": "3.8.5"
  }
 },
 "nbformat": 4,
 "nbformat_minor": 4
}
