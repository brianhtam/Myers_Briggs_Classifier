{
 "cells": [
  {
   "cell_type": "markdown",
   "metadata": {},
   "source": [
    "To test if my prediction making pipline would work, I'm going to test it out in this notebook. \n",
    "\n",
    "There steps towards predicting are as follows:\n",
    "\n",
    "1. import a lengthy string of sentences as text data\n",
    "2. import TFIDF, NMF, and 4 models\n",
    "3. Use spacy and regex to preprocess\n",
    "4. Vectorize the string with tfidf.transform()\n",
    "5. Topic model using NMF.transform()\n",
    "6. \n"
   ]
  },
  {
   "cell_type": "code",
   "execution_count": 1,
   "metadata": {
    "execution": {
     "iopub.execute_input": "2020-10-26T19:14:09.940949Z",
     "iopub.status.busy": "2020-10-26T19:14:09.940722Z",
     "iopub.status.idle": "2020-10-26T19:14:10.437942Z",
     "shell.execute_reply": "2020-10-26T19:14:10.437308Z",
     "shell.execute_reply.started": "2020-10-26T19:14:09.940925Z"
    }
   },
   "outputs": [],
   "source": [
    "import pandas as pd"
   ]
  },
  {
   "cell_type": "code",
   "execution_count": 2,
   "metadata": {
    "execution": {
     "iopub.execute_input": "2020-10-26T19:14:10.439712Z",
     "iopub.status.busy": "2020-10-26T19:14:10.439353Z",
     "iopub.status.idle": "2020-10-26T19:14:10.762060Z",
     "shell.execute_reply": "2020-10-26T19:14:10.761389Z",
     "shell.execute_reply.started": "2020-10-26T19:14:10.439660Z"
    }
   },
   "outputs": [],
   "source": [
    "\n",
    "text_examples = pd.read_pickle('text_examples.pkl')"
   ]
  },
  {
   "cell_type": "code",
   "execution_count": 39,
   "metadata": {
    "execution": {
     "iopub.execute_input": "2020-10-26T21:46:41.132684Z",
     "iopub.status.busy": "2020-10-26T21:46:41.132306Z",
     "iopub.status.idle": "2020-10-26T21:46:41.135850Z",
     "shell.execute_reply": "2020-10-26T21:46:41.135124Z",
     "shell.execute_reply.started": "2020-10-26T21:46:41.132643Z"
    }
   },
   "outputs": [],
   "source": [
    "text = 'hi my name is Brian Brain Brian yayy ayyy yayy'"
   ]
  },
  {
   "cell_type": "markdown",
   "metadata": {},
   "source": [
    "# Import models and transformations"
   ]
  },
  {
   "cell_type": "code",
   "execution_count": 40,
   "metadata": {
    "execution": {
     "iopub.execute_input": "2020-10-26T21:46:41.612280Z",
     "iopub.status.busy": "2020-10-26T21:46:41.612013Z",
     "iopub.status.idle": "2020-10-26T21:46:41.619269Z",
     "shell.execute_reply": "2020-10-26T21:46:41.618593Z",
     "shell.execute_reply.started": "2020-10-26T21:46:41.612252Z"
    }
   },
   "outputs": [],
   "source": [
    "import pandas as pd\n",
    "EI = pd.read_pickle('pickled_models/EI_Logistic Reg.pkl')\n",
    "NS = pd.read_pickle('pickled_models/NS_Logistic Reg.pkl')\n",
    "FT = pd.read_pickle('pickled_models/FT_Logistic Reg.pkl')\n",
    "PJ = pd.read_pickle('pickled_models/PJ_Logistic Reg.pkl')"
   ]
  },
  {
   "cell_type": "code",
   "execution_count": 41,
   "metadata": {
    "execution": {
     "iopub.execute_input": "2020-10-26T21:46:41.849773Z",
     "iopub.status.busy": "2020-10-26T21:46:41.849196Z",
     "iopub.status.idle": "2020-10-26T21:46:41.884816Z",
     "shell.execute_reply": "2020-10-26T21:46:41.884177Z",
     "shell.execute_reply.started": "2020-10-26T21:46:41.849742Z"
    }
   },
   "outputs": [],
   "source": [
    "tfidf = pd.read_pickle('pickled_transformations/tfidf.pkl')\n",
    "TopicModel = pd.read_pickle('pickled_transformations/NMF.pkl')"
   ]
  },
  {
   "cell_type": "markdown",
   "metadata": {},
   "source": [
    "# SpaCy and Regex preprocessing"
   ]
  },
  {
   "cell_type": "code",
   "execution_count": 42,
   "metadata": {
    "execution": {
     "iopub.execute_input": "2020-10-26T21:46:42.155542Z",
     "iopub.status.busy": "2020-10-26T21:46:42.155311Z",
     "iopub.status.idle": "2020-10-26T21:46:42.814546Z",
     "shell.execute_reply": "2020-10-26T21:46:42.813893Z",
     "shell.execute_reply.started": "2020-10-26T21:46:42.155517Z"
    }
   },
   "outputs": [],
   "source": [
    "import spacy\n",
    "import re\n",
    "import string\n",
    "import matplotlib.pyplot as plt\n",
    "# Create our list of punctuation marks\n",
    "punctuations = string.punctuation\n",
    "\n",
    "# Load English tokenizer, tagger, parser, NER and word vectors\n",
    "parser = spacy.load('en_core_web_sm')\n",
    "\n",
    "# Create our list of stopwords\n",
    "stop_words = spacy.lang.en.stop_words.STOP_WORDS\n",
    "\n",
    "# Creating our tokenizer function\n",
    "def spacy_tokenizer(sentence):\n",
    "    # Creating our token object, which is used to create documents with linguistic annotations.\n",
    "    mytokens = parser(sentence)\n",
    "    \n",
    "    # Lemmatizing each token and converting each token into lowercase\n",
    "    mytokens = [ word.lemma_.lower().strip() if word.lemma_ != \"-PRON-\" else word.lower_ for word in mytokens ]\n",
    "    \n",
    "    # Removing stop words\n",
    "    mytokens = [ word for word in mytokens if word not in stop_words and word not in punctuations ]\n",
    "    \n",
    "    # return preprocessed list of tokens\n",
    "    return ' '.join(mytokens)\n",
    "alphanumeric = lambda x: re.sub('\\w*\\d\\w*', '', x)\n",
    "punc_lower = lambda x: re.sub('[%s]' % re.escape(string.punctuation), '', x.lower())"
   ]
  },
  {
   "cell_type": "code",
   "execution_count": 43,
   "metadata": {
    "execution": {
     "iopub.execute_input": "2020-10-26T21:46:42.816028Z",
     "iopub.status.busy": "2020-10-26T21:46:42.815838Z",
     "iopub.status.idle": "2020-10-26T21:46:42.827868Z",
     "shell.execute_reply": "2020-10-26T21:46:42.827269Z",
     "shell.execute_reply.started": "2020-10-26T21:46:42.816006Z"
    }
   },
   "outputs": [],
   "source": [
    "new_text = pd.Series(text).apply(spacy_tokenizer).map(alphanumeric).map(punc_lower)"
   ]
  },
  {
   "cell_type": "markdown",
   "metadata": {},
   "source": [
    "# TF-IDF text"
   ]
  },
  {
   "cell_type": "code",
   "execution_count": 44,
   "metadata": {
    "execution": {
     "iopub.execute_input": "2020-10-26T21:46:42.829885Z",
     "iopub.status.busy": "2020-10-26T21:46:42.829670Z",
     "iopub.status.idle": "2020-10-26T21:46:42.834848Z",
     "shell.execute_reply": "2020-10-26T21:46:42.834233Z",
     "shell.execute_reply.started": "2020-10-26T21:46:42.829860Z"
    }
   },
   "outputs": [],
   "source": [
    "X_test_tfidf = tfidf.transform(pd.Series(new_text))"
   ]
  },
  {
   "cell_type": "code",
   "execution_count": 45,
   "metadata": {
    "execution": {
     "iopub.execute_input": "2020-10-26T21:46:43.037002Z",
     "iopub.status.busy": "2020-10-26T21:46:43.036775Z",
     "iopub.status.idle": "2020-10-26T21:46:43.060778Z",
     "shell.execute_reply": "2020-10-26T21:46:43.059882Z",
     "shell.execute_reply.started": "2020-10-26T21:46:43.036978Z"
    }
   },
   "outputs": [
    {
     "data": {
      "text/html": [
       "<div>\n",
       "<style scoped>\n",
       "    .dataframe tbody tr th:only-of-type {\n",
       "        vertical-align: middle;\n",
       "    }\n",
       "\n",
       "    .dataframe tbody tr th {\n",
       "        vertical-align: top;\n",
       "    }\n",
       "\n",
       "    .dataframe thead th {\n",
       "        text-align: right;\n",
       "    }\n",
       "</style>\n",
       "<table border=\"1\" class=\"dataframe\">\n",
       "  <thead>\n",
       "    <tr style=\"text-align: right;\">\n",
       "      <th></th>\n",
       "      <th>abandon</th>\n",
       "      <th>ability</th>\n",
       "      <th>able</th>\n",
       "      <th>abnormal</th>\n",
       "      <th>abortion</th>\n",
       "      <th>abroad</th>\n",
       "      <th>absence</th>\n",
       "      <th>absent</th>\n",
       "      <th>absolute</th>\n",
       "      <th>absolutely</th>\n",
       "      <th>...</th>\n",
       "      <th>youtube</th>\n",
       "      <th>yr</th>\n",
       "      <th>yrs</th>\n",
       "      <th>yup</th>\n",
       "      <th>zelda</th>\n",
       "      <th>zen</th>\n",
       "      <th>zero</th>\n",
       "      <th>zodiac</th>\n",
       "      <th>zombie</th>\n",
       "      <th>zone</th>\n",
       "    </tr>\n",
       "  </thead>\n",
       "  <tbody>\n",
       "    <tr>\n",
       "      <th>0</th>\n",
       "      <td>0.0</td>\n",
       "      <td>0.0</td>\n",
       "      <td>0.0</td>\n",
       "      <td>0.0</td>\n",
       "      <td>0.0</td>\n",
       "      <td>0.0</td>\n",
       "      <td>0.0</td>\n",
       "      <td>0.0</td>\n",
       "      <td>0.0</td>\n",
       "      <td>0.0</td>\n",
       "      <td>...</td>\n",
       "      <td>0.0</td>\n",
       "      <td>0.0</td>\n",
       "      <td>0.0</td>\n",
       "      <td>0.0</td>\n",
       "      <td>0.0</td>\n",
       "      <td>0.0</td>\n",
       "      <td>0.0</td>\n",
       "      <td>0.0</td>\n",
       "      <td>0.0</td>\n",
       "      <td>0.0</td>\n",
       "    </tr>\n",
       "  </tbody>\n",
       "</table>\n",
       "<p>1 rows × 5000 columns</p>\n",
       "</div>"
      ],
      "text/plain": [
       "   abandon  ability  able  abnormal  abortion  abroad  absence  absent  \\\n",
       "0      0.0      0.0   0.0       0.0       0.0     0.0      0.0     0.0   \n",
       "\n",
       "   absolute  absolutely  ...  youtube   yr  yrs  yup  zelda  zen  zero  \\\n",
       "0       0.0         0.0  ...      0.0  0.0  0.0  0.0    0.0  0.0   0.0   \n",
       "\n",
       "   zodiac  zombie  zone  \n",
       "0     0.0     0.0   0.0  \n",
       "\n",
       "[1 rows x 5000 columns]"
      ]
     },
     "execution_count": 45,
     "metadata": {},
     "output_type": "execute_result"
    }
   ],
   "source": [
    "pd.DataFrame(X_test_tfidf.toarray(), columns=tfidf.get_feature_names())"
   ]
  },
  {
   "cell_type": "markdown",
   "metadata": {},
   "source": [
    "# Topic Modeling"
   ]
  },
  {
   "cell_type": "code",
   "execution_count": 46,
   "metadata": {
    "execution": {
     "iopub.execute_input": "2020-10-26T21:46:43.408993Z",
     "iopub.status.busy": "2020-10-26T21:46:43.408776Z",
     "iopub.status.idle": "2020-10-26T21:46:43.413503Z",
     "shell.execute_reply": "2020-10-26T21:46:43.412349Z",
     "shell.execute_reply.started": "2020-10-26T21:46:43.408968Z"
    }
   },
   "outputs": [],
   "source": [
    "def display_topics(model, feature_names, no_top_words, topic_names=None):\n",
    "    \"\"\"\n",
    "    Takes in model and feature names and outputs \n",
    "    a list of string of the top words from each topic.\n",
    "    \"\"\"\n",
    "    topics = []\n",
    "    for ix, topic in enumerate(model.components_):\n",
    "        topics.append(str(\", \".join([feature_names[i]\n",
    "                        for i in topic.argsort()[:-no_top_words - 1:-1]])))\n",
    "    return topics"
   ]
  },
  {
   "cell_type": "code",
   "execution_count": 47,
   "metadata": {
    "execution": {
     "iopub.execute_input": "2020-10-26T21:46:43.673729Z",
     "iopub.status.busy": "2020-10-26T21:46:43.673500Z",
     "iopub.status.idle": "2020-10-26T21:46:43.688719Z",
     "shell.execute_reply": "2020-10-26T21:46:43.688078Z",
     "shell.execute_reply.started": "2020-10-26T21:46:43.673703Z"
    }
   },
   "outputs": [],
   "source": [
    "topics = display_topics(TopicModel, tfidf.get_feature_names(), 15)"
   ]
  },
  {
   "cell_type": "code",
   "execution_count": 48,
   "metadata": {
    "execution": {
     "iopub.execute_input": "2020-10-26T21:46:44.150349Z",
     "iopub.status.busy": "2020-10-26T21:46:44.150120Z",
     "iopub.status.idle": "2020-10-26T21:46:44.159054Z",
     "shell.execute_reply": "2020-10-26T21:46:44.157991Z",
     "shell.execute_reply.started": "2020-10-26T21:46:44.150324Z"
    }
   },
   "outputs": [],
   "source": [
    "topic_word = pd.DataFrame(TopicModel.components_.round(3),\n",
    "             index =  topics,\n",
    "             columns = tfidf.get_feature_names())"
   ]
  },
  {
   "cell_type": "code",
   "execution_count": 49,
   "metadata": {
    "execution": {
     "iopub.execute_input": "2020-10-26T21:46:44.386701Z",
     "iopub.status.busy": "2020-10-26T21:46:44.386484Z",
     "iopub.status.idle": "2020-10-26T21:46:44.433804Z",
     "shell.execute_reply": "2020-10-26T21:46:44.432946Z",
     "shell.execute_reply.started": "2020-10-26T21:46:44.386677Z"
    }
   },
   "outputs": [],
   "source": [
    "X_test_topic_array = TopicModel.transform(pd.DataFrame(X_test_tfidf.toarray(), columns=tfidf.get_feature_names()))"
   ]
  },
  {
   "cell_type": "code",
   "execution_count": 50,
   "metadata": {
    "execution": {
     "iopub.execute_input": "2020-10-26T21:46:44.624005Z",
     "iopub.status.busy": "2020-10-26T21:46:44.623681Z",
     "iopub.status.idle": "2020-10-26T21:46:44.627922Z",
     "shell.execute_reply": "2020-10-26T21:46:44.627124Z",
     "shell.execute_reply.started": "2020-10-26T21:46:44.623967Z"
    }
   },
   "outputs": [],
   "source": [
    "X_test_topics = pd.DataFrame(X_test_topic_array.round(5),\n",
    "             columns = topics)"
   ]
  },
  {
   "cell_type": "code",
   "execution_count": 51,
   "metadata": {
    "execution": {
     "iopub.execute_input": "2020-10-26T21:46:44.871473Z",
     "iopub.status.busy": "2020-10-26T21:46:44.871236Z",
     "iopub.status.idle": "2020-10-26T21:46:44.888931Z",
     "shell.execute_reply": "2020-10-26T21:46:44.888151Z",
     "shell.execute_reply.started": "2020-10-26T21:46:44.871449Z"
    }
   },
   "outputs": [
    {
     "data": {
      "text/html": [
       "<div>\n",
       "<style scoped>\n",
       "    .dataframe tbody tr th:only-of-type {\n",
       "        vertical-align: middle;\n",
       "    }\n",
       "\n",
       "    .dataframe tbody tr th {\n",
       "        vertical-align: top;\n",
       "    }\n",
       "\n",
       "    .dataframe thead th {\n",
       "        text-align: right;\n",
       "    }\n",
       "</style>\n",
       "<table border=\"1\" class=\"dataframe\">\n",
       "  <thead>\n",
       "    <tr style=\"text-align: right;\">\n",
       "      <th></th>\n",
       "      <th>people, know, talk, want, hate, person, thing, care, ask, usually, tell, try, lot, stupid, understand</th>\n",
       "      <th>fe, ni, fi, ne, ti, te, function, se, si, dom, inferior, user, dominant, cognitive, use</th>\n",
       "      <th>feel, thing, feeling, time, want, like, life, way, know, emotion, hurt, wish, need, understand, relate</th>\n",
       "      <th>welcome, forum, hello, perc, hope, enjoy, hi, fellow, hey, stay, join, site, happy, nice, glad</th>\n",
       "      <th>estp, esfp, estj, estps, type, think, character, se, guess, know, guy, pretty, entj, typing, likely</th>\n",
       "      <th>tapatalk, send, iphone, use, sm, gt, ipad, nexus, think, want, talk, like, cheap, hey, nice</th>\n",
       "      <th>relationship, date, guy, woman, boyfriend, year, girl, man, ex, want, month, sex, meet, male, tell</th>\n",
       "      <th>fuck, shit, man, yeah, fucking, good, want, know, sex, woman, girl, kill, hell, god, right</th>\n",
       "      <th>infj, infjs, ni, fe, dear, male, people, intuition, mother, life, test, soul, type, experience, think</th>\n",
       "      <th>sx, sp, enneagram, tritype, instinct, type, wing, stacking, fix, instinctual, core, description, dom, variant, subtype</th>\n",
       "      <th>...</th>\n",
       "      <th>isfj, si, isfjs, definitely, mom, dad, like, brother, type, wife, sister, time, relate, usually, think</th>\n",
       "      <th>entj, entjs, estj, think, te, nt, type, estjs, point, approach, strong, dear, waste, control, guy</th>\n",
       "      <th>istj, istjs, estj, niss, husband, type, dad, like, sj, mother, relationship, wife, father, marry, esfp</th>\n",
       "      <th>school, high, year, class, college, grade, teacher, math, mom, parent, test, student, english, major, old</th>\n",
       "      <th>work, job, good, time, thing, like, life, need, career, money, want, pay, learn, help, start</th>\n",
       "      <th>post, thread, forum, read, point, question, come, thing, page, op, topic, actually, answer, ask, comment</th>\n",
       "      <th>esfj, estj, esfp, mother, esfjs, sister, mom, girlfriend, father, mbti, fe, type, good, know, inferior</th>\n",
       "      <th>thank, hi, know, reply, help, response, guy, hello, sorry, appreciate, try, question, advice, input, yes</th>\n",
       "      <th>haha, yeah, hahaha, oh, pretty, definitely, actually, agree, guess, people, yes, hmm, sure, kinda, sort</th>\n",
       "      <th>music, song, listen, play, band, album, pretty, guitar, metal, classical, rock, lyric, genre, favorite, piano</th>\n",
       "    </tr>\n",
       "  </thead>\n",
       "  <tbody>\n",
       "    <tr>\n",
       "      <th>0</th>\n",
       "      <td>0.0</td>\n",
       "      <td>0.0</td>\n",
       "      <td>0.0</td>\n",
       "      <td>0.01453</td>\n",
       "      <td>0.0</td>\n",
       "      <td>0.0</td>\n",
       "      <td>0.0</td>\n",
       "      <td>0.0</td>\n",
       "      <td>0.00032</td>\n",
       "      <td>0.0</td>\n",
       "      <td>...</td>\n",
       "      <td>0.0</td>\n",
       "      <td>0.0</td>\n",
       "      <td>0.0</td>\n",
       "      <td>0.0</td>\n",
       "      <td>0.0</td>\n",
       "      <td>0.0</td>\n",
       "      <td>0.0</td>\n",
       "      <td>0.09063</td>\n",
       "      <td>0.0</td>\n",
       "      <td>0.0</td>\n",
       "    </tr>\n",
       "  </tbody>\n",
       "</table>\n",
       "<p>1 rows × 40 columns</p>\n",
       "</div>"
      ],
      "text/plain": [
       "   people, know, talk, want, hate, person, thing, care, ask, usually, tell, try, lot, stupid, understand  \\\n",
       "0                                                0.0                                                       \n",
       "\n",
       "   fe, ni, fi, ne, ti, te, function, se, si, dom, inferior, user, dominant, cognitive, use  \\\n",
       "0                                                0.0                                         \n",
       "\n",
       "   feel, thing, feeling, time, want, like, life, way, know, emotion, hurt, wish, need, understand, relate  \\\n",
       "0                                                0.0                                                        \n",
       "\n",
       "   welcome, forum, hello, perc, hope, enjoy, hi, fellow, hey, stay, join, site, happy, nice, glad  \\\n",
       "0                                            0.01453                                                \n",
       "\n",
       "   estp, esfp, estj, estps, type, think, character, se, guess, know, guy, pretty, entj, typing, likely  \\\n",
       "0                                                0.0                                                     \n",
       "\n",
       "   tapatalk, send, iphone, use, sm, gt, ipad, nexus, think, want, talk, like, cheap, hey, nice  \\\n",
       "0                                                0.0                                             \n",
       "\n",
       "   relationship, date, guy, woman, boyfriend, year, girl, man, ex, want, month, sex, meet, male, tell  \\\n",
       "0                                                0.0                                                    \n",
       "\n",
       "   fuck, shit, man, yeah, fucking, good, want, know, sex, woman, girl, kill, hell, god, right  \\\n",
       "0                                                0.0                                            \n",
       "\n",
       "   infj, infjs, ni, fe, dear, male, people, intuition, mother, life, test, soul, type, experience, think  \\\n",
       "0                                            0.00032                                                       \n",
       "\n",
       "   sx, sp, enneagram, tritype, instinct, type, wing, stacking, fix, instinctual, core, description, dom, variant, subtype  \\\n",
       "0                                                0.0                                                                        \n",
       "\n",
       "   ...  \\\n",
       "0  ...   \n",
       "\n",
       "   isfj, si, isfjs, definitely, mom, dad, like, brother, type, wife, sister, time, relate, usually, think  \\\n",
       "0                                                0.0                                                        \n",
       "\n",
       "   entj, entjs, estj, think, te, nt, type, estjs, point, approach, strong, dear, waste, control, guy  \\\n",
       "0                                                0.0                                                   \n",
       "\n",
       "   istj, istjs, estj, niss, husband, type, dad, like, sj, mother, relationship, wife, father, marry, esfp  \\\n",
       "0                                                0.0                                                        \n",
       "\n",
       "   school, high, year, class, college, grade, teacher, math, mom, parent, test, student, english, major, old  \\\n",
       "0                                                0.0                                                           \n",
       "\n",
       "   work, job, good, time, thing, like, life, need, career, money, want, pay, learn, help, start  \\\n",
       "0                                                0.0                                              \n",
       "\n",
       "   post, thread, forum, read, point, question, come, thing, page, op, topic, actually, answer, ask, comment  \\\n",
       "0                                                0.0                                                          \n",
       "\n",
       "   esfj, estj, esfp, mother, esfjs, sister, mom, girlfriend, father, mbti, fe, type, good, know, inferior  \\\n",
       "0                                                0.0                                                        \n",
       "\n",
       "   thank, hi, know, reply, help, response, guy, hello, sorry, appreciate, try, question, advice, input, yes  \\\n",
       "0                                            0.09063                                                          \n",
       "\n",
       "   haha, yeah, hahaha, oh, pretty, definitely, actually, agree, guess, people, yes, hmm, sure, kinda, sort  \\\n",
       "0                                                0.0                                                         \n",
       "\n",
       "   music, song, listen, play, band, album, pretty, guitar, metal, classical, rock, lyric, genre, favorite, piano  \n",
       "0                                                0.0                                                              \n",
       "\n",
       "[1 rows x 40 columns]"
      ]
     },
     "execution_count": 51,
     "metadata": {},
     "output_type": "execute_result"
    }
   ],
   "source": [
    "X_test_topics"
   ]
  },
  {
   "cell_type": "code",
   "execution_count": 52,
   "metadata": {
    "execution": {
     "iopub.execute_input": "2020-10-26T21:46:45.139940Z",
     "iopub.status.busy": "2020-10-26T21:46:45.139724Z",
     "iopub.status.idle": "2020-10-26T21:46:45.153037Z",
     "shell.execute_reply": "2020-10-26T21:46:45.151841Z",
     "shell.execute_reply.started": "2020-10-26T21:46:45.139917Z"
    }
   },
   "outputs": [],
   "source": [
    "pred_list = []\n",
    "if EI.predict(X_test_topics) == 1:\n",
    "    pred_list.append('E')\n",
    "else:\n",
    "    pred_list.append('I')\n",
    "if NS.predict(X_test_topics) == 1:\n",
    "    pred_list.append('N')\n",
    "else:\n",
    "    pred_list.append('S')\n",
    "if FT.predict(X_test_topics) == 1:\n",
    "    pred_list.append('F')\n",
    "else:\n",
    "    pred_list.append('T')\n",
    "if PJ.predict(X_test_topics) == 1:\n",
    "    pred_list.append('P')\n",
    "else:\n",
    "    pred_list.append('J')\n",
    "prediction = ''.join(pred_list)"
   ]
  },
  {
   "cell_type": "code",
   "execution_count": 53,
   "metadata": {
    "execution": {
     "iopub.execute_input": "2020-10-26T21:46:45.364952Z",
     "iopub.status.busy": "2020-10-26T21:46:45.364719Z",
     "iopub.status.idle": "2020-10-26T21:46:45.368717Z",
     "shell.execute_reply": "2020-10-26T21:46:45.368052Z",
     "shell.execute_reply.started": "2020-10-26T21:46:45.364916Z"
    }
   },
   "outputs": [
    {
     "data": {
      "text/plain": [
       "'INTP'"
      ]
     },
     "execution_count": 53,
     "metadata": {},
     "output_type": "execute_result"
    }
   ],
   "source": [
    "prediction "
   ]
  },
  {
   "cell_type": "code",
   "execution_count": 57,
   "metadata": {
    "execution": {
     "iopub.execute_input": "2020-10-26T22:14:55.359182Z",
     "iopub.status.busy": "2020-10-26T22:14:55.358681Z",
     "iopub.status.idle": "2020-10-26T22:14:55.914331Z",
     "shell.execute_reply": "2020-10-26T22:14:55.913686Z",
     "shell.execute_reply.started": "2020-10-26T22:14:55.359130Z"
    }
   },
   "outputs": [
    {
     "data": {
      "image/png": "[encoded data removed]",
      "text/plain": [
       "<Figure size 720x720 with 1 Axes>"
      ]
     },
     "metadata": {
      "needs_background": "light"
     },
     "output_type": "display_data"
    }
   ],
   "source": [
    "# Generate WordCloud\n",
    "from wordcloud import WordCloud \n",
    "\n",
    "# Generate a word cloud image\n",
    "wordcloud = WordCloud(width = 1000, height = 1000,\n",
    "                background_color ='white',\n",
    "                min_font_size = 20).generate(new_text[0])\n",
    "\n",
    "# Display the generated image:\n",
    "# the matplotlib way:\n",
    "fig = plt.figure(figsize=(10,10))\n",
    "plt.imshow(wordcloud, interpolation='bilinear')\n",
    "plt.axis(\"off\")\n",
    "plt.show()"
   ]
  },
  {
   "cell_type": "markdown",
   "metadata": {},
   "source": [
    "# Appendix"
   ]
  },
  {
   "cell_type": "markdown",
   "metadata": {},
   "source": [
    "Writing styles. "
   ]
  },
  {
   "cell_type": "code",
   "execution_count": 97,
   "metadata": {
    "execution": {
     "iopub.execute_input": "2020-10-26T06:37:12.162636Z",
     "iopub.status.busy": "2020-10-26T06:37:12.162404Z",
     "iopub.status.idle": "2020-10-26T06:37:12.165842Z",
     "shell.execute_reply": "2020-10-26T06:37:12.165108Z",
     "shell.execute_reply.started": "2020-10-26T06:37:12.162612Z"
    }
   },
   "outputs": [],
   "source": [
    "text = pd.DataFrame([text])"
   ]
  },
  {
   "cell_type": "code",
   "execution_count": 98,
   "metadata": {
    "execution": {
     "iopub.execute_input": "2020-10-26T06:37:13.888786Z",
     "iopub.status.busy": "2020-10-26T06:37:13.888571Z",
     "iopub.status.idle": "2020-10-26T06:37:13.893526Z",
     "shell.execute_reply": "2020-10-26T06:37:13.892864Z",
     "shell.execute_reply.started": "2020-10-26T06:37:13.888763Z"
    }
   },
   "outputs": [
    {
     "data": {
      "text/plain": [
       "0    What has been the most life-changing experienc...\n",
       "dtype: object"
      ]
     },
     "execution_count": 98,
     "metadata": {},
     "output_type": "execute_result"
    }
   ],
   "source": [
    "pd.Series(text_examples[0])"
   ]
  },
  {
   "cell_type": "code",
   "execution_count": 33,
   "metadata": {
    "execution": {
     "iopub.execute_input": "2020-10-26T05:16:02.247478Z",
     "iopub.status.busy": "2020-10-26T05:16:02.247234Z",
     "iopub.status.idle": "2020-10-26T05:16:02.253634Z",
     "shell.execute_reply": "2020-10-26T05:16:02.252808Z",
     "shell.execute_reply.started": "2020-10-26T05:16:02.247447Z"
    }
   },
   "outputs": [
    {
     "data": {
      "text/plain": [
       "0    What has been the most life-changing experienc...\n",
       "dtype: object"
      ]
     },
     "execution_count": 33,
     "metadata": {},
     "output_type": "execute_result"
    }
   ],
   "source": [
    "pd.Series(text)"
   ]
  },
  {
   "cell_type": "code",
   "execution_count": 35,
   "metadata": {
    "execution": {
     "iopub.execute_input": "2020-10-26T05:16:26.268150Z",
     "iopub.status.busy": "2020-10-26T05:16:26.267934Z",
     "iopub.status.idle": "2020-10-26T05:16:26.271001Z",
     "shell.execute_reply": "2020-10-26T05:16:26.270178Z",
     "shell.execute_reply.started": "2020-10-26T05:16:26.268127Z"
    }
   },
   "outputs": [],
   "source": [
    "text1 = 'I am Brian'"
   ]
  },
  {
   "cell_type": "code",
   "execution_count": null,
   "metadata": {},
   "outputs": [],
   "source": []
  }
 ],
 "metadata": {
  "kernelspec": {
   "display_name": "Python [conda env:metis] *",
   "language": "python",
   "name": "conda-env-metis-py"
  },
  "language_info": {
   "codemirror_mode": {
    "name": "ipython",
    "version": 3
   },
   "file_extension": ".py",
   "mimetype": "text/x-python",
   "name": "python",
   "nbconvert_exporter": "python",
   "pygments_lexer": "ipython3",
   "version": "3.8.5"
  }
 },
 "nbformat": 4,
 "nbformat_minor": 4
}
