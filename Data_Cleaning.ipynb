{
 "cells": [
  {
   "cell_type": "markdown",
   "metadata": {},
   "source": [
    "# Data Cleaning\n",
    "Author Brian Tam, 10/16/2020\n",
    "\n",
    "This notebook is used to clean the [MBTI kaggle dataset](https://www.kaggle.com/datasnaek/mbti-type) as an intermediate setup to prep it for moding.\n",
    "The following was done:\n",
    "1. Preprocess so that each row is consists of all the posts from an individual person\n",
    "2. Filter out links\n",
    "3. Use spaCy to tolkenize, lemmetize, and remove stop words \n",
    "4. Perform EDA to understand class distribution and nature of texts\n",
    "5. Imported and exported as SQL tables using d6tstack"
   ]
  },
  {
   "cell_type": "code",
   "execution_count": 22,
   "metadata": {
    "execution": {
     "iopub.execute_input": "2020-10-30T15:57:42.047306Z",
     "iopub.status.busy": "2020-10-30T15:57:42.046107Z",
     "iopub.status.idle": "2020-10-30T15:57:42.150573Z",
     "shell.execute_reply": "2020-10-30T15:57:42.148765Z",
     "shell.execute_reply.started": "2020-10-30T15:57:42.046863Z"
    }
   },
   "outputs": [],
   "source": [
    "# Get pandas and postgres to work together\n",
    "import psycopg2 as pg\n",
    "import pandas as pd\n",
    "import numpy as np\n",
    "import pickle \n",
    "\n",
    "# Import spacy to do NLP\n",
    "import spacy\n",
    "\n",
    "# Split the data into training and test sets\n",
    "from sklearn.model_selection import train_test_split\n",
    "\n",
    "# Import sklearn to do CountVectorizing\n",
    "from sklearn.feature_extraction.text import CountVectorizer\n",
    "count_vect = CountVectorizer()\n",
    "\n",
    "import matplotlib.pyplot as plt\n",
    "\n",
    "# Topic Modeling\n",
    "from sklearn.decomposition import TruncatedSVD\n",
    "from sklearn.decomposition import NMF\n",
    "from sklearn.metrics.pairwise import cosine_similarity\n",
    "\n",
    "# Text Preprocessing\n",
    "import re\n",
    "import string"
   ]
  },
  {
   "cell_type": "markdown",
   "metadata": {},
   "source": [
    "Lets connect to the kaggle dataset in our psql database"
   ]
  },
  {
   "cell_type": "code",
   "execution_count": 3,
   "metadata": {
    "execution": {
     "iopub.execute_input": "2020-10-27T06:22:28.811861Z",
     "iopub.status.busy": "2020-10-27T06:22:28.811640Z",
     "iopub.status.idle": "2020-10-27T06:22:29.580735Z",
     "shell.execute_reply": "2020-10-27T06:22:29.579811Z",
     "shell.execute_reply.started": "2020-10-27T06:22:28.811838Z"
    }
   },
   "outputs": [
    {
     "data": {
      "text/html": [
       "<div>\n",
       "<style scoped>\n",
       "    .dataframe tbody tr th:only-of-type {\n",
       "        vertical-align: middle;\n",
       "    }\n",
       "\n",
       "    .dataframe tbody tr th {\n",
       "        vertical-align: top;\n",
       "    }\n",
       "\n",
       "    .dataframe thead th {\n",
       "        text-align: right;\n",
       "    }\n",
       "</style>\n",
       "<table border=\"1\" class=\"dataframe\">\n",
       "  <thead>\n",
       "    <tr style=\"text-align: right;\">\n",
       "      <th></th>\n",
       "      <th>type</th>\n",
       "      <th>posts</th>\n",
       "    </tr>\n",
       "  </thead>\n",
       "  <tbody>\n",
       "    <tr>\n",
       "      <th>0</th>\n",
       "      <td>INFJ</td>\n",
       "      <td>'http://www.youtube.com/watch?v=qsXHcwe3krw|||...</td>\n",
       "    </tr>\n",
       "    <tr>\n",
       "      <th>1</th>\n",
       "      <td>ENTP</td>\n",
       "      <td>'I'm finding the lack of me in these posts ver...</td>\n",
       "    </tr>\n",
       "    <tr>\n",
       "      <th>2</th>\n",
       "      <td>INTP</td>\n",
       "      <td>'Good one  _____   https://www.youtube.com/wat...</td>\n",
       "    </tr>\n",
       "    <tr>\n",
       "      <th>3</th>\n",
       "      <td>INTJ</td>\n",
       "      <td>'Dear INTP,   I enjoyed our conversation the o...</td>\n",
       "    </tr>\n",
       "    <tr>\n",
       "      <th>4</th>\n",
       "      <td>ENTJ</td>\n",
       "      <td>'You're fired.|||That's another silly misconce...</td>\n",
       "    </tr>\n",
       "  </tbody>\n",
       "</table>\n",
       "</div>"
      ],
      "text/plain": [
       "   type                                              posts\n",
       "0  INFJ  'http://www.youtube.com/watch?v=qsXHcwe3krw|||...\n",
       "1  ENTP  'I'm finding the lack of me in these posts ver...\n",
       "2  INTP  'Good one  _____   https://www.youtube.com/wat...\n",
       "3  INTJ  'Dear INTP,   I enjoyed our conversation the o...\n",
       "4  ENTJ  'You're fired.|||That's another silly misconce..."
      ]
     },
     "execution_count": 3,
     "metadata": {},
     "output_type": "execute_result"
    }
   ],
   "source": [
    "# Postgres info to connect\n",
    "connection_args = {\n",
    "    'host': 'localhost',  # We are connecting to our _local_ version of psql\n",
    "    'dbname': 'myers_briggs',    # DB that we are connecting to\n",
    "}\n",
    "\n",
    "connection = pg.connect(**connection_args)  # What is that \"**\" there??\n",
    "\n",
    "query = \"SELECT * FROM twitter_origin;\"\n",
    "\n",
    "df = pd.read_sql(query, connection)\n",
    "df.head()"
   ]
  },
  {
   "cell_type": "markdown",
   "metadata": {},
   "source": [
    "## Multiclass to binary classification\n",
    "Since it'll be easier to do binary classification, I create boolians for each Letter pair"
   ]
  },
  {
   "cell_type": "code",
   "execution_count": 4,
   "metadata": {
    "execution": {
     "iopub.execute_input": "2020-10-27T06:22:29.582367Z",
     "iopub.status.busy": "2020-10-27T06:22:29.582082Z",
     "iopub.status.idle": "2020-10-27T06:22:29.619233Z",
     "shell.execute_reply": "2020-10-27T06:22:29.618613Z",
     "shell.execute_reply.started": "2020-10-27T06:22:29.582341Z"
    }
   },
   "outputs": [],
   "source": [
    "map1 = {\"I\": 1, \"E\": 0}\n",
    "map2 = {\"S\": 0, \"N\": 1}\n",
    "map3 = {\"T\": 0, \"F\": 1}\n",
    "map4 = {\"J\": 0, \"P\": 1}\n",
    "df['E/I'] = df['type'].astype(str).str[0]\n",
    "df['E/I'] = df['E/I'].map(map1)\n",
    "df['N/S'] = df['type'].astype(str).str[1]\n",
    "df['N/S'] = df['N/S'].map(map2)\n",
    "df['F/T'] = df['type'].astype(str).str[2]\n",
    "df['F/T'] = df['F/T'].map(map3)\n",
    "df['P/J'] = df['type'].astype(str).str[3]\n",
    "df['P/J'] = df['P/J'].map(map4)"
   ]
  },
  {
   "cell_type": "code",
   "execution_count": 7,
   "metadata": {
    "execution": {
     "iopub.execute_input": "2020-10-27T06:21:44.372358Z",
     "iopub.status.busy": "2020-10-27T06:21:44.372133Z",
     "iopub.status.idle": "2020-10-27T06:21:44.385193Z",
     "shell.execute_reply": "2020-10-27T06:21:44.384611Z",
     "shell.execute_reply.started": "2020-10-27T06:21:44.372333Z"
    }
   },
   "outputs": [
    {
     "data": {
      "text/html": [
       "<div>\n",
       "<style scoped>\n",
       "    .dataframe tbody tr th:only-of-type {\n",
       "        vertical-align: middle;\n",
       "    }\n",
       "\n",
       "    .dataframe tbody tr th {\n",
       "        vertical-align: top;\n",
       "    }\n",
       "\n",
       "    .dataframe thead th {\n",
       "        text-align: right;\n",
       "    }\n",
       "</style>\n",
       "<table border=\"1\" class=\"dataframe\">\n",
       "  <thead>\n",
       "    <tr style=\"text-align: right;\">\n",
       "      <th></th>\n",
       "      <th>type</th>\n",
       "      <th>posts</th>\n",
       "      <th>E/I</th>\n",
       "      <th>N/S</th>\n",
       "      <th>F/T</th>\n",
       "      <th>P/J</th>\n",
       "    </tr>\n",
       "  </thead>\n",
       "  <tbody>\n",
       "    <tr>\n",
       "      <th>0</th>\n",
       "      <td>INFJ</td>\n",
       "      <td>'http://www.youtube.com/watch?v=qsXHcwe3krw|||...</td>\n",
       "      <td>1</td>\n",
       "      <td>1</td>\n",
       "      <td>1</td>\n",
       "      <td>0</td>\n",
       "    </tr>\n",
       "    <tr>\n",
       "      <th>1</th>\n",
       "      <td>ENTP</td>\n",
       "      <td>'I'm finding the lack of me in these posts ver...</td>\n",
       "      <td>0</td>\n",
       "      <td>1</td>\n",
       "      <td>0</td>\n",
       "      <td>1</td>\n",
       "    </tr>\n",
       "    <tr>\n",
       "      <th>2</th>\n",
       "      <td>INTP</td>\n",
       "      <td>'Good one  _____   https://www.youtube.com/wat...</td>\n",
       "      <td>1</td>\n",
       "      <td>1</td>\n",
       "      <td>0</td>\n",
       "      <td>1</td>\n",
       "    </tr>\n",
       "    <tr>\n",
       "      <th>3</th>\n",
       "      <td>INTJ</td>\n",
       "      <td>'Dear INTP,   I enjoyed our conversation the o...</td>\n",
       "      <td>1</td>\n",
       "      <td>1</td>\n",
       "      <td>0</td>\n",
       "      <td>0</td>\n",
       "    </tr>\n",
       "    <tr>\n",
       "      <th>4</th>\n",
       "      <td>ENTJ</td>\n",
       "      <td>'You're fired.|||That's another silly misconce...</td>\n",
       "      <td>0</td>\n",
       "      <td>1</td>\n",
       "      <td>0</td>\n",
       "      <td>0</td>\n",
       "    </tr>\n",
       "    <tr>\n",
       "      <th>...</th>\n",
       "      <td>...</td>\n",
       "      <td>...</td>\n",
       "      <td>...</td>\n",
       "      <td>...</td>\n",
       "      <td>...</td>\n",
       "      <td>...</td>\n",
       "    </tr>\n",
       "    <tr>\n",
       "      <th>8670</th>\n",
       "      <td>ISFP</td>\n",
       "      <td>'https://www.youtube.com/watch?v=t8edHB_h908||...</td>\n",
       "      <td>1</td>\n",
       "      <td>0</td>\n",
       "      <td>1</td>\n",
       "      <td>1</td>\n",
       "    </tr>\n",
       "    <tr>\n",
       "      <th>8671</th>\n",
       "      <td>ENFP</td>\n",
       "      <td>'So...if this thread already exists someplace ...</td>\n",
       "      <td>0</td>\n",
       "      <td>1</td>\n",
       "      <td>1</td>\n",
       "      <td>1</td>\n",
       "    </tr>\n",
       "    <tr>\n",
       "      <th>8672</th>\n",
       "      <td>INTP</td>\n",
       "      <td>'So many questions when i do these things.  I ...</td>\n",
       "      <td>1</td>\n",
       "      <td>1</td>\n",
       "      <td>0</td>\n",
       "      <td>1</td>\n",
       "    </tr>\n",
       "    <tr>\n",
       "      <th>8673</th>\n",
       "      <td>INFP</td>\n",
       "      <td>'I am very conflicted right now when it comes ...</td>\n",
       "      <td>1</td>\n",
       "      <td>1</td>\n",
       "      <td>1</td>\n",
       "      <td>1</td>\n",
       "    </tr>\n",
       "    <tr>\n",
       "      <th>8674</th>\n",
       "      <td>INFP</td>\n",
       "      <td>'It has been too long since I have been on per...</td>\n",
       "      <td>1</td>\n",
       "      <td>1</td>\n",
       "      <td>1</td>\n",
       "      <td>1</td>\n",
       "    </tr>\n",
       "  </tbody>\n",
       "</table>\n",
       "<p>8675 rows × 6 columns</p>\n",
       "</div>"
      ],
      "text/plain": [
       "      type                                              posts  E/I  N/S  F/T  \\\n",
       "0     INFJ  'http://www.youtube.com/watch?v=qsXHcwe3krw|||...    1    1    1   \n",
       "1     ENTP  'I'm finding the lack of me in these posts ver...    0    1    0   \n",
       "2     INTP  'Good one  _____   https://www.youtube.com/wat...    1    1    0   \n",
       "3     INTJ  'Dear INTP,   I enjoyed our conversation the o...    1    1    0   \n",
       "4     ENTJ  'You're fired.|||That's another silly misconce...    0    1    0   \n",
       "...    ...                                                ...  ...  ...  ...   \n",
       "8670  ISFP  'https://www.youtube.com/watch?v=t8edHB_h908||...    1    0    1   \n",
       "8671  ENFP  'So...if this thread already exists someplace ...    0    1    1   \n",
       "8672  INTP  'So many questions when i do these things.  I ...    1    1    0   \n",
       "8673  INFP  'I am very conflicted right now when it comes ...    1    1    1   \n",
       "8674  INFP  'It has been too long since I have been on per...    1    1    1   \n",
       "\n",
       "      P/J  \n",
       "0       0  \n",
       "1       1  \n",
       "2       1  \n",
       "3       0  \n",
       "4       0  \n",
       "...   ...  \n",
       "8670    1  \n",
       "8671    1  \n",
       "8672    1  \n",
       "8673    1  \n",
       "8674    1  \n",
       "\n",
       "[8675 rows x 6 columns]"
      ]
     },
     "execution_count": 7,
     "metadata": {},
     "output_type": "execute_result"
    }
   ],
   "source": [
    "df"
   ]
  },
  {
   "cell_type": "markdown",
   "metadata": {
    "execution": {
     "iopub.execute_input": "2020-10-16T15:34:39.460797Z",
     "iopub.status.busy": "2020-10-16T15:34:39.460593Z",
     "iopub.status.idle": "2020-10-16T15:34:39.463997Z",
     "shell.execute_reply": "2020-10-16T15:34:39.462994Z",
     "shell.execute_reply.started": "2020-10-16T15:34:39.460774Z"
    }
   },
   "source": [
    "## Split posts\n",
    "One post per row"
   ]
  },
  {
   "cell_type": "code",
   "execution_count": 8,
   "metadata": {
    "execution": {
     "iopub.execute_input": "2020-10-23T01:42:52.433523Z",
     "iopub.status.busy": "2020-10-23T01:42:52.433308Z",
     "iopub.status.idle": "2020-10-23T01:42:52.785925Z",
     "shell.execute_reply": "2020-10-23T01:42:52.785256Z",
     "shell.execute_reply.started": "2020-10-23T01:42:52.433499Z"
    }
   },
   "outputs": [],
   "source": [
    "df['post'] = df.apply(lambda row: row.posts.split('|||'), axis = 1) "
   ]
  },
  {
   "cell_type": "code",
   "execution_count": 9,
   "metadata": {
    "execution": {
     "iopub.execute_input": "2020-10-23T01:42:52.787397Z",
     "iopub.status.busy": "2020-10-23T01:42:52.787212Z",
     "iopub.status.idle": "2020-10-23T01:42:52.822239Z",
     "shell.execute_reply": "2020-10-23T01:42:52.821598Z",
     "shell.execute_reply.started": "2020-10-23T01:42:52.787375Z"
    }
   },
   "outputs": [
    {
     "data": {
      "text/plain": [
       "0       None\n",
       "1       None\n",
       "2       None\n",
       "3       None\n",
       "4       None\n",
       "        ... \n",
       "8670    None\n",
       "8671    None\n",
       "8672    None\n",
       "8673    None\n",
       "8674    None\n",
       "Name: post, Length: 8675, dtype: object"
      ]
     },
     "execution_count": 9,
     "metadata": {},
     "output_type": "execute_result"
    }
   ],
   "source": [
    "def quoteRemover(x):\n",
    "    \"\"\"\n",
    "    Removes the annoying single quote sign at the beginning and end of all the post chains.\n",
    "\n",
    "    \"\"\"\n",
    "    if re.match(\"'\",x[0]):\n",
    "        x[0] = x[0][1:]\n",
    "    if re.match(\"'\",x[-1][::-1]):\n",
    "        x[-1] = x[-1][:-1]\n",
    "\n",
    "df['post'].apply(quoteRemover)"
   ]
  },
  {
   "cell_type": "code",
   "execution_count": 10,
   "metadata": {
    "execution": {
     "iopub.execute_input": "2020-10-23T01:42:52.921963Z",
     "iopub.status.busy": "2020-10-23T01:42:52.921753Z",
     "iopub.status.idle": "2020-10-23T01:42:52.927432Z",
     "shell.execute_reply": "2020-10-23T01:42:52.926848Z",
     "shell.execute_reply.started": "2020-10-23T01:42:52.921940Z"
    }
   },
   "outputs": [],
   "source": [
    "df = df.drop(['posts'],axis=1)"
   ]
  },
  {
   "cell_type": "markdown",
   "metadata": {},
   "source": [
    "### Join posts together instead of Exploding"
   ]
  },
  {
   "cell_type": "code",
   "execution_count": 11,
   "metadata": {
    "execution": {
     "iopub.execute_input": "2020-10-23T01:42:57.201850Z",
     "iopub.status.busy": "2020-10-23T01:42:57.201622Z",
     "iopub.status.idle": "2020-10-23T01:42:57.209359Z",
     "shell.execute_reply": "2020-10-23T01:42:57.208515Z",
     "shell.execute_reply.started": "2020-10-23T01:42:57.201826Z"
    }
   },
   "outputs": [
    {
     "data": {
      "text/plain": [
       "0    [http://www.youtube.com/watch?v=qsXHcwe3krw, h...\n",
       "1    [I'm finding the lack of me in these posts ver...\n",
       "2    [Good one  _____   https://www.youtube.com/wat...\n",
       "3    [Dear INTP,   I enjoyed our conversation the o...\n",
       "4    [You're fired., That's another silly misconcep...\n",
       "Name: post, dtype: object"
      ]
     },
     "execution_count": 11,
     "metadata": {},
     "output_type": "execute_result"
    }
   ],
   "source": [
    "df.post.head()"
   ]
  },
  {
   "cell_type": "markdown",
   "metadata": {},
   "source": [
    "### Remove links from your posts"
   ]
  },
  {
   "cell_type": "code",
   "execution_count": 12,
   "metadata": {
    "execution": {
     "iopub.execute_input": "2020-10-23T01:43:00.814531Z",
     "iopub.status.busy": "2020-10-23T01:43:00.814319Z",
     "iopub.status.idle": "2020-10-23T01:43:00.924842Z",
     "shell.execute_reply": "2020-10-23T01:43:00.924213Z",
     "shell.execute_reply.started": "2020-10-23T01:43:00.814508Z"
    }
   },
   "outputs": [],
   "source": [
    "df['post_no_links'] = df.post.apply(lambda x: [post for post in x if 'http' not in post])"
   ]
  },
  {
   "cell_type": "code",
   "execution_count": 13,
   "metadata": {
    "execution": {
     "iopub.execute_input": "2020-10-23T01:43:01.607896Z",
     "iopub.status.busy": "2020-10-23T01:43:01.607626Z",
     "iopub.status.idle": "2020-10-23T01:43:01.652712Z",
     "shell.execute_reply": "2020-10-23T01:43:01.651983Z",
     "shell.execute_reply.started": "2020-10-23T01:43:01.607860Z"
    }
   },
   "outputs": [],
   "source": [
    "df['post_no_links']=df.post_no_links.apply(lambda x: ' '.join(x))"
   ]
  },
  {
   "cell_type": "code",
   "execution_count": 14,
   "metadata": {
    "execution": {
     "iopub.execute_input": "2020-10-23T01:43:01.834140Z",
     "iopub.status.busy": "2020-10-23T01:43:01.833884Z",
     "iopub.status.idle": "2020-10-23T01:43:01.847653Z",
     "shell.execute_reply": "2020-10-23T01:43:01.847093Z",
     "shell.execute_reply.started": "2020-10-23T01:43:01.834110Z"
    }
   },
   "outputs": [
    {
     "data": {
      "text/html": [
       "<div>\n",
       "<style scoped>\n",
       "    .dataframe tbody tr th:only-of-type {\n",
       "        vertical-align: middle;\n",
       "    }\n",
       "\n",
       "    .dataframe tbody tr th {\n",
       "        vertical-align: top;\n",
       "    }\n",
       "\n",
       "    .dataframe thead th {\n",
       "        text-align: right;\n",
       "    }\n",
       "</style>\n",
       "<table border=\"1\" class=\"dataframe\">\n",
       "  <thead>\n",
       "    <tr style=\"text-align: right;\">\n",
       "      <th></th>\n",
       "      <th>type</th>\n",
       "      <th>E/I</th>\n",
       "      <th>N/S</th>\n",
       "      <th>F/T</th>\n",
       "      <th>P/J</th>\n",
       "      <th>post</th>\n",
       "      <th>post_no_links</th>\n",
       "    </tr>\n",
       "  </thead>\n",
       "  <tbody>\n",
       "    <tr>\n",
       "      <th>0</th>\n",
       "      <td>INFJ</td>\n",
       "      <td>0</td>\n",
       "      <td>1</td>\n",
       "      <td>1</td>\n",
       "      <td>0</td>\n",
       "      <td>[http://www.youtube.com/watch?v=qsXHcwe3krw, h...</td>\n",
       "      <td>What has been the most life-changing experienc...</td>\n",
       "    </tr>\n",
       "    <tr>\n",
       "      <th>1</th>\n",
       "      <td>ENTP</td>\n",
       "      <td>1</td>\n",
       "      <td>1</td>\n",
       "      <td>0</td>\n",
       "      <td>1</td>\n",
       "      <td>[I'm finding the lack of me in these posts ver...</td>\n",
       "      <td>I'm finding the lack of me in these posts very...</td>\n",
       "    </tr>\n",
       "    <tr>\n",
       "      <th>2</th>\n",
       "      <td>INTP</td>\n",
       "      <td>0</td>\n",
       "      <td>1</td>\n",
       "      <td>0</td>\n",
       "      <td>1</td>\n",
       "      <td>[Good one  _____   https://www.youtube.com/wat...</td>\n",
       "      <td>Of course, to which I say I know; that's my bl...</td>\n",
       "    </tr>\n",
       "    <tr>\n",
       "      <th>3</th>\n",
       "      <td>INTJ</td>\n",
       "      <td>0</td>\n",
       "      <td>1</td>\n",
       "      <td>0</td>\n",
       "      <td>0</td>\n",
       "      <td>[Dear INTP,   I enjoyed our conversation the o...</td>\n",
       "      <td>Dear INTP,   I enjoyed our conversation the ot...</td>\n",
       "    </tr>\n",
       "    <tr>\n",
       "      <th>4</th>\n",
       "      <td>ENTJ</td>\n",
       "      <td>1</td>\n",
       "      <td>1</td>\n",
       "      <td>0</td>\n",
       "      <td>0</td>\n",
       "      <td>[You're fired., That's another silly misconcep...</td>\n",
       "      <td>You're fired. That's another silly misconcepti...</td>\n",
       "    </tr>\n",
       "  </tbody>\n",
       "</table>\n",
       "</div>"
      ],
      "text/plain": [
       "   type  E/I  N/S  F/T  P/J  \\\n",
       "0  INFJ    0    1    1    0   \n",
       "1  ENTP    1    1    0    1   \n",
       "2  INTP    0    1    0    1   \n",
       "3  INTJ    0    1    0    0   \n",
       "4  ENTJ    1    1    0    0   \n",
       "\n",
       "                                                post  \\\n",
       "0  [http://www.youtube.com/watch?v=qsXHcwe3krw, h...   \n",
       "1  [I'm finding the lack of me in these posts ver...   \n",
       "2  [Good one  _____   https://www.youtube.com/wat...   \n",
       "3  [Dear INTP,   I enjoyed our conversation the o...   \n",
       "4  [You're fired., That's another silly misconcep...   \n",
       "\n",
       "                                       post_no_links  \n",
       "0  What has been the most life-changing experienc...  \n",
       "1  I'm finding the lack of me in these posts very...  \n",
       "2  Of course, to which I say I know; that's my bl...  \n",
       "3  Dear INTP,   I enjoyed our conversation the ot...  \n",
       "4  You're fired. That's another silly misconcepti...  "
      ]
     },
     "execution_count": 14,
     "metadata": {},
     "output_type": "execute_result"
    }
   ],
   "source": [
    "df.head()"
   ]
  },
  {
   "cell_type": "markdown",
   "metadata": {},
   "source": [
    "# SpaCy and Regex preprocessing"
   ]
  },
  {
   "cell_type": "code",
   "execution_count": 23,
   "metadata": {
    "execution": {
     "iopub.execute_input": "2020-10-30T15:57:48.450387Z",
     "iopub.status.busy": "2020-10-30T15:57:48.449044Z",
     "iopub.status.idle": "2020-10-30T15:57:49.435834Z",
     "shell.execute_reply": "2020-10-30T15:57:49.435348Z",
     "shell.execute_reply.started": "2020-10-30T15:57:48.450351Z"
    }
   },
   "outputs": [],
   "source": [
    "import spacy\n",
    "import re\n",
    "import string\n",
    "# Create our list of punctuation marks\n",
    "punctuations = string.punctuation\n",
    "\n",
    "# Load English tokenizer, tagger, parser, NER and word vectors\n",
    "parser = spacy.load('en_core_web_sm')\n",
    "\n",
    "# Create our list of stopwords\n",
    "stop_words = spacy.lang.en.stop_words.STOP_WORDS\n",
    "\n",
    "# Creating our tokenizer function\n",
    "def spacy_tokenizer(sentence):\n",
    "    # Creating our token object, which is used to create documents with linguistic annotations.\n",
    "    mytokens = parser(sentence)\n",
    "    \n",
    "    # Lemmatizing each token and converting each token into lowercase\n",
    "    mytokens = [ word.lemma_.lower().strip() if word.lemma_ != \"-PRON-\" else word.lower_ for word in mytokens ]\n",
    "    \n",
    "    # Removing stop words\n",
    "    mytokens = [ word for word in mytokens if word not in stop_words and word not in punctuations ]\n",
    "    \n",
    "    # return preprocessed list of tokens\n",
    "    return ' '.join(mytokens)"
   ]
  },
  {
   "cell_type": "code",
   "execution_count": 19,
   "metadata": {
    "execution": {
     "iopub.execute_input": "2020-10-27T07:57:56.090205Z",
     "iopub.status.busy": "2020-10-27T07:57:56.089981Z",
     "iopub.status.idle": "2020-10-27T07:57:56.676190Z",
     "shell.execute_reply": "2020-10-27T07:57:56.675518Z",
     "shell.execute_reply.started": "2020-10-27T07:57:56.090182Z"
    }
   },
   "outputs": [],
   "source": [
    "pd.to_pickle(parser, 'pickled_transformations/parser.pkl')\n",
    "pd.to_pickle(stop_words, 'pickled_transformations/stop_words.pkl')"
   ]
  },
  {
   "cell_type": "code",
   "execution_count": 64,
   "metadata": {
    "execution": {
     "iopub.execute_input": "2020-10-22T03:45:40.217325Z",
     "iopub.status.busy": "2020-10-22T03:45:40.217102Z",
     "iopub.status.idle": "2020-10-22T04:10:02.714513Z",
     "shell.execute_reply": "2020-10-22T04:10:02.713747Z",
     "shell.execute_reply.started": "2020-10-22T03:45:40.217302Z"
    }
   },
   "outputs": [],
   "source": [
    "df['spacy_post'] = df.post_no_links.apply(spacy_tokenizer) #.map(alphanumeric).map(punc_lower)"
   ]
  },
  {
   "cell_type": "code",
   "execution_count": 65,
   "metadata": {
    "execution": {
     "iopub.execute_input": "2020-10-22T04:10:02.716535Z",
     "iopub.status.busy": "2020-10-22T04:10:02.716326Z",
     "iopub.status.idle": "2020-10-22T04:10:02.720906Z",
     "shell.execute_reply": "2020-10-22T04:10:02.720027Z",
     "shell.execute_reply.started": "2020-10-22T04:10:02.716512Z"
    }
   },
   "outputs": [],
   "source": [
    "alphanumeric = lambda x: re.sub('\\w*\\d\\w*', '', x)\n",
    "punc_lower = lambda x: re.sub('[%s]' % re.escape(string.punctuation), '', x.lower())"
   ]
  },
  {
   "cell_type": "code",
   "execution_count": 66,
   "metadata": {
    "execution": {
     "iopub.execute_input": "2020-10-22T04:10:02.723408Z",
     "iopub.status.busy": "2020-10-22T04:10:02.723090Z",
     "iopub.status.idle": "2020-10-22T04:10:07.683248Z",
     "shell.execute_reply": "2020-10-22T04:10:07.682661Z",
     "shell.execute_reply.started": "2020-10-22T04:10:02.723366Z"
    }
   },
   "outputs": [
    {
     "data": {
      "text/html": [
       "<div>\n",
       "<style scoped>\n",
       "    .dataframe tbody tr th:only-of-type {\n",
       "        vertical-align: middle;\n",
       "    }\n",
       "\n",
       "    .dataframe tbody tr th {\n",
       "        vertical-align: top;\n",
       "    }\n",
       "\n",
       "    .dataframe thead th {\n",
       "        text-align: right;\n",
       "    }\n",
       "</style>\n",
       "<table border=\"1\" class=\"dataframe\">\n",
       "  <thead>\n",
       "    <tr style=\"text-align: right;\">\n",
       "      <th></th>\n",
       "      <th>type</th>\n",
       "      <th>E/I</th>\n",
       "      <th>N/S</th>\n",
       "      <th>F/T</th>\n",
       "      <th>P/J</th>\n",
       "      <th>post</th>\n",
       "      <th>post_no_links</th>\n",
       "      <th>spacy_post</th>\n",
       "      <th>clean_post</th>\n",
       "    </tr>\n",
       "  </thead>\n",
       "  <tbody>\n",
       "    <tr>\n",
       "      <th>0</th>\n",
       "      <td>INFJ</td>\n",
       "      <td>0</td>\n",
       "      <td>1</td>\n",
       "      <td>1</td>\n",
       "      <td>0</td>\n",
       "      <td>[http://www.youtube.com/watch?v=qsXHcwe3krw, h...</td>\n",
       "      <td>What has been the most life-changing experienc...</td>\n",
       "      <td>life change experience life perc experience im...</td>\n",
       "      <td>life change experience life perc experience im...</td>\n",
       "    </tr>\n",
       "    <tr>\n",
       "      <th>1</th>\n",
       "      <td>ENTP</td>\n",
       "      <td>1</td>\n",
       "      <td>1</td>\n",
       "      <td>0</td>\n",
       "      <td>1</td>\n",
       "      <td>[I'm finding the lack of me in these posts ver...</td>\n",
       "      <td>I'm finding the lack of me in these posts very...</td>\n",
       "      <td>find lack post alarming sex boring position ex...</td>\n",
       "      <td>find lack post alarming sex boring position ex...</td>\n",
       "    </tr>\n",
       "    <tr>\n",
       "      <th>2</th>\n",
       "      <td>INTP</td>\n",
       "      <td>0</td>\n",
       "      <td>1</td>\n",
       "      <td>0</td>\n",
       "      <td>1</td>\n",
       "      <td>[Good one  _____   https://www.youtube.com/wat...</td>\n",
       "      <td>Of course, to which I say I know; that's my bl...</td>\n",
       "      <td>course know blessing curse absolutely positive...</td>\n",
       "      <td>course know blessing curse absolutely positive...</td>\n",
       "    </tr>\n",
       "    <tr>\n",
       "      <th>3</th>\n",
       "      <td>INTJ</td>\n",
       "      <td>0</td>\n",
       "      <td>1</td>\n",
       "      <td>0</td>\n",
       "      <td>0</td>\n",
       "      <td>[Dear INTP,   I enjoyed our conversation the o...</td>\n",
       "      <td>Dear INTP,   I enjoyed our conversation the ot...</td>\n",
       "      <td>dear intp enjoy conversation day esoteric gabb...</td>\n",
       "      <td>dear intp enjoy conversation day esoteric gabb...</td>\n",
       "    </tr>\n",
       "    <tr>\n",
       "      <th>4</th>\n",
       "      <td>ENTJ</td>\n",
       "      <td>1</td>\n",
       "      <td>1</td>\n",
       "      <td>0</td>\n",
       "      <td>0</td>\n",
       "      <td>[You're fired., That's another silly misconcep...</td>\n",
       "      <td>You're fired. That's another silly misconcepti...</td>\n",
       "      <td>fire silly misconception approach logically ke...</td>\n",
       "      <td>fire silly misconception approach logically ke...</td>\n",
       "    </tr>\n",
       "  </tbody>\n",
       "</table>\n",
       "</div>"
      ],
      "text/plain": [
       "   type  E/I  N/S  F/T  P/J  \\\n",
       "0  INFJ    0    1    1    0   \n",
       "1  ENTP    1    1    0    1   \n",
       "2  INTP    0    1    0    1   \n",
       "3  INTJ    0    1    0    0   \n",
       "4  ENTJ    1    1    0    0   \n",
       "\n",
       "                                                post  \\\n",
       "0  [http://www.youtube.com/watch?v=qsXHcwe3krw, h...   \n",
       "1  [I'm finding the lack of me in these posts ver...   \n",
       "2  [Good one  _____   https://www.youtube.com/wat...   \n",
       "3  [Dear INTP,   I enjoyed our conversation the o...   \n",
       "4  [You're fired., That's another silly misconcep...   \n",
       "\n",
       "                                       post_no_links  \\\n",
       "0  What has been the most life-changing experienc...   \n",
       "1  I'm finding the lack of me in these posts very...   \n",
       "2  Of course, to which I say I know; that's my bl...   \n",
       "3  Dear INTP,   I enjoyed our conversation the ot...   \n",
       "4  You're fired. That's another silly misconcepti...   \n",
       "\n",
       "                                          spacy_post  \\\n",
       "0  life change experience life perc experience im...   \n",
       "1  find lack post alarming sex boring position ex...   \n",
       "2  course know blessing curse absolutely positive...   \n",
       "3  dear intp enjoy conversation day esoteric gabb...   \n",
       "4  fire silly misconception approach logically ke...   \n",
       "\n",
       "                                          clean_post  \n",
       "0  life change experience life perc experience im...  \n",
       "1  find lack post alarming sex boring position ex...  \n",
       "2  course know blessing curse absolutely positive...  \n",
       "3  dear intp enjoy conversation day esoteric gabb...  \n",
       "4  fire silly misconception approach logically ke...  "
      ]
     },
     "execution_count": 66,
     "metadata": {},
     "output_type": "execute_result"
    }
   ],
   "source": [
    "df['clean_post'] = df.spacy_post.map(alphanumeric).map(punc_lower)\n",
    "df.head()"
   ]
  },
  {
   "cell_type": "markdown",
   "metadata": {},
   "source": [
    "## basic EDA"
   ]
  },
  {
   "cell_type": "markdown",
   "metadata": {},
   "source": [
    "Lets look at the distrubtion of personalities in our data set"
   ]
  },
  {
   "cell_type": "code",
   "execution_count": 67,
   "metadata": {
    "execution": {
     "iopub.execute_input": "2020-10-22T04:10:07.685147Z",
     "iopub.status.busy": "2020-10-22T04:10:07.684956Z",
     "iopub.status.idle": "2020-10-22T04:10:07.713390Z",
     "shell.execute_reply": "2020-10-22T04:10:07.712713Z",
     "shell.execute_reply.started": "2020-10-22T04:10:07.685126Z"
    }
   },
   "outputs": [
    {
     "data": {
      "text/plain": [
       "INFP    21.118156\n",
       "INFJ    16.945245\n",
       "INTP    15.031700\n",
       "INTJ    12.576369\n",
       "ENTP     7.896254\n",
       "ENFP     7.780980\n",
       "ISTP     3.884726\n",
       "ISFP     3.123919\n",
       "ENTJ     2.662824\n",
       "ISTJ     2.363112\n",
       "ENFJ     2.190202\n",
       "ISFJ     1.913545\n",
       "ESTP     1.025937\n",
       "ESFP     0.553314\n",
       "ESFJ     0.484150\n",
       "ESTJ     0.449568\n",
       "Name: type, dtype: float64"
      ]
     },
     "execution_count": 67,
     "metadata": {},
     "output_type": "execute_result"
    }
   ],
   "source": [
    "df.type.value_counts(normalize=True)*100"
   ]
  },
  {
   "cell_type": "markdown",
   "metadata": {},
   "source": [
    "**Actual** real life distribution ([source]('https://www.careerplanner.com/MB2/TypeInPopulation.cfm'))"
   ]
  },
  {
   "cell_type": "code",
   "execution_count": 68,
   "metadata": {
    "execution": {
     "iopub.execute_input": "2020-10-22T04:10:07.715034Z",
     "iopub.status.busy": "2020-10-22T04:10:07.714806Z",
     "iopub.status.idle": "2020-10-22T04:10:07.730613Z",
     "shell.execute_reply": "2020-10-22T04:10:07.729963Z",
     "shell.execute_reply.started": "2020-10-22T04:10:07.715010Z"
    }
   },
   "outputs": [
    {
     "data": {
      "text/html": [
       "<div>\n",
       "<style scoped>\n",
       "    .dataframe tbody tr th:only-of-type {\n",
       "        vertical-align: middle;\n",
       "    }\n",
       "\n",
       "    .dataframe tbody tr th {\n",
       "        vertical-align: top;\n",
       "    }\n",
       "\n",
       "    .dataframe thead th {\n",
       "        text-align: right;\n",
       "    }\n",
       "</style>\n",
       "<table border=\"1\" class=\"dataframe\">\n",
       "  <thead>\n",
       "    <tr style=\"text-align: right;\">\n",
       "      <th></th>\n",
       "      <th>percentage</th>\n",
       "    </tr>\n",
       "  </thead>\n",
       "  <tbody>\n",
       "    <tr>\n",
       "      <th>ISFJ</th>\n",
       "      <td>13.8</td>\n",
       "    </tr>\n",
       "    <tr>\n",
       "      <th>ESFJ</th>\n",
       "      <td>12.3</td>\n",
       "    </tr>\n",
       "    <tr>\n",
       "      <th>ISTJ</th>\n",
       "      <td>11.6</td>\n",
       "    </tr>\n",
       "    <tr>\n",
       "      <th>ISFP</th>\n",
       "      <td>8.8</td>\n",
       "    </tr>\n",
       "    <tr>\n",
       "      <th>ESTJ</th>\n",
       "      <td>8.7</td>\n",
       "    </tr>\n",
       "    <tr>\n",
       "      <th>ESFP</th>\n",
       "      <td>8.5</td>\n",
       "    </tr>\n",
       "    <tr>\n",
       "      <th>ENFP</th>\n",
       "      <td>8.1</td>\n",
       "    </tr>\n",
       "    <tr>\n",
       "      <th>ISTP</th>\n",
       "      <td>5.4</td>\n",
       "    </tr>\n",
       "    <tr>\n",
       "      <th>INFP</th>\n",
       "      <td>4.4</td>\n",
       "    </tr>\n",
       "    <tr>\n",
       "      <th>ESTP</th>\n",
       "      <td>4.3</td>\n",
       "    </tr>\n",
       "    <tr>\n",
       "      <th>INTP</th>\n",
       "      <td>3.3</td>\n",
       "    </tr>\n",
       "    <tr>\n",
       "      <th>ENTP</th>\n",
       "      <td>3.2</td>\n",
       "    </tr>\n",
       "    <tr>\n",
       "      <th>ENFJ</th>\n",
       "      <td>2.5</td>\n",
       "    </tr>\n",
       "    <tr>\n",
       "      <th>INTJ</th>\n",
       "      <td>2.1</td>\n",
       "    </tr>\n",
       "    <tr>\n",
       "      <th>ENTJ</th>\n",
       "      <td>1.8</td>\n",
       "    </tr>\n",
       "    <tr>\n",
       "      <th>INFJ</th>\n",
       "      <td>1.5</td>\n",
       "    </tr>\n",
       "  </tbody>\n",
       "</table>\n",
       "</div>"
      ],
      "text/plain": [
       "      percentage\n",
       "ISFJ        13.8\n",
       "ESFJ        12.3\n",
       "ISTJ        11.6\n",
       "ISFP         8.8\n",
       "ESTJ         8.7\n",
       "ESFP         8.5\n",
       "ENFP         8.1\n",
       "ISTP         5.4\n",
       "INFP         4.4\n",
       "ESTP         4.3\n",
       "INTP         3.3\n",
       "ENTP         3.2\n",
       "ENFJ         2.5\n",
       "INTJ         2.1\n",
       "ENTJ         1.8\n",
       "INFJ         1.5"
      ]
     },
     "execution_count": 68,
     "metadata": {},
     "output_type": "execute_result"
    }
   ],
   "source": [
    "#Source: https://www.careerplanner.com/MB2/TypeInPopulation.cfm\n",
    "\n",
    "mbDist_dict = {'ISFJ':13.8, 'ESFJ':12.3, 'ISTJ':11.6, 'ISFP':8.8, \n",
    "               'ESTJ':8.7,'ESFP':8.5,'ENFP':8.1,'ISTP':5.4,\n",
    "               'INFP':4.4,'ESTP':4.3,'INTP':3.3,'ENTP':3.2,\n",
    "               'ENFJ':2.5,'INTJ':2.1,'ENTJ':1.8,'INFJ':1.5}\n",
    "\n",
    "mbDist_df = pd.DataFrame(data=mbDist_dict.values(), index=mbDist_dict.keys(), columns=['percentage'])\n",
    "mbDist_df.sort_values('percentage', ascending=False)"
   ]
  },
  {
   "cell_type": "code",
   "execution_count": 69,
   "metadata": {
    "execution": {
     "iopub.execute_input": "2020-10-22T04:10:07.732397Z",
     "iopub.status.busy": "2020-10-22T04:10:07.732192Z",
     "iopub.status.idle": "2020-10-22T04:10:08.328862Z",
     "shell.execute_reply": "2020-10-22T04:10:08.327907Z",
     "shell.execute_reply.started": "2020-10-22T04:10:07.732367Z"
    }
   },
   "outputs": [
    {
     "data": {
      "text/plain": [
       "<matplotlib.axes._subplots.AxesSubplot at 0x7fc2b5a1ddf0>"
      ]
     },
     "execution_count": 69,
     "metadata": {},
     "output_type": "execute_result"
    },
    {
     "data": {
      "image/png": "[encoded data removed]",
      "text/plain": [
       "<Figure size 432x288 with 1 Axes>"
      ]
     },
     "metadata": {
      "needs_background": "light"
     },
     "output_type": "display_data"
    }
   ],
   "source": [
    "df.type.hist(type)"
   ]
  },
  {
   "cell_type": "markdown",
   "metadata": {},
   "source": [
    "### Class Distribution"
   ]
  },
  {
   "cell_type": "code",
   "execution_count": 5,
   "metadata": {
    "execution": {
     "iopub.execute_input": "2020-10-27T06:22:44.271915Z",
     "iopub.status.busy": "2020-10-27T06:22:44.271681Z",
     "iopub.status.idle": "2020-10-27T06:22:44.339076Z",
     "shell.execute_reply": "2020-10-27T06:22:44.338322Z",
     "shell.execute_reply.started": "2020-10-27T06:22:44.271891Z"
    }
   },
   "outputs": [
    {
     "data": {
      "text/plain": [
       "E/I    6676\n",
       "N/S    7478\n",
       "F/T    4694\n",
       "P/J    5241\n",
       "dtype: int64"
      ]
     },
     "execution_count": 5,
     "metadata": {},
     "output_type": "execute_result"
    }
   ],
   "source": [
    "# Number of E N F or P's\n",
    "ENFP = df.iloc[:,2:6].sum()\n",
    "ISTJ = df.shape[0]-df.iloc[:,2:6].sum()\n",
    "ENFP"
   ]
  },
  {
   "cell_type": "markdown",
   "metadata": {},
   "source": [
    "Looks like we have quite a class imbalance!!"
   ]
  },
  {
   "cell_type": "code",
   "execution_count": 10,
   "metadata": {
    "execution": {
     "iopub.execute_input": "2020-10-27T06:28:37.297349Z",
     "iopub.status.busy": "2020-10-27T06:28:37.297118Z",
     "iopub.status.idle": "2020-10-27T06:28:37.643291Z",
     "shell.execute_reply": "2020-10-27T06:28:37.642576Z",
     "shell.execute_reply.started": "2020-10-27T06:28:37.297325Z"
    }
   },
   "outputs": [
    {
     "data": {
      "image/png": "[encoded data removed]",
      "text/plain": [
       "<Figure size 432x288 with 1 Axes>"
      ]
     },
     "metadata": {},
     "output_type": "display_data"
    },
    {
     "name": "stdout",
     "output_type": "stream",
     "text": [
      "majority class: 0.77\n"
     ]
    },
    {
     "data": {
      "image/png": "[encoded data removed]",
      "text/plain": [
       "<Figure size 432x288 with 1 Axes>"
      ]
     },
     "metadata": {},
     "output_type": "display_data"
    },
    {
     "name": "stdout",
     "output_type": "stream",
     "text": [
      "majority class: 0.86\n"
     ]
    },
    {
     "data": {
      "image/png": "[encoded data removed]",
      "text/plain": [
       "<Figure size 432x288 with 1 Axes>"
      ]
     },
     "metadata": {},
     "output_type": "display_data"
    },
    {
     "name": "stdout",
     "output_type": "stream",
     "text": [
      "majority class: 0.54\n"
     ]
    },
    {
     "data": {
      "image/png": "[encoded data removed]",
      "text/plain": [
       "<Figure size 432x288 with 1 Axes>"
      ]
     },
     "metadata": {},
     "output_type": "display_data"
    },
    {
     "name": "stdout",
     "output_type": "stream",
     "text": [
      "majority class: 0.60\n"
     ]
    }
   ],
   "source": [
    "for i, j, label in zip(ENFP, ISTJ,[['I','E'],['N','S'],['F','T'],['P','J']]):\n",
    "    pi = plt.pie([i, j],\n",
    "                shadow = True, \n",
    "                colors = ('yellow','tan'), \n",
    "                startangle = 90, \n",
    "                textprops = dict(fontsize = 30),\n",
    "                labels = label,\n",
    "                labeldistance = .6)\n",
    "    plt.savefig(f'plots/{label} pieChart.png',bbox_inches = 'tight', pad_inches = 0)\n",
    "    plt.show()\n",
    "    print(f'majority class: {i/8675:.2f}')"
   ]
  },
  {
   "cell_type": "markdown",
   "metadata": {},
   "source": [
    "# EXPORT to SQL for NLP in other notebook"
   ]
  },
  {
   "cell_type": "code",
   "execution_count": 71,
   "metadata": {
    "execution": {
     "iopub.execute_input": "2020-10-22T04:13:11.761215Z",
     "iopub.status.busy": "2020-10-22T04:13:11.760685Z",
     "iopub.status.idle": "2020-10-22T04:48:04.630823Z",
     "shell.execute_reply": "2020-10-22T04:48:04.630005Z",
     "shell.execute_reply.started": "2020-10-22T04:13:11.761154Z"
    }
   },
   "outputs": [
    {
     "data": {
      "text/plain": [
       "True"
      ]
     },
     "execution_count": 71,
     "metadata": {},
     "output_type": "execute_result"
    }
   ],
   "source": [
    "import d6tstack\n",
    "\n",
    "# fast CSV to SQL import - see SQL examples notebook\n",
    "d6tstack.utils.pd_to_psql(df, \n",
    "                          'postgresql+psycopg2://briantam: @localhost/myers_briggs', \n",
    "                          'cleaned_posts', \n",
    "                          if_exists='replace',\n",
    "                          sep='\\t')"
   ]
  },
  {
   "cell_type": "code",
   "execution_count": 72,
   "metadata": {
    "execution": {
     "iopub.execute_input": "2020-10-22T04:48:04.632614Z",
     "iopub.status.busy": "2020-10-22T04:48:04.632416Z",
     "iopub.status.idle": "2020-10-22T04:48:08.864373Z",
     "shell.execute_reply": "2020-10-22T04:48:08.863460Z",
     "shell.execute_reply.started": "2020-10-22T04:48:04.632591Z"
    }
   },
   "outputs": [],
   "source": [
    "df.to_csv('cleaned_posts.csv')"
   ]
  },
  {
   "cell_type": "markdown",
   "metadata": {
    "toc-hr-collapsed": true,
    "toc-nb-collapsed": true
   },
   "source": [
    "# Appendix"
   ]
  },
  {
   "cell_type": "markdown",
   "metadata": {},
   "source": [
    "## NLP"
   ]
  },
  {
   "cell_type": "code",
   "execution_count": 18,
   "metadata": {
    "execution": {
     "iopub.execute_input": "2020-10-20T01:56:31.783223Z",
     "iopub.status.busy": "2020-10-20T01:56:31.783008Z",
     "iopub.status.idle": "2020-10-20T01:56:31.798244Z",
     "shell.execute_reply": "2020-10-20T01:56:31.797731Z",
     "shell.execute_reply.started": "2020-10-20T01:56:31.783199Z"
    }
   },
   "outputs": [
    {
     "data": {
      "text/html": [
       "<div>\n",
       "<style scoped>\n",
       "    .dataframe tbody tr th:only-of-type {\n",
       "        vertical-align: middle;\n",
       "    }\n",
       "\n",
       "    .dataframe tbody tr th {\n",
       "        vertical-align: top;\n",
       "    }\n",
       "\n",
       "    .dataframe thead th {\n",
       "        text-align: right;\n",
       "    }\n",
       "</style>\n",
       "<table border=\"1\" class=\"dataframe\">\n",
       "  <thead>\n",
       "    <tr style=\"text-align: right;\">\n",
       "      <th></th>\n",
       "      <th>I-E</th>\n",
       "      <th>J-P</th>\n",
       "      <th>N-S</th>\n",
       "      <th>T-F</th>\n",
       "      <th>type</th>\n",
       "      <th>post</th>\n",
       "      <th>tweet_length</th>\n",
       "      <th>clean_post</th>\n",
       "    </tr>\n",
       "  </thead>\n",
       "  <tbody>\n",
       "    <tr>\n",
       "      <th>3</th>\n",
       "      <td>0</td>\n",
       "      <td>0</td>\n",
       "      <td>1</td>\n",
       "      <td>1</td>\n",
       "      <td>INFJ</td>\n",
       "      <td>What has been the most life-changing experienc...</td>\n",
       "      <td>61</td>\n",
       "      <td>what has been the most life changing experienc...</td>\n",
       "    </tr>\n",
       "    <tr>\n",
       "      <th>5</th>\n",
       "      <td>0</td>\n",
       "      <td>0</td>\n",
       "      <td>1</td>\n",
       "      <td>1</td>\n",
       "      <td>INFJ</td>\n",
       "      <td>May the PerC Experience immerse you.</td>\n",
       "      <td>36</td>\n",
       "      <td>may the perc experience immerse you</td>\n",
       "    </tr>\n",
       "    <tr>\n",
       "      <th>7</th>\n",
       "      <td>0</td>\n",
       "      <td>0</td>\n",
       "      <td>1</td>\n",
       "      <td>1</td>\n",
       "      <td>INFJ</td>\n",
       "      <td>Hello ENFJ7. Sorry to hear of your distress. I...</td>\n",
       "      <td>200</td>\n",
       "      <td>hello    sorry to hear of your distress  it s ...</td>\n",
       "    </tr>\n",
       "    <tr>\n",
       "      <th>9</th>\n",
       "      <td>0</td>\n",
       "      <td>0</td>\n",
       "      <td>1</td>\n",
       "      <td>1</td>\n",
       "      <td>INFJ</td>\n",
       "      <td>Welcome and stuff.</td>\n",
       "      <td>18</td>\n",
       "      <td>welcome and stuff</td>\n",
       "    </tr>\n",
       "    <tr>\n",
       "      <th>11</th>\n",
       "      <td>0</td>\n",
       "      <td>0</td>\n",
       "      <td>1</td>\n",
       "      <td>1</td>\n",
       "      <td>INFJ</td>\n",
       "      <td>Prozac, wellbrutin, at least thirty minutes of...</td>\n",
       "      <td>201</td>\n",
       "      <td>prozac  wellbrutin  at least thirty minutes of...</td>\n",
       "    </tr>\n",
       "    <tr>\n",
       "      <th>...</th>\n",
       "      <td>...</td>\n",
       "      <td>...</td>\n",
       "      <td>...</td>\n",
       "      <td>...</td>\n",
       "      <td>...</td>\n",
       "      <td>...</td>\n",
       "      <td>...</td>\n",
       "      <td>...</td>\n",
       "    </tr>\n",
       "    <tr>\n",
       "      <th>422840</th>\n",
       "      <td>0</td>\n",
       "      <td>1</td>\n",
       "      <td>1</td>\n",
       "      <td>1</td>\n",
       "      <td>INFP</td>\n",
       "      <td>I was going to close my facebook a few months ...</td>\n",
       "      <td>193</td>\n",
       "      <td>i was going to close my facebook a few months ...</td>\n",
       "    </tr>\n",
       "    <tr>\n",
       "      <th>422841</th>\n",
       "      <td>0</td>\n",
       "      <td>1</td>\n",
       "      <td>1</td>\n",
       "      <td>1</td>\n",
       "      <td>INFP</td>\n",
       "      <td>30 Seconds to Mars - All of my collections. It...</td>\n",
       "      <td>85</td>\n",
       "      <td>seconds to mars   all of my collections  it ...</td>\n",
       "    </tr>\n",
       "    <tr>\n",
       "      <th>422842</th>\n",
       "      <td>0</td>\n",
       "      <td>1</td>\n",
       "      <td>1</td>\n",
       "      <td>1</td>\n",
       "      <td>INFP</td>\n",
       "      <td>I have seen it, and i agree. I did actually th...</td>\n",
       "      <td>199</td>\n",
       "      <td>i have seen it  and i agree  i did actually th...</td>\n",
       "    </tr>\n",
       "    <tr>\n",
       "      <th>422843</th>\n",
       "      <td>0</td>\n",
       "      <td>1</td>\n",
       "      <td>1</td>\n",
       "      <td>1</td>\n",
       "      <td>INFP</td>\n",
       "      <td>Ok so i have just watched Underworld 4 (Awaken...</td>\n",
       "      <td>200</td>\n",
       "      <td>ok so i have just watched underworld    awaken...</td>\n",
       "    </tr>\n",
       "    <tr>\n",
       "      <th>422844</th>\n",
       "      <td>0</td>\n",
       "      <td>1</td>\n",
       "      <td>1</td>\n",
       "      <td>1</td>\n",
       "      <td>INFP</td>\n",
       "      <td>I would never want to turn off my emotions. so...</td>\n",
       "      <td>111</td>\n",
       "      <td>i would never want to turn off my emotions  so...</td>\n",
       "    </tr>\n",
       "  </tbody>\n",
       "</table>\n",
       "<p>397614 rows × 8 columns</p>\n",
       "</div>"
      ],
      "text/plain": [
       "        I-E  J-P  N-S  T-F  type  \\\n",
       "3         0    0    1    1  INFJ   \n",
       "5         0    0    1    1  INFJ   \n",
       "7         0    0    1    1  INFJ   \n",
       "9         0    0    1    1  INFJ   \n",
       "11        0    0    1    1  INFJ   \n",
       "...     ...  ...  ...  ...   ...   \n",
       "422840    0    1    1    1  INFP   \n",
       "422841    0    1    1    1  INFP   \n",
       "422842    0    1    1    1  INFP   \n",
       "422843    0    1    1    1  INFP   \n",
       "422844    0    1    1    1  INFP   \n",
       "\n",
       "                                                     post  tweet_length  \\\n",
       "3       What has been the most life-changing experienc...            61   \n",
       "5                    May the PerC Experience immerse you.            36   \n",
       "7       Hello ENFJ7. Sorry to hear of your distress. I...           200   \n",
       "9                                      Welcome and stuff.            18   \n",
       "11      Prozac, wellbrutin, at least thirty minutes of...           201   \n",
       "...                                                   ...           ...   \n",
       "422840  I was going to close my facebook a few months ...           193   \n",
       "422841  30 Seconds to Mars - All of my collections. It...            85   \n",
       "422842  I have seen it, and i agree. I did actually th...           199   \n",
       "422843  Ok so i have just watched Underworld 4 (Awaken...           200   \n",
       "422844  I would never want to turn off my emotions. so...           111   \n",
       "\n",
       "                                               clean_post  \n",
       "3       what has been the most life changing experienc...  \n",
       "5                    may the perc experience immerse you   \n",
       "7       hello    sorry to hear of your distress  it s ...  \n",
       "9                                      welcome and stuff   \n",
       "11      prozac  wellbrutin  at least thirty minutes of...  \n",
       "...                                                   ...  \n",
       "422840  i was going to close my facebook a few months ...  \n",
       "422841    seconds to mars   all of my collections  it ...  \n",
       "422842  i have seen it  and i agree  i did actually th...  \n",
       "422843  ok so i have just watched underworld    awaken...  \n",
       "422844  i would never want to turn off my emotions  so...  \n",
       "\n",
       "[397614 rows x 8 columns]"
      ]
     },
     "execution_count": 18,
     "metadata": {},
     "output_type": "execute_result"
    }
   ],
   "source": [
    "df"
   ]
  },
  {
   "cell_type": "code",
   "execution_count": 160,
   "metadata": {
    "execution": {
     "iopub.execute_input": "2020-10-20T03:45:31.892756Z",
     "iopub.status.busy": "2020-10-20T03:45:31.892534Z",
     "iopub.status.idle": "2020-10-20T03:45:31.895879Z",
     "shell.execute_reply": "2020-10-20T03:45:31.895180Z",
     "shell.execute_reply.started": "2020-10-20T03:45:31.892732Z"
    }
   },
   "outputs": [],
   "source": [
    "# Split the data into X and y data sets\n",
    "X = df.clean_post\n",
    "y = df['I-E']"
   ]
  },
  {
   "cell_type": "code",
   "execution_count": 161,
   "metadata": {
    "execution": {
     "iopub.execute_input": "2020-10-20T03:45:32.567551Z",
     "iopub.status.busy": "2020-10-20T03:45:32.567334Z",
     "iopub.status.idle": "2020-10-20T03:45:32.642005Z",
     "shell.execute_reply": "2020-10-20T03:45:32.641396Z",
     "shell.execute_reply.started": "2020-10-20T03:45:32.567525Z"
    }
   },
   "outputs": [],
   "source": [
    "# Split the data into training and test sets\n",
    "X_train, X_test, y_train, y_test = train_test_split(X, y, test_size=0.3, random_state=42)"
   ]
  },
  {
   "cell_type": "code",
   "execution_count": 162,
   "metadata": {
    "execution": {
     "iopub.execute_input": "2020-10-20T03:45:40.836712Z",
     "iopub.status.busy": "2020-10-20T03:45:40.836463Z",
     "iopub.status.idle": "2020-10-20T03:45:40.841984Z",
     "shell.execute_reply": "2020-10-20T03:45:40.841260Z",
     "shell.execute_reply.started": "2020-10-20T03:45:40.836684Z"
    }
   },
   "outputs": [
    {
     "data": {
      "text/plain": [
       "402648                           sleepyfox im crying ahahah\n",
       "115323    id say xnfj  clear n id go with f over t but t...\n",
       "308568    hi and welcome glad to see a new addition i ho...\n",
       "135536    never too late im  and in  year of mba my clas...\n",
       "23932     not to steal your wordsbut that is exactly wha...\n",
       "                                ...                        \n",
       "11470                        hi im here if you need to talk\n",
       "10705                            so what have you found out\n",
       "244829    for me as far as looks goes a lot of it is in ...\n",
       "196953    you win i was only bruised did you bite yourse...\n",
       "69894     that i either watched disneys notredame de par...\n",
       "Name: clean_post, Length: 119285, dtype: object"
      ]
     },
     "execution_count": 162,
     "metadata": {},
     "output_type": "execute_result"
    }
   ],
   "source": [
    "X_test"
   ]
  },
  {
   "cell_type": "code",
   "execution_count": 21,
   "metadata": {
    "execution": {
     "iopub.execute_input": "2020-10-20T01:56:36.559808Z",
     "iopub.status.busy": "2020-10-20T01:56:36.559579Z",
     "iopub.status.idle": "2020-10-20T01:56:47.557438Z",
     "shell.execute_reply": "2020-10-20T01:56:47.556601Z",
     "shell.execute_reply.started": "2020-10-20T01:56:36.559784Z"
    }
   },
   "outputs": [],
   "source": [
    "# The first document-term matrix has default Count Vectorizer values - counts of unigrams\n",
    "cv1 = CountVectorizer(min_df=5, max_features=2000, stop_words='english')\n",
    "\n",
    "X_train_cv1 = cv1.fit_transform(X_train)\n",
    "X_test_cv1  = cv1.transform(X_test)\n",
    "\n",
    "cv = pd.DataFrame(X_train_cv1.toarray(), columns=cv1.get_feature_names()).head()"
   ]
  },
  {
   "cell_type": "code",
   "execution_count": 73,
   "metadata": {
    "execution": {
     "iopub.execute_input": "2020-10-19T05:46:32.700295Z",
     "iopub.status.busy": "2020-10-19T05:46:32.699694Z",
     "iopub.status.idle": "2020-10-19T05:46:51.890708Z",
     "shell.execute_reply": "2020-10-19T05:46:51.889741Z",
     "shell.execute_reply.started": "2020-10-19T05:46:32.700257Z"
    }
   },
   "outputs": [
    {
     "data": {
      "text/html": [
       "<div>\n",
       "<style scoped>\n",
       "    .dataframe tbody tr th:only-of-type {\n",
       "        vertical-align: middle;\n",
       "    }\n",
       "\n",
       "    .dataframe tbody tr th {\n",
       "        vertical-align: top;\n",
       "    }\n",
       "\n",
       "    .dataframe thead th {\n",
       "        text-align: right;\n",
       "    }\n",
       "</style>\n",
       "<table border=\"1\" class=\"dataframe\">\n",
       "  <thead>\n",
       "    <tr style=\"text-align: right;\">\n",
       "      <th></th>\n",
       "      <th>ability</th>\n",
       "      <th>able</th>\n",
       "      <th>absolutely</th>\n",
       "      <th>accept</th>\n",
       "      <th>according</th>\n",
       "      <th>accurate</th>\n",
       "      <th>act</th>\n",
       "      <th>action</th>\n",
       "      <th>actions</th>\n",
       "      <th>actual</th>\n",
       "      <th>...</th>\n",
       "      <th>yeah</th>\n",
       "      <th>year</th>\n",
       "      <th>years</th>\n",
       "      <th>years ago</th>\n",
       "      <th>yep</th>\n",
       "      <th>yes</th>\n",
       "      <th>yesterday</th>\n",
       "      <th>young</th>\n",
       "      <th>younger</th>\n",
       "      <th>youtube</th>\n",
       "    </tr>\n",
       "  </thead>\n",
       "  <tbody>\n",
       "    <tr>\n",
       "      <th>0</th>\n",
       "      <td>0</td>\n",
       "      <td>0</td>\n",
       "      <td>0</td>\n",
       "      <td>0</td>\n",
       "      <td>0</td>\n",
       "      <td>0</td>\n",
       "      <td>0</td>\n",
       "      <td>0</td>\n",
       "      <td>0</td>\n",
       "      <td>0</td>\n",
       "      <td>...</td>\n",
       "      <td>0</td>\n",
       "      <td>0</td>\n",
       "      <td>0</td>\n",
       "      <td>0</td>\n",
       "      <td>0</td>\n",
       "      <td>0</td>\n",
       "      <td>0</td>\n",
       "      <td>0</td>\n",
       "      <td>0</td>\n",
       "      <td>0</td>\n",
       "    </tr>\n",
       "    <tr>\n",
       "      <th>1</th>\n",
       "      <td>0</td>\n",
       "      <td>0</td>\n",
       "      <td>0</td>\n",
       "      <td>0</td>\n",
       "      <td>0</td>\n",
       "      <td>0</td>\n",
       "      <td>0</td>\n",
       "      <td>0</td>\n",
       "      <td>0</td>\n",
       "      <td>0</td>\n",
       "      <td>...</td>\n",
       "      <td>0</td>\n",
       "      <td>0</td>\n",
       "      <td>0</td>\n",
       "      <td>0</td>\n",
       "      <td>0</td>\n",
       "      <td>0</td>\n",
       "      <td>0</td>\n",
       "      <td>0</td>\n",
       "      <td>0</td>\n",
       "      <td>0</td>\n",
       "    </tr>\n",
       "    <tr>\n",
       "      <th>2</th>\n",
       "      <td>0</td>\n",
       "      <td>0</td>\n",
       "      <td>1</td>\n",
       "      <td>0</td>\n",
       "      <td>0</td>\n",
       "      <td>0</td>\n",
       "      <td>0</td>\n",
       "      <td>0</td>\n",
       "      <td>0</td>\n",
       "      <td>0</td>\n",
       "      <td>...</td>\n",
       "      <td>0</td>\n",
       "      <td>0</td>\n",
       "      <td>0</td>\n",
       "      <td>0</td>\n",
       "      <td>0</td>\n",
       "      <td>0</td>\n",
       "      <td>0</td>\n",
       "      <td>0</td>\n",
       "      <td>0</td>\n",
       "      <td>0</td>\n",
       "    </tr>\n",
       "    <tr>\n",
       "      <th>3</th>\n",
       "      <td>0</td>\n",
       "      <td>0</td>\n",
       "      <td>0</td>\n",
       "      <td>0</td>\n",
       "      <td>0</td>\n",
       "      <td>0</td>\n",
       "      <td>0</td>\n",
       "      <td>0</td>\n",
       "      <td>0</td>\n",
       "      <td>0</td>\n",
       "      <td>...</td>\n",
       "      <td>0</td>\n",
       "      <td>0</td>\n",
       "      <td>0</td>\n",
       "      <td>0</td>\n",
       "      <td>0</td>\n",
       "      <td>0</td>\n",
       "      <td>0</td>\n",
       "      <td>0</td>\n",
       "      <td>0</td>\n",
       "      <td>0</td>\n",
       "    </tr>\n",
       "    <tr>\n",
       "      <th>4</th>\n",
       "      <td>0</td>\n",
       "      <td>0</td>\n",
       "      <td>0</td>\n",
       "      <td>0</td>\n",
       "      <td>0</td>\n",
       "      <td>0</td>\n",
       "      <td>0</td>\n",
       "      <td>0</td>\n",
       "      <td>0</td>\n",
       "      <td>0</td>\n",
       "      <td>...</td>\n",
       "      <td>0</td>\n",
       "      <td>0</td>\n",
       "      <td>0</td>\n",
       "      <td>0</td>\n",
       "      <td>0</td>\n",
       "      <td>0</td>\n",
       "      <td>0</td>\n",
       "      <td>0</td>\n",
       "      <td>0</td>\n",
       "      <td>0</td>\n",
       "    </tr>\n",
       "  </tbody>\n",
       "</table>\n",
       "<p>5 rows × 1000 columns</p>\n",
       "</div>"
      ],
      "text/plain": [
       "   ability  able  absolutely  accept  according  accurate  act  action  \\\n",
       "0        0     0           0       0          0         0    0       0   \n",
       "1        0     0           0       0          0         0    0       0   \n",
       "2        0     0           1       0          0         0    0       0   \n",
       "3        0     0           0       0          0         0    0       0   \n",
       "4        0     0           0       0          0         0    0       0   \n",
       "\n",
       "   actions  actual  ...  yeah  year  years  years ago  yep  yes  yesterday  \\\n",
       "0        0       0  ...     0     0      0          0    0    0          0   \n",
       "1        0       0  ...     0     0      0          0    0    0          0   \n",
       "2        0       0  ...     0     0      0          0    0    0          0   \n",
       "3        0       0  ...     0     0      0          0    0    0          0   \n",
       "4        0       0  ...     0     0      0          0    0    0          0   \n",
       "\n",
       "   young  younger  youtube  \n",
       "0      0        0        0  \n",
       "1      0        0        0  \n",
       "2      0        0        0  \n",
       "3      0        0        0  \n",
       "4      0        0        0  \n",
       "\n",
       "[5 rows x 1000 columns]"
      ]
     },
     "execution_count": 73,
     "metadata": {},
     "output_type": "execute_result"
    }
   ],
   "source": [
    "# The second document-term matrix has both unigrams and bigrams, and indicators instead of counts\n",
    "cv2 = CountVectorizer(min_df=5, max_features=1000, ngram_range=(1,2), binary=True, stop_words='english')\n",
    "\n",
    "X_train_cv2 = cv2.fit_transform(X_train)\n",
    "X_test_cv2  = cv2.transform(X_test)\n",
    "\n",
    "pd.DataFrame(X_train_cv2.toarray(), columns=cv2.get_feature_names()).head()"
   ]
  },
  {
   "cell_type": "markdown",
   "metadata": {},
   "source": [
    "### Try classifying using Logistic Regression"
   ]
  },
  {
   "cell_type": "code",
   "execution_count": 74,
   "metadata": {
    "execution": {
     "iopub.execute_input": "2020-10-19T05:47:19.169611Z",
     "iopub.status.busy": "2020-10-19T05:47:19.169413Z",
     "iopub.status.idle": "2020-10-19T05:47:19.172475Z",
     "shell.execute_reply": "2020-10-19T05:47:19.171921Z",
     "shell.execute_reply.started": "2020-10-19T05:47:19.169590Z"
    }
   },
   "outputs": [],
   "source": [
    "# Create a logistic regression model to use\n",
    "from sklearn.linear_model import LogisticRegression\n",
    "lr = LogisticRegression(class_weight = 'balanced')"
   ]
  },
  {
   "cell_type": "code",
   "execution_count": 75,
   "metadata": {
    "execution": {
     "iopub.execute_input": "2020-10-19T05:47:19.818004Z",
     "iopub.status.busy": "2020-10-19T05:47:19.817725Z",
     "iopub.status.idle": "2020-10-19T05:47:21.646656Z",
     "shell.execute_reply": "2020-10-19T05:47:21.645958Z",
     "shell.execute_reply.started": "2020-10-19T05:47:19.817968Z"
    }
   },
   "outputs": [],
   "source": [
    "# Train the first model\n",
    "lr.fit(X_train_cv1, y_train)\n",
    "y_pred_cv1 = lr.predict(X_test_cv1)"
   ]
  },
  {
   "cell_type": "code",
   "execution_count": 76,
   "metadata": {
    "execution": {
     "iopub.execute_input": "2020-10-19T05:47:22.678080Z",
     "iopub.status.busy": "2020-10-19T05:47:22.677826Z",
     "iopub.status.idle": "2020-10-19T05:47:24.973967Z",
     "shell.execute_reply": "2020-10-19T05:47:24.973404Z",
     "shell.execute_reply.started": "2020-10-19T05:47:22.678056Z"
    }
   },
   "outputs": [
    {
     "name": "stderr",
     "output_type": "stream",
     "text": [
      "/Users/briantam/opt/anaconda3/envs/metis/lib/python3.8/site-packages/sklearn/linear_model/_logistic.py:762: ConvergenceWarning: lbfgs failed to converge (status=1):\n",
      "STOP: TOTAL NO. of ITERATIONS REACHED LIMIT.\n",
      "\n",
      "Increase the number of iterations (max_iter) or scale the data as shown in:\n",
      "    https://scikit-learn.org/stable/modules/preprocessing.html\n",
      "Please also refer to the documentation for alternative solver options:\n",
      "    https://scikit-learn.org/stable/modules/linear_model.html#logistic-regression\n",
      "  n_iter_i = _check_optimize_result(\n"
     ]
    }
   ],
   "source": [
    "# Train the second model\n",
    "lr.fit(X_train_cv2, y_train)\n",
    "y_pred_cv2 = lr.predict(X_test_cv2)"
   ]
  },
  {
   "cell_type": "code",
   "execution_count": 77,
   "metadata": {
    "execution": {
     "iopub.execute_input": "2020-10-19T05:47:24.975338Z",
     "iopub.status.busy": "2020-10-19T05:47:24.975159Z",
     "iopub.status.idle": "2020-10-19T05:47:25.041875Z",
     "shell.execute_reply": "2020-10-19T05:47:25.041286Z",
     "shell.execute_reply.started": "2020-10-19T05:47:24.975315Z"
    }
   },
   "outputs": [],
   "source": [
    "# Create a function to calculate the error metrics, since we'll be doing this several times\n",
    "from sklearn.metrics import confusion_matrix\n",
    "import matplotlib.pyplot as plt\n",
    "import seaborn as sns\n",
    "%matplotlib inline\n",
    "\n",
    "def conf_matrix(actual, predicted):\n",
    "    cm = confusion_matrix(actual, predicted)\n",
    "    sns.heatmap(cm, xticklabels=['predicted_negative', 'predicted_positive'], \n",
    "                yticklabels=['actual_negative', 'actual_positive'], annot=True,\n",
    "                fmt='d', annot_kws={'fontsize':20}, cmap=\"YlGnBu\");\n",
    "\n",
    "    true_neg, false_pos = cm[0]\n",
    "    false_neg, true_pos = cm[1]\n",
    "\n",
    "    accuracy = round((true_pos + true_neg) / (true_pos + true_neg + false_pos + false_neg),3)\n",
    "    precision = round((true_pos) / (true_pos + false_pos),3)\n",
    "    recall = round((true_pos) / (true_pos + false_neg),3)\n",
    "    f1 = round(2 * (precision * recall) / (precision + recall),3)\n",
    "\n",
    "    cm_results = [accuracy, precision, recall, f1]\n",
    "    return cm_results"
   ]
  },
  {
   "cell_type": "code",
   "execution_count": 78,
   "metadata": {
    "execution": {
     "iopub.execute_input": "2020-10-19T05:47:25.045246Z",
     "iopub.status.busy": "2020-10-19T05:47:25.045062Z",
     "iopub.status.idle": "2020-10-19T05:47:25.072097Z",
     "shell.execute_reply": "2020-10-19T05:47:25.071546Z",
     "shell.execute_reply.started": "2020-10-19T05:47:25.045226Z"
    }
   },
   "outputs": [
    {
     "data": {
      "text/plain": [
       "0    304524\n",
       "1     93090\n",
       "Name: I-E, dtype: int64"
      ]
     },
     "execution_count": 78,
     "metadata": {},
     "output_type": "execute_result"
    }
   ],
   "source": [
    "df['I-E'].value_counts()"
   ]
  },
  {
   "cell_type": "code",
   "execution_count": 79,
   "metadata": {
    "execution": {
     "iopub.execute_input": "2020-10-19T05:47:25.074058Z",
     "iopub.status.busy": "2020-10-19T05:47:25.073868Z",
     "iopub.status.idle": "2020-10-19T05:47:25.415358Z",
     "shell.execute_reply": "2020-10-19T05:47:25.414789Z",
     "shell.execute_reply.started": "2020-10-19T05:47:25.074036Z"
    }
   },
   "outputs": [
    {
     "data": {
      "image/png": "[encoded data removed]",
      "text/plain": [
       "<Figure size 432x288 with 2 Axes>"
      ]
     },
     "metadata": {
      "needs_background": "light"
     },
     "output_type": "display_data"
    }
   ],
   "source": [
    "# The heat map for the first logistic regression model\n",
    "cm1 = conf_matrix(y_test, y_pred_cv1)"
   ]
  },
  {
   "cell_type": "code",
   "execution_count": 80,
   "metadata": {
    "execution": {
     "iopub.execute_input": "2020-10-19T05:47:25.416467Z",
     "iopub.status.busy": "2020-10-19T05:47:25.416276Z",
     "iopub.status.idle": "2020-10-19T05:47:25.654651Z",
     "shell.execute_reply": "2020-10-19T05:47:25.653980Z",
     "shell.execute_reply.started": "2020-10-19T05:47:25.416448Z"
    }
   },
   "outputs": [
    {
     "data": {
      "image/png": "[encoded data removed]",
      "text/plain": [
       "<Figure size 432x288 with 2 Axes>"
      ]
     },
     "metadata": {
      "needs_background": "light"
     },
     "output_type": "display_data"
    }
   ],
   "source": [
    "# The heat map for the second logistic regression model\n",
    "cm2 = conf_matrix(y_test, y_pred_cv2)"
   ]
  },
  {
   "cell_type": "code",
   "execution_count": 81,
   "metadata": {
    "execution": {
     "iopub.execute_input": "2020-10-19T05:47:25.656909Z",
     "iopub.status.busy": "2020-10-19T05:47:25.656515Z",
     "iopub.status.idle": "2020-10-19T05:47:25.668166Z",
     "shell.execute_reply": "2020-10-19T05:47:25.667335Z",
     "shell.execute_reply.started": "2020-10-19T05:47:25.656860Z"
    }
   },
   "outputs": [
    {
     "data": {
      "text/html": [
       "<div>\n",
       "<style scoped>\n",
       "    .dataframe tbody tr th:only-of-type {\n",
       "        vertical-align: middle;\n",
       "    }\n",
       "\n",
       "    .dataframe tbody tr th {\n",
       "        vertical-align: top;\n",
       "    }\n",
       "\n",
       "    .dataframe thead th {\n",
       "        text-align: right;\n",
       "    }\n",
       "</style>\n",
       "<table border=\"1\" class=\"dataframe\">\n",
       "  <thead>\n",
       "    <tr style=\"text-align: right;\">\n",
       "      <th></th>\n",
       "      <th>LogReg1</th>\n",
       "      <th>LogReg2</th>\n",
       "    </tr>\n",
       "  </thead>\n",
       "  <tbody>\n",
       "    <tr>\n",
       "      <th>Accuracy</th>\n",
       "      <td>0.612</td>\n",
       "      <td>0.627</td>\n",
       "    </tr>\n",
       "    <tr>\n",
       "      <th>Precision</th>\n",
       "      <td>0.302</td>\n",
       "      <td>0.310</td>\n",
       "    </tr>\n",
       "    <tr>\n",
       "      <th>Recall</th>\n",
       "      <td>0.505</td>\n",
       "      <td>0.487</td>\n",
       "    </tr>\n",
       "    <tr>\n",
       "      <th>F1 Score</th>\n",
       "      <td>0.378</td>\n",
       "      <td>0.379</td>\n",
       "    </tr>\n",
       "  </tbody>\n",
       "</table>\n",
       "</div>"
      ],
      "text/plain": [
       "           LogReg1  LogReg2\n",
       "Accuracy     0.612    0.627\n",
       "Precision    0.302    0.310\n",
       "Recall       0.505    0.487\n",
       "F1 Score     0.378    0.379"
      ]
     },
     "execution_count": 81,
     "metadata": {},
     "output_type": "execute_result"
    }
   ],
   "source": [
    "# Compile all of the error metrics into a dataframe for comparison\n",
    "results = pd.DataFrame(list(zip(cm1, cm2)))\n",
    "results = results.set_index([['Accuracy', 'Precision', 'Recall', 'F1 Score']])\n",
    "results.columns = ['LogReg1', 'LogReg2']\n",
    "results"
   ]
  },
  {
   "cell_type": "markdown",
   "metadata": {},
   "source": [
    "### Try classifying using Naive Bayes"
   ]
  },
  {
   "cell_type": "code",
   "execution_count": 82,
   "metadata": {
    "execution": {
     "iopub.execute_input": "2020-10-19T05:47:26.913706Z",
     "iopub.status.busy": "2020-10-19T05:47:26.913503Z",
     "iopub.status.idle": "2020-10-19T05:47:26.985946Z",
     "shell.execute_reply": "2020-10-19T05:47:26.985275Z",
     "shell.execute_reply.started": "2020-10-19T05:47:26.913685Z"
    }
   },
   "outputs": [],
   "source": [
    "# Fit the first Naive Bayes model\n",
    "from sklearn.naive_bayes import MultinomialNB\n",
    "\n",
    "mnb = MultinomialNB()\n",
    "mnb.fit(X_train_cv1, y_train)\n",
    "\n",
    "y_pred_cv1_nb = mnb.predict(X_test_cv1)"
   ]
  },
  {
   "cell_type": "code",
   "execution_count": 83,
   "metadata": {
    "execution": {
     "iopub.execute_input": "2020-10-19T05:47:26.988157Z",
     "iopub.status.busy": "2020-10-19T05:47:26.987965Z",
     "iopub.status.idle": "2020-10-19T05:47:27.077029Z",
     "shell.execute_reply": "2020-10-19T05:47:27.076428Z",
     "shell.execute_reply.started": "2020-10-19T05:47:26.988136Z"
    }
   },
   "outputs": [],
   "source": [
    "# Fit the second Naive Bayes model\n",
    "from sklearn.naive_bayes import BernoulliNB\n",
    "\n",
    "bnb = BernoulliNB()\n",
    "bnb.fit(X_train_cv2, y_train)\n",
    "\n",
    "y_pred_cv2_nb = bnb.predict(X_test_cv2)"
   ]
  },
  {
   "cell_type": "code",
   "execution_count": 84,
   "metadata": {
    "execution": {
     "iopub.execute_input": "2020-10-19T05:47:27.078256Z",
     "iopub.status.busy": "2020-10-19T05:47:27.078077Z",
     "iopub.status.idle": "2020-10-19T05:47:27.082438Z",
     "shell.execute_reply": "2020-10-19T05:47:27.081775Z",
     "shell.execute_reply.started": "2020-10-19T05:47:27.078235Z"
    }
   },
   "outputs": [
    {
     "name": "stdout",
     "output_type": "stream",
     "text": [
      "(119285,)\n"
     ]
    },
    {
     "data": {
      "text/plain": [
       "(119285,)"
      ]
     },
     "execution_count": 84,
     "metadata": {},
     "output_type": "execute_result"
    }
   ],
   "source": [
    "print(y_test.shape)\n",
    "y_pred_cv1_nb.shape"
   ]
  },
  {
   "cell_type": "code",
   "execution_count": 85,
   "metadata": {
    "execution": {
     "iopub.execute_input": "2020-10-19T05:47:27.084339Z",
     "iopub.status.busy": "2020-10-19T05:47:27.084069Z",
     "iopub.status.idle": "2020-10-19T05:47:27.322884Z",
     "shell.execute_reply": "2020-10-19T05:47:27.322237Z",
     "shell.execute_reply.started": "2020-10-19T05:47:27.084314Z"
    }
   },
   "outputs": [
    {
     "data": {
      "image/png": "[encoded data removed]",
      "text/plain": [
       "<Figure size 432x288 with 2 Axes>"
      ]
     },
     "metadata": {
      "needs_background": "light"
     },
     "output_type": "display_data"
    }
   ],
   "source": [
    "# Here's the heat map for the first Naive Bayes model\n",
    "cm3 = conf_matrix(y_test, y_pred_cv1_nb)"
   ]
  },
  {
   "cell_type": "code",
   "execution_count": 86,
   "metadata": {
    "execution": {
     "iopub.execute_input": "2020-10-19T05:47:27.324146Z",
     "iopub.status.busy": "2020-10-19T05:47:27.323971Z",
     "iopub.status.idle": "2020-10-19T05:47:27.582786Z",
     "shell.execute_reply": "2020-10-19T05:47:27.582090Z",
     "shell.execute_reply.started": "2020-10-19T05:47:27.324125Z"
    }
   },
   "outputs": [
    {
     "data": {
      "image/png": "[encoded data removed]",
      "text/plain": [
       "<Figure size 432x288 with 2 Axes>"
      ]
     },
     "metadata": {
      "needs_background": "light"
     },
     "output_type": "display_data"
    }
   ],
   "source": [
    "# Here's the heat map for the second Naive Bayes model\n",
    "cm4 = conf_matrix(y_test, y_pred_cv2_nb)"
   ]
  },
  {
   "cell_type": "code",
   "execution_count": 87,
   "metadata": {
    "execution": {
     "iopub.execute_input": "2020-10-19T05:47:30.275227Z",
     "iopub.status.busy": "2020-10-19T05:47:30.275057Z",
     "iopub.status.idle": "2020-10-19T05:47:30.284587Z",
     "shell.execute_reply": "2020-10-19T05:47:30.284112Z",
     "shell.execute_reply.started": "2020-10-19T05:47:30.275208Z"
    }
   },
   "outputs": [
    {
     "data": {
      "text/html": [
       "<div>\n",
       "<style scoped>\n",
       "    .dataframe tbody tr th:only-of-type {\n",
       "        vertical-align: middle;\n",
       "    }\n",
       "\n",
       "    .dataframe tbody tr th {\n",
       "        vertical-align: top;\n",
       "    }\n",
       "\n",
       "    .dataframe thead th {\n",
       "        text-align: right;\n",
       "    }\n",
       "</style>\n",
       "<table border=\"1\" class=\"dataframe\">\n",
       "  <thead>\n",
       "    <tr style=\"text-align: right;\">\n",
       "      <th></th>\n",
       "      <th>LogReg1</th>\n",
       "      <th>LogReg2</th>\n",
       "      <th>NB1</th>\n",
       "      <th>NB2</th>\n",
       "    </tr>\n",
       "  </thead>\n",
       "  <tbody>\n",
       "    <tr>\n",
       "      <th>Accuracy</th>\n",
       "      <td>0.612</td>\n",
       "      <td>0.627</td>\n",
       "      <td>0.766</td>\n",
       "      <td>0.768</td>\n",
       "    </tr>\n",
       "    <tr>\n",
       "      <th>Precision</th>\n",
       "      <td>0.302</td>\n",
       "      <td>0.310</td>\n",
       "      <td>0.491</td>\n",
       "      <td>0.518</td>\n",
       "    </tr>\n",
       "    <tr>\n",
       "      <th>Recall</th>\n",
       "      <td>0.505</td>\n",
       "      <td>0.487</td>\n",
       "      <td>0.107</td>\n",
       "      <td>0.089</td>\n",
       "    </tr>\n",
       "    <tr>\n",
       "      <th>F1 Score</th>\n",
       "      <td>0.378</td>\n",
       "      <td>0.379</td>\n",
       "      <td>0.176</td>\n",
       "      <td>0.152</td>\n",
       "    </tr>\n",
       "  </tbody>\n",
       "</table>\n",
       "</div>"
      ],
      "text/plain": [
       "           LogReg1  LogReg2    NB1    NB2\n",
       "Accuracy     0.612    0.627  0.766  0.768\n",
       "Precision    0.302    0.310  0.491  0.518\n",
       "Recall       0.505    0.487  0.107  0.089\n",
       "F1 Score     0.378    0.379  0.176  0.152"
      ]
     },
     "execution_count": 87,
     "metadata": {},
     "output_type": "execute_result"
    }
   ],
   "source": [
    "# Compile all of the error metrics into a dataframe for comparison\n",
    "results_nb = pd.DataFrame(list(zip(cm3, cm4)))\n",
    "results_nb = results_nb.set_index([['Accuracy', 'Precision', 'Recall', 'F1 Score']])\n",
    "results_nb.columns = ['NB1', 'NB2']\n",
    "results_nb\n",
    "\n",
    "results = pd.concat([results, results_nb], axis=1)\n",
    "results"
   ]
  },
  {
   "cell_type": "markdown",
   "metadata": {},
   "source": [
    "### Try using TF-IDF instead of Count Vectorizer"
   ]
  },
  {
   "cell_type": "code",
   "execution_count": 88,
   "metadata": {
    "execution": {
     "iopub.execute_input": "2020-10-19T05:47:32.906437Z",
     "iopub.status.busy": "2020-10-19T05:47:32.906198Z",
     "iopub.status.idle": "2020-10-19T05:48:01.452484Z",
     "shell.execute_reply": "2020-10-19T05:48:01.451868Z",
     "shell.execute_reply.started": "2020-10-19T05:47:32.906413Z"
    }
   },
   "outputs": [],
   "source": [
    "# Create TF-IDF versions of the Count Vectorizers created earlier in the exercise\n",
    "from sklearn.feature_extraction.text import TfidfVectorizer\n",
    "\n",
    "tfidf1 = TfidfVectorizer(stop_words='english')\n",
    "X_train_tfidf1 = tfidf1.fit_transform(X_train)\n",
    "X_test_tfidf1  = tfidf1.transform(X_test)\n",
    "\n",
    "tfidf2 = TfidfVectorizer(ngram_range=(1,2), binary=True, stop_words='english')\n",
    "X_train_tfidf2 = tfidf2.fit_transform(X_train)\n",
    "X_test_tfidf2  = tfidf2.transform(X_test)"
   ]
  },
  {
   "cell_type": "code",
   "execution_count": 89,
   "metadata": {
    "execution": {
     "iopub.execute_input": "2020-10-19T05:48:01.453826Z",
     "iopub.status.busy": "2020-10-19T05:48:01.453491Z",
     "iopub.status.idle": "2020-10-19T05:48:06.833964Z",
     "shell.execute_reply": "2020-10-19T05:48:06.833095Z",
     "shell.execute_reply.started": "2020-10-19T05:48:01.453802Z"
    }
   },
   "outputs": [
    {
     "name": "stderr",
     "output_type": "stream",
     "text": [
      "/Users/briantam/opt/anaconda3/envs/metis/lib/python3.8/site-packages/sklearn/linear_model/_logistic.py:762: ConvergenceWarning: lbfgs failed to converge (status=1):\n",
      "STOP: TOTAL NO. of ITERATIONS REACHED LIMIT.\n",
      "\n",
      "Increase the number of iterations (max_iter) or scale the data as shown in:\n",
      "    https://scikit-learn.org/stable/modules/preprocessing.html\n",
      "Please also refer to the documentation for alternative solver options:\n",
      "    https://scikit-learn.org/stable/modules/linear_model.html#logistic-regression\n",
      "  n_iter_i = _check_optimize_result(\n"
     ]
    },
    {
     "data": {
      "image/png": "[encoded data removed]",
      "text/plain": [
       "<Figure size 432x288 with 2 Axes>"
      ]
     },
     "metadata": {
      "needs_background": "light"
     },
     "output_type": "display_data"
    }
   ],
   "source": [
    "# Fit the first logistic regression on the TF-IDF data\n",
    "lr.fit(X_train_tfidf1, y_train)\n",
    "y_pred_tfidf1_lr = lr.predict(X_test_tfidf1)\n",
    "cm5 = conf_matrix(y_test, y_pred_tfidf1_lr)"
   ]
  },
  {
   "cell_type": "code",
   "execution_count": 90,
   "metadata": {
    "execution": {
     "iopub.execute_input": "2020-10-19T05:48:06.835800Z",
     "iopub.status.busy": "2020-10-19T05:48:06.835572Z",
     "iopub.status.idle": "2020-10-19T05:48:43.796222Z",
     "shell.execute_reply": "2020-10-19T05:48:43.795633Z",
     "shell.execute_reply.started": "2020-10-19T05:48:06.835757Z"
    }
   },
   "outputs": [
    {
     "name": "stderr",
     "output_type": "stream",
     "text": [
      "/Users/briantam/opt/anaconda3/envs/metis/lib/python3.8/site-packages/sklearn/linear_model/_logistic.py:762: ConvergenceWarning: lbfgs failed to converge (status=1):\n",
      "STOP: TOTAL NO. of ITERATIONS REACHED LIMIT.\n",
      "\n",
      "Increase the number of iterations (max_iter) or scale the data as shown in:\n",
      "    https://scikit-learn.org/stable/modules/preprocessing.html\n",
      "Please also refer to the documentation for alternative solver options:\n",
      "    https://scikit-learn.org/stable/modules/linear_model.html#logistic-regression\n",
      "  n_iter_i = _check_optimize_result(\n"
     ]
    },
    {
     "data": {
      "image/png": "[encoded data removed]",
      "text/plain": [
       "<Figure size 432x288 with 2 Axes>"
      ]
     },
     "metadata": {
      "needs_background": "light"
     },
     "output_type": "display_data"
    }
   ],
   "source": [
    "# Fit the second logistic regression on the TF-IDF data\n",
    "lr.fit(X_train_tfidf2, y_train)\n",
    "y_pred_tfidf2_lr = lr.predict(X_test_tfidf2)\n",
    "cm6 = conf_matrix(y_test, y_pred_tfidf2_lr)"
   ]
  },
  {
   "cell_type": "markdown",
   "metadata": {},
   "source": [
    "## Topic Modeling"
   ]
  },
  {
   "cell_type": "code",
   "execution_count": null,
   "metadata": {},
   "outputs": [],
   "source": []
  },
  {
   "cell_type": "markdown",
   "metadata": {},
   "source": [
    "### Latent Semantic Analysis (LSA)"
   ]
  },
  {
   "cell_type": "code",
   "execution_count": 97,
   "metadata": {
    "execution": {
     "iopub.execute_input": "2020-10-20T03:12:10.963552Z",
     "iopub.status.busy": "2020-10-20T03:12:10.963345Z",
     "iopub.status.idle": "2020-10-20T03:13:50.587511Z",
     "shell.execute_reply": "2020-10-20T03:13:50.584078Z",
     "shell.execute_reply.started": "2020-10-20T03:12:10.963530Z"
    }
   },
   "outputs": [
    {
     "data": {
      "text/plain": [
       "array([0.01950523, 0.01762124, 0.01437884, 0.01368814, 0.0129187 ])"
      ]
     },
     "execution_count": 97,
     "metadata": {},
     "output_type": "execute_result"
    }
   ],
   "source": [
    "# Acronynms: Latent Semantic Analysis (LSA) is just another name for \n",
    "#  Signular Value Decomposition (SVD) applied to Natural Language Processing (NLP)\n",
    "lsa = TruncatedSVD(5)\n",
    "doc_topic = lsa.fit_transform(pd.DataFrame(X_train_cv1.toarray(), columns=cv1.get_feature_names()))\n",
    "lsa.explained_variance_ratio_"
   ]
  },
  {
   "cell_type": "markdown",
   "metadata": {},
   "source": [
    "Create function to create a short summary list of the topics "
   ]
  },
  {
   "cell_type": "code",
   "execution_count": 98,
   "metadata": {
    "execution": {
     "iopub.execute_input": "2020-10-20T03:13:51.031923Z",
     "iopub.status.busy": "2020-10-20T03:13:51.031544Z",
     "iopub.status.idle": "2020-10-20T03:13:51.040165Z",
     "shell.execute_reply": "2020-10-20T03:13:51.039544Z",
     "shell.execute_reply.started": "2020-10-20T03:13:51.031890Z"
    }
   },
   "outputs": [],
   "source": [
    "def display_topics(model, feature_names, no_top_words, topic_names=None):\n",
    "    \"\"\"\n",
    "    Takes in model and feature names and outputs \n",
    "    a list of string of the top words from each topic.\n",
    "    \"\"\"\n",
    "    topics = []\n",
    "    for ix, topic in enumerate(model.components_):\n",
    "        topics.append(str(\", \".join([feature_names[i]\n",
    "                        for i in topic.argsort()[:-no_top_words - 1:-1]])))\n",
    "    return topics"
   ]
  },
  {
   "cell_type": "code",
   "execution_count": 103,
   "metadata": {
    "execution": {
     "iopub.execute_input": "2020-10-20T03:14:51.208515Z",
     "iopub.status.busy": "2020-10-20T03:14:51.208224Z",
     "iopub.status.idle": "2020-10-20T03:14:52.165154Z",
     "shell.execute_reply": "2020-10-20T03:14:52.164482Z",
     "shell.execute_reply.started": "2020-10-20T03:14:51.208484Z"
    }
   },
   "outputs": [],
   "source": [
    "topics = display_topics(lsa, cv1.get_feature_names(), 5)"
   ]
  },
  {
   "cell_type": "code",
   "execution_count": 104,
   "metadata": {
    "execution": {
     "iopub.execute_input": "2020-10-20T03:14:52.665641Z",
     "iopub.status.busy": "2020-10-20T03:14:52.665428Z",
     "iopub.status.idle": "2020-10-20T03:14:52.688978Z",
     "shell.execute_reply": "2020-10-20T03:14:52.688422Z",
     "shell.execute_reply.started": "2020-10-20T03:14:52.665616Z"
    }
   },
   "outputs": [
    {
     "data": {
      "text/html": [
       "<div>\n",
       "<style scoped>\n",
       "    .dataframe tbody tr th:only-of-type {\n",
       "        vertical-align: middle;\n",
       "    }\n",
       "\n",
       "    .dataframe tbody tr th {\n",
       "        vertical-align: top;\n",
       "    }\n",
       "\n",
       "    .dataframe thead th {\n",
       "        text-align: right;\n",
       "    }\n",
       "</style>\n",
       "<table border=\"1\" class=\"dataframe\">\n",
       "  <thead>\n",
       "    <tr style=\"text-align: right;\">\n",
       "      <th></th>\n",
       "      <th>ability</th>\n",
       "      <th>able</th>\n",
       "      <th>absolute</th>\n",
       "      <th>absolutely</th>\n",
       "      <th>abstract</th>\n",
       "      <th>accept</th>\n",
       "      <th>accepted</th>\n",
       "      <th>accepting</th>\n",
       "      <th>according</th>\n",
       "      <th>account</th>\n",
       "      <th>...</th>\n",
       "      <th>year</th>\n",
       "      <th>years</th>\n",
       "      <th>yep</th>\n",
       "      <th>yes</th>\n",
       "      <th>yesterday</th>\n",
       "      <th>young</th>\n",
       "      <th>younger</th>\n",
       "      <th>youtube</th>\n",
       "      <th>yup</th>\n",
       "      <th>zone</th>\n",
       "    </tr>\n",
       "  </thead>\n",
       "  <tbody>\n",
       "    <tr>\n",
       "      <th>like, don, just, people, think</th>\n",
       "      <td>0.004</td>\n",
       "      <td>0.014</td>\n",
       "      <td>0.001</td>\n",
       "      <td>0.008</td>\n",
       "      <td>0.002</td>\n",
       "      <td>0.004</td>\n",
       "      <td>0.001</td>\n",
       "      <td>0.001</td>\n",
       "      <td>0.002</td>\n",
       "      <td>0.002</td>\n",
       "      <td>...</td>\n",
       "      <td>0.016</td>\n",
       "      <td>0.029</td>\n",
       "      <td>0.003</td>\n",
       "      <td>0.040</td>\n",
       "      <td>0.003</td>\n",
       "      <td>0.006</td>\n",
       "      <td>0.006</td>\n",
       "      <td>0.002</td>\n",
       "      <td>0.002</td>\n",
       "      <td>0.002</td>\n",
       "    </tr>\n",
       "    <tr>\n",
       "      <th>like, feel, sounds, sound, looks</th>\n",
       "      <td>-0.002</td>\n",
       "      <td>-0.004</td>\n",
       "      <td>-0.001</td>\n",
       "      <td>-0.002</td>\n",
       "      <td>-0.000</td>\n",
       "      <td>-0.003</td>\n",
       "      <td>-0.000</td>\n",
       "      <td>-0.000</td>\n",
       "      <td>-0.001</td>\n",
       "      <td>-0.001</td>\n",
       "      <td>...</td>\n",
       "      <td>-0.002</td>\n",
       "      <td>-0.008</td>\n",
       "      <td>-0.000</td>\n",
       "      <td>-0.011</td>\n",
       "      <td>-0.001</td>\n",
       "      <td>-0.001</td>\n",
       "      <td>-0.001</td>\n",
       "      <td>-0.000</td>\n",
       "      <td>-0.000</td>\n",
       "      <td>-0.000</td>\n",
       "    </tr>\n",
       "    <tr>\n",
       "      <th>just, ve, time, really, ll</th>\n",
       "      <td>-0.001</td>\n",
       "      <td>0.000</td>\n",
       "      <td>0.000</td>\n",
       "      <td>0.002</td>\n",
       "      <td>0.000</td>\n",
       "      <td>0.001</td>\n",
       "      <td>0.001</td>\n",
       "      <td>-0.000</td>\n",
       "      <td>-0.000</td>\n",
       "      <td>0.000</td>\n",
       "      <td>...</td>\n",
       "      <td>0.009</td>\n",
       "      <td>0.012</td>\n",
       "      <td>0.001</td>\n",
       "      <td>0.004</td>\n",
       "      <td>0.003</td>\n",
       "      <td>0.000</td>\n",
       "      <td>-0.001</td>\n",
       "      <td>0.001</td>\n",
       "      <td>0.000</td>\n",
       "      <td>0.000</td>\n",
       "    </tr>\n",
       "    <tr>\n",
       "      <th>people, just, ve, time, lot</th>\n",
       "      <td>0.002</td>\n",
       "      <td>0.004</td>\n",
       "      <td>0.000</td>\n",
       "      <td>0.002</td>\n",
       "      <td>0.000</td>\n",
       "      <td>0.001</td>\n",
       "      <td>0.001</td>\n",
       "      <td>0.001</td>\n",
       "      <td>-0.000</td>\n",
       "      <td>-0.000</td>\n",
       "      <td>...</td>\n",
       "      <td>0.002</td>\n",
       "      <td>0.005</td>\n",
       "      <td>0.001</td>\n",
       "      <td>0.009</td>\n",
       "      <td>0.000</td>\n",
       "      <td>0.001</td>\n",
       "      <td>0.002</td>\n",
       "      <td>0.000</td>\n",
       "      <td>-0.000</td>\n",
       "      <td>0.000</td>\n",
       "    </tr>\n",
       "    <tr>\n",
       "      <th>think, ve, time, infp, type</th>\n",
       "      <td>0.002</td>\n",
       "      <td>0.005</td>\n",
       "      <td>0.001</td>\n",
       "      <td>0.002</td>\n",
       "      <td>0.001</td>\n",
       "      <td>-0.000</td>\n",
       "      <td>0.000</td>\n",
       "      <td>0.000</td>\n",
       "      <td>0.001</td>\n",
       "      <td>-0.000</td>\n",
       "      <td>...</td>\n",
       "      <td>0.005</td>\n",
       "      <td>0.015</td>\n",
       "      <td>0.001</td>\n",
       "      <td>0.012</td>\n",
       "      <td>0.001</td>\n",
       "      <td>0.002</td>\n",
       "      <td>0.002</td>\n",
       "      <td>0.000</td>\n",
       "      <td>0.000</td>\n",
       "      <td>0.000</td>\n",
       "    </tr>\n",
       "  </tbody>\n",
       "</table>\n",
       "<p>5 rows × 2000 columns</p>\n",
       "</div>"
      ],
      "text/plain": [
       "                                  ability   able  absolute  absolutely  \\\n",
       "like, don, just, people, think      0.004  0.014     0.001       0.008   \n",
       "like, feel, sounds, sound, looks   -0.002 -0.004    -0.001      -0.002   \n",
       "just, ve, time, really, ll         -0.001  0.000     0.000       0.002   \n",
       "people, just, ve, time, lot         0.002  0.004     0.000       0.002   \n",
       "think, ve, time, infp, type         0.002  0.005     0.001       0.002   \n",
       "\n",
       "                                  abstract  accept  accepted  accepting  \\\n",
       "like, don, just, people, think       0.002   0.004     0.001      0.001   \n",
       "like, feel, sounds, sound, looks    -0.000  -0.003    -0.000     -0.000   \n",
       "just, ve, time, really, ll           0.000   0.001     0.001     -0.000   \n",
       "people, just, ve, time, lot          0.000   0.001     0.001      0.001   \n",
       "think, ve, time, infp, type          0.001  -0.000     0.000      0.000   \n",
       "\n",
       "                                  according  account  ...   year  years  \\\n",
       "like, don, just, people, think        0.002    0.002  ...  0.016  0.029   \n",
       "like, feel, sounds, sound, looks     -0.001   -0.001  ... -0.002 -0.008   \n",
       "just, ve, time, really, ll           -0.000    0.000  ...  0.009  0.012   \n",
       "people, just, ve, time, lot          -0.000   -0.000  ...  0.002  0.005   \n",
       "think, ve, time, infp, type           0.001   -0.000  ...  0.005  0.015   \n",
       "\n",
       "                                    yep    yes  yesterday  young  younger  \\\n",
       "like, don, just, people, think    0.003  0.040      0.003  0.006    0.006   \n",
       "like, feel, sounds, sound, looks -0.000 -0.011     -0.001 -0.001   -0.001   \n",
       "just, ve, time, really, ll        0.001  0.004      0.003  0.000   -0.001   \n",
       "people, just, ve, time, lot       0.001  0.009      0.000  0.001    0.002   \n",
       "think, ve, time, infp, type       0.001  0.012      0.001  0.002    0.002   \n",
       "\n",
       "                                  youtube    yup   zone  \n",
       "like, don, just, people, think      0.002  0.002  0.002  \n",
       "like, feel, sounds, sound, looks   -0.000 -0.000 -0.000  \n",
       "just, ve, time, really, ll          0.001  0.000  0.000  \n",
       "people, just, ve, time, lot         0.000 -0.000  0.000  \n",
       "think, ve, time, infp, type         0.000  0.000  0.000  \n",
       "\n",
       "[5 rows x 2000 columns]"
      ]
     },
     "execution_count": 104,
     "metadata": {},
     "output_type": "execute_result"
    }
   ],
   "source": [
    "topic_word = pd.DataFrame(lsa.components_.round(3),\n",
    "             index =  topics,\n",
    "             columns = cv1.get_feature_names())\n",
    "topic_word"
   ]
  },
  {
   "cell_type": "markdown",
   "metadata": {},
   "source": [
    "The Vt matrix shows us the documents we started with, and how each document is made up of the 2 resulting topics. In this case:\n",
    "- The first four documents seem to be about thinking\n",
    "- The last three documents seem to be about feeling"
   ]
  },
  {
   "cell_type": "code",
   "execution_count": 105,
   "metadata": {
    "execution": {
     "iopub.execute_input": "2020-10-20T03:14:58.440854Z",
     "iopub.status.busy": "2020-10-20T03:14:58.440669Z",
     "iopub.status.idle": "2020-10-20T03:14:58.476284Z",
     "shell.execute_reply": "2020-10-20T03:14:58.475495Z",
     "shell.execute_reply.started": "2020-10-20T03:14:58.440833Z"
    }
   },
   "outputs": [
    {
     "data": {
      "text/html": [
       "<div>\n",
       "<style scoped>\n",
       "    .dataframe tbody tr th:only-of-type {\n",
       "        vertical-align: middle;\n",
       "    }\n",
       "\n",
       "    .dataframe tbody tr th {\n",
       "        vertical-align: top;\n",
       "    }\n",
       "\n",
       "    .dataframe thead th {\n",
       "        text-align: right;\n",
       "    }\n",
       "</style>\n",
       "<table border=\"1\" class=\"dataframe\">\n",
       "  <thead>\n",
       "    <tr style=\"text-align: right;\">\n",
       "      <th></th>\n",
       "      <th>like, don, just, people, think</th>\n",
       "      <th>like, feel, sounds, sound, looks</th>\n",
       "      <th>just, ve, time, really, ll</th>\n",
       "      <th>people, just, ve, time, lot</th>\n",
       "      <th>think, ve, time, infp, type</th>\n",
       "    </tr>\n",
       "  </thead>\n",
       "  <tbody>\n",
       "    <tr>\n",
       "      <th>when your anger at someone can dissipate in an instant when you see another side and just start to feel sorry for them</th>\n",
       "      <td>0.49760</td>\n",
       "      <td>-0.13833</td>\n",
       "      <td>0.84137</td>\n",
       "      <td>0.15514</td>\n",
       "      <td>-0.02410</td>\n",
       "    </tr>\n",
       "    <tr>\n",
       "      <th>so glad that baseball season has started up again  today is opening day at coors field in denver  and i m off work to watch it     go rockies</th>\n",
       "      <td>0.10439</td>\n",
       "      <td>-0.02227</td>\n",
       "      <td>0.04669</td>\n",
       "      <td>0.01573</td>\n",
       "      <td>0.01699</td>\n",
       "    </tr>\n",
       "    <tr>\n",
       "      <th>you are correct  the horoscope is absolutely bs  however  astrology is not  but many will consider the two one in the same</th>\n",
       "      <td>0.02010</td>\n",
       "      <td>-0.00897</td>\n",
       "      <td>-0.00092</td>\n",
       "      <td>0.00264</td>\n",
       "      <td>0.00247</td>\n",
       "    </tr>\n",
       "    <tr>\n",
       "      <th>answering a post thread</th>\n",
       "      <td>0.05475</td>\n",
       "      <td>-0.01569</td>\n",
       "      <td>0.02681</td>\n",
       "      <td>0.00185</td>\n",
       "      <td>0.01828</td>\n",
       "    </tr>\n",
       "    <tr>\n",
       "      <th>oh no  you didn t    just thought i d show the post myself  no big deal   laughing</th>\n",
       "      <td>0.47804</td>\n",
       "      <td>-0.22915</td>\n",
       "      <td>0.89782</td>\n",
       "      <td>0.15089</td>\n",
       "      <td>0.02114</td>\n",
       "    </tr>\n",
       "    <tr>\n",
       "      <th>...</th>\n",
       "      <td>...</td>\n",
       "      <td>...</td>\n",
       "      <td>...</td>\n",
       "      <td>...</td>\n",
       "      <td>...</td>\n",
       "    </tr>\n",
       "    <tr>\n",
       "      <th>i ve always had faith things would turn out as they should  even if i didn t subscribe to a belief system or religion    now with maturity and perspective  i understand the real power of belief and</th>\n",
       "      <td>0.35193</td>\n",
       "      <td>-0.11873</td>\n",
       "      <td>0.06968</td>\n",
       "      <td>0.08399</td>\n",
       "      <td>0.14906</td>\n",
       "    </tr>\n",
       "    <tr>\n",
       "      <th>yes she and myself  and my husband actually  are all highly sensitive people  i have read about this and was not surprised that the three of us fall into that category  enfj s are actually very</th>\n",
       "      <td>0.51115</td>\n",
       "      <td>-0.31151</td>\n",
       "      <td>-0.37395</td>\n",
       "      <td>0.79250</td>\n",
       "      <td>-0.10860</td>\n",
       "    </tr>\n",
       "    <tr>\n",
       "      <th>you should lay those sick rhythms down at slam poetry night and see how many people you attract then</th>\n",
       "      <td>0.31109</td>\n",
       "      <td>-0.24788</td>\n",
       "      <td>-0.39210</td>\n",
       "      <td>0.77819</td>\n",
       "      <td>-0.18957</td>\n",
       "    </tr>\n",
       "    <tr>\n",
       "      <th>halloween</th>\n",
       "      <td>0.00000</td>\n",
       "      <td>-0.00000</td>\n",
       "      <td>-0.00000</td>\n",
       "      <td>-0.00000</td>\n",
       "      <td>-0.00000</td>\n",
       "    </tr>\n",
       "    <tr>\n",
       "      <th>let me further state that it is imperative that we seek to balance ourselves with all of the letters  heightening our abilities is every category  as applicable to this thread  fs should work on</th>\n",
       "      <td>0.10153</td>\n",
       "      <td>-0.03579</td>\n",
       "      <td>0.03178</td>\n",
       "      <td>0.00963</td>\n",
       "      <td>0.01138</td>\n",
       "    </tr>\n",
       "  </tbody>\n",
       "</table>\n",
       "<p>278329 rows × 5 columns</p>\n",
       "</div>"
      ],
      "text/plain": [
       "                                                    like, don, just, people, think  \\\n",
       "when your anger at someone can dissipate in an ...                         0.49760   \n",
       "so glad that baseball season has started up aga...                         0.10439   \n",
       "you are correct  the horoscope is absolutely bs...                         0.02010   \n",
       "answering a post thread                                                    0.05475   \n",
       "oh no  you didn t    just thought i d show the ...                         0.47804   \n",
       "...                                                                            ...   \n",
       "i ve always had faith things would turn out as ...                         0.35193   \n",
       "yes she and myself  and my husband actually  ar...                         0.51115   \n",
       "you should lay those sick rhythms down at slam ...                         0.31109   \n",
       "halloween                                                                  0.00000   \n",
       "let me further state that it is imperative that...                         0.10153   \n",
       "\n",
       "                                                    like, feel, sounds, sound, looks  \\\n",
       "when your anger at someone can dissipate in an ...                          -0.13833   \n",
       "so glad that baseball season has started up aga...                          -0.02227   \n",
       "you are correct  the horoscope is absolutely bs...                          -0.00897   \n",
       "answering a post thread                                                     -0.01569   \n",
       "oh no  you didn t    just thought i d show the ...                          -0.22915   \n",
       "...                                                                              ...   \n",
       "i ve always had faith things would turn out as ...                          -0.11873   \n",
       "yes she and myself  and my husband actually  ar...                          -0.31151   \n",
       "you should lay those sick rhythms down at slam ...                          -0.24788   \n",
       "halloween                                                                   -0.00000   \n",
       "let me further state that it is imperative that...                          -0.03579   \n",
       "\n",
       "                                                    just, ve, time, really, ll  \\\n",
       "when your anger at someone can dissipate in an ...                     0.84137   \n",
       "so glad that baseball season has started up aga...                     0.04669   \n",
       "you are correct  the horoscope is absolutely bs...                    -0.00092   \n",
       "answering a post thread                                                0.02681   \n",
       "oh no  you didn t    just thought i d show the ...                     0.89782   \n",
       "...                                                                        ...   \n",
       "i ve always had faith things would turn out as ...                     0.06968   \n",
       "yes she and myself  and my husband actually  ar...                    -0.37395   \n",
       "you should lay those sick rhythms down at slam ...                    -0.39210   \n",
       "halloween                                                             -0.00000   \n",
       "let me further state that it is imperative that...                     0.03178   \n",
       "\n",
       "                                                    people, just, ve, time, lot  \\\n",
       "when your anger at someone can dissipate in an ...                      0.15514   \n",
       "so glad that baseball season has started up aga...                      0.01573   \n",
       "you are correct  the horoscope is absolutely bs...                      0.00264   \n",
       "answering a post thread                                                 0.00185   \n",
       "oh no  you didn t    just thought i d show the ...                      0.15089   \n",
       "...                                                                         ...   \n",
       "i ve always had faith things would turn out as ...                      0.08399   \n",
       "yes she and myself  and my husband actually  ar...                      0.79250   \n",
       "you should lay those sick rhythms down at slam ...                      0.77819   \n",
       "halloween                                                              -0.00000   \n",
       "let me further state that it is imperative that...                      0.00963   \n",
       "\n",
       "                                                    think, ve, time, infp, type  \n",
       "when your anger at someone can dissipate in an ...                     -0.02410  \n",
       "so glad that baseball season has started up aga...                      0.01699  \n",
       "you are correct  the horoscope is absolutely bs...                      0.00247  \n",
       "answering a post thread                                                 0.01828  \n",
       "oh no  you didn t    just thought i d show the ...                      0.02114  \n",
       "...                                                                         ...  \n",
       "i ve always had faith things would turn out as ...                      0.14906  \n",
       "yes she and myself  and my husband actually  ar...                     -0.10860  \n",
       "you should lay those sick rhythms down at slam ...                     -0.18957  \n",
       "halloween                                                              -0.00000  \n",
       "let me further state that it is imperative that...                      0.01138  \n",
       "\n",
       "[278329 rows x 5 columns]"
      ]
     },
     "execution_count": 105,
     "metadata": {},
     "output_type": "execute_result"
    }
   ],
   "source": [
    "Vt = pd.DataFrame(doc_topic.round(5),\n",
    "             index = X_train.values,\n",
    "             columns = topics)\n",
    "Vt"
   ]
  },
  {
   "cell_type": "markdown",
   "metadata": {},
   "source": [
    "### Explode Posts\n",
    "import utility that allows me to **explode** my posts into a seperate row each"
   ]
  },
  {
   "cell_type": "code",
   "execution_count": 53,
   "metadata": {
    "execution": {
     "iopub.execute_input": "2020-10-20T17:57:57.716287Z",
     "iopub.status.busy": "2020-10-20T17:57:57.716081Z",
     "iopub.status.idle": "2020-10-20T17:57:57.869340Z",
     "shell.execute_reply": "2020-10-20T17:57:57.868283Z",
     "shell.execute_reply.started": "2020-10-20T17:57:57.716264Z"
    }
   },
   "outputs": [
    {
     "data": {
      "text/html": [
       "<div>\n",
       "<style scoped>\n",
       "    .dataframe tbody tr th:only-of-type {\n",
       "        vertical-align: middle;\n",
       "    }\n",
       "\n",
       "    .dataframe tbody tr th {\n",
       "        vertical-align: top;\n",
       "    }\n",
       "\n",
       "    .dataframe thead th {\n",
       "        text-align: right;\n",
       "    }\n",
       "</style>\n",
       "<table border=\"1\" class=\"dataframe\">\n",
       "  <thead>\n",
       "    <tr style=\"text-align: right;\">\n",
       "      <th></th>\n",
       "      <th>I-E</th>\n",
       "      <th>J-P</th>\n",
       "      <th>N-S</th>\n",
       "      <th>T-F</th>\n",
       "      <th>type</th>\n",
       "      <th>post</th>\n",
       "      <th>tweet_length</th>\n",
       "    </tr>\n",
       "  </thead>\n",
       "  <tbody>\n",
       "    <tr>\n",
       "      <th>3</th>\n",
       "      <td>0</td>\n",
       "      <td>0</td>\n",
       "      <td>1</td>\n",
       "      <td>1</td>\n",
       "      <td>INFJ</td>\n",
       "      <td>What has been the most life-changing experienc...</td>\n",
       "      <td>61</td>\n",
       "    </tr>\n",
       "    <tr>\n",
       "      <th>5</th>\n",
       "      <td>0</td>\n",
       "      <td>0</td>\n",
       "      <td>1</td>\n",
       "      <td>1</td>\n",
       "      <td>INFJ</td>\n",
       "      <td>May the PerC Experience immerse you.</td>\n",
       "      <td>36</td>\n",
       "    </tr>\n",
       "    <tr>\n",
       "      <th>7</th>\n",
       "      <td>0</td>\n",
       "      <td>0</td>\n",
       "      <td>1</td>\n",
       "      <td>1</td>\n",
       "      <td>INFJ</td>\n",
       "      <td>Hello ENFJ7. Sorry to hear of your distress. I...</td>\n",
       "      <td>200</td>\n",
       "    </tr>\n",
       "    <tr>\n",
       "      <th>9</th>\n",
       "      <td>0</td>\n",
       "      <td>0</td>\n",
       "      <td>1</td>\n",
       "      <td>1</td>\n",
       "      <td>INFJ</td>\n",
       "      <td>Welcome and stuff.</td>\n",
       "      <td>18</td>\n",
       "    </tr>\n",
       "    <tr>\n",
       "      <th>11</th>\n",
       "      <td>0</td>\n",
       "      <td>0</td>\n",
       "      <td>1</td>\n",
       "      <td>1</td>\n",
       "      <td>INFJ</td>\n",
       "      <td>Prozac, wellbrutin, at least thirty minutes of...</td>\n",
       "      <td>201</td>\n",
       "    </tr>\n",
       "  </tbody>\n",
       "</table>\n",
       "</div>"
      ],
      "text/plain": [
       "    I-E  J-P  N-S  T-F  type                                               post  tweet_length\n",
       "3     0    0    1    1  INFJ  What has been the most life-changing experienc...            61\n",
       "5     0    0    1    1  INFJ               May the PerC Experience immerse you.            36\n",
       "7     0    0    1    1  INFJ  Hello ENFJ7. Sorry to hear of your distress. I...           200\n",
       "9     0    0    1    1  INFJ                                 Welcome and stuff.            18\n",
       "11    0    0    1    1  INFJ  Prozac, wellbrutin, at least thirty minutes of...           201"
      ]
     },
     "execution_count": 53,
     "metadata": {},
     "output_type": "execute_result"
    }
   ],
   "source": [
    "df_exploded['tweet_length'] = df['post'].apply(lambda x: len(x))\n",
    "df_exploded.head()"
   ]
  },
  {
   "cell_type": "code",
   "execution_count": 13,
   "metadata": {
    "execution": {
     "iopub.execute_input": "2020-10-22T00:04:28.778891Z",
     "iopub.status.busy": "2020-10-22T00:04:28.769805Z",
     "iopub.status.idle": "2020-10-22T00:04:28.925925Z",
     "shell.execute_reply": "2020-10-22T00:04:28.922859Z",
     "shell.execute_reply.started": "2020-10-22T00:04:28.777808Z"
    }
   },
   "outputs": [
    {
     "ename": "IndentationError",
     "evalue": "expected an indented block (explode_posts.py, line 4)",
     "output_type": "error",
     "traceback": [
      "Traceback \u001b[0;36m(most recent call last)\u001b[0m:\n",
      "  File \u001b[1;32m\"/Users/briantam/opt/anaconda3/envs/metis/lib/python3.8/site-packages/IPython/core/interactiveshell.py\"\u001b[0m, line \u001b[1;32m3417\u001b[0m, in \u001b[1;35mrun_code\u001b[0m\n    exec(code_obj, self.user_global_ns, self.user_ns)\n",
      "\u001b[0;36m  File \u001b[0;32m\"<ipython-input-13-5c4edeaa54d7>\"\u001b[0;36m, line \u001b[0;32m1\u001b[0;36m, in \u001b[0;35m<module>\u001b[0;36m\u001b[0m\n\u001b[0;31m    from utilities.explode_posts import explode\u001b[0m\n",
      "\u001b[0;36m  File \u001b[0;32m\"/Users/briantam/Metis/project_3_classification/Myers-Briggs-classifier/utilities/explode_posts.py\"\u001b[0;36m, line \u001b[0;32m4\u001b[0m\n\u001b[0;31m    <<<<<<< HEAD\u001b[0m\n\u001b[0m    ^\u001b[0m\n\u001b[0;31mIndentationError\u001b[0m\u001b[0;31m:\u001b[0m expected an indented block\n"
     ]
    }
   ],
   "source": [
    "from utilities.explode_posts import explode\n",
    "df_exploded = explode(df, ['post'], fill_value='')"
   ]
  },
  {
   "cell_type": "code",
   "execution_count": 53,
   "metadata": {
    "execution": {
     "iopub.execute_input": "2020-10-20T17:57:57.716287Z",
     "iopub.status.busy": "2020-10-20T17:57:57.716081Z",
     "iopub.status.idle": "2020-10-20T17:57:57.869340Z",
     "shell.execute_reply": "2020-10-20T17:57:57.868283Z",
     "shell.execute_reply.started": "2020-10-20T17:57:57.716264Z"
    }
   },
   "outputs": [
    {
     "data": {
      "text/html": [
       "<div>\n",
       "<style scoped>\n",
       "    .dataframe tbody tr th:only-of-type {\n",
       "        vertical-align: middle;\n",
       "    }\n",
       "\n",
       "    .dataframe tbody tr th {\n",
       "        vertical-align: top;\n",
       "    }\n",
       "\n",
       "    .dataframe thead th {\n",
       "        text-align: right;\n",
       "    }\n",
       "</style>\n",
       "<table border=\"1\" class=\"dataframe\">\n",
       "  <thead>\n",
       "    <tr style=\"text-align: right;\">\n",
       "      <th></th>\n",
       "      <th>I-E</th>\n",
       "      <th>J-P</th>\n",
       "      <th>N-S</th>\n",
       "      <th>T-F</th>\n",
       "      <th>type</th>\n",
       "      <th>post</th>\n",
       "      <th>tweet_length</th>\n",
       "    </tr>\n",
       "  </thead>\n",
       "  <tbody>\n",
       "    <tr>\n",
       "      <th>3</th>\n",
       "      <td>0</td>\n",
       "      <td>0</td>\n",
       "      <td>1</td>\n",
       "      <td>1</td>\n",
       "      <td>INFJ</td>\n",
       "      <td>What has been the most life-changing experienc...</td>\n",
       "      <td>61</td>\n",
       "    </tr>\n",
       "    <tr>\n",
       "      <th>5</th>\n",
       "      <td>0</td>\n",
       "      <td>0</td>\n",
       "      <td>1</td>\n",
       "      <td>1</td>\n",
       "      <td>INFJ</td>\n",
       "      <td>May the PerC Experience immerse you.</td>\n",
       "      <td>36</td>\n",
       "    </tr>\n",
       "    <tr>\n",
       "      <th>7</th>\n",
       "      <td>0</td>\n",
       "      <td>0</td>\n",
       "      <td>1</td>\n",
       "      <td>1</td>\n",
       "      <td>INFJ</td>\n",
       "      <td>Hello ENFJ7. Sorry to hear of your distress. I...</td>\n",
       "      <td>200</td>\n",
       "    </tr>\n",
       "    <tr>\n",
       "      <th>9</th>\n",
       "      <td>0</td>\n",
       "      <td>0</td>\n",
       "      <td>1</td>\n",
       "      <td>1</td>\n",
       "      <td>INFJ</td>\n",
       "      <td>Welcome and stuff.</td>\n",
       "      <td>18</td>\n",
       "    </tr>\n",
       "    <tr>\n",
       "      <th>11</th>\n",
       "      <td>0</td>\n",
       "      <td>0</td>\n",
       "      <td>1</td>\n",
       "      <td>1</td>\n",
       "      <td>INFJ</td>\n",
       "      <td>Prozac, wellbrutin, at least thirty minutes of...</td>\n",
       "      <td>201</td>\n",
       "    </tr>\n",
       "  </tbody>\n",
       "</table>\n",
       "</div>"
      ],
      "text/plain": [
       "    I-E  J-P  N-S  T-F  type                                               post  tweet_length\n",
       "3     0    0    1    1  INFJ  What has been the most life-changing experienc...            61\n",
       "5     0    0    1    1  INFJ               May the PerC Experience immerse you.            36\n",
       "7     0    0    1    1  INFJ  Hello ENFJ7. Sorry to hear of your distress. I...           200\n",
       "9     0    0    1    1  INFJ                                 Welcome and stuff.            18\n",
       "11    0    0    1    1  INFJ  Prozac, wellbrutin, at least thirty minutes of...           201"
      ]
     },
     "execution_count": 53,
     "metadata": {},
     "output_type": "execute_result"
    }
   ],
   "source": [
    "df_exploded['tweet_length'] = df['post'].apply(lambda x: len(x))\n",
    "df_exploded.head()"
   ]
  },
  {
   "cell_type": "code",
   "execution_count": 51,
   "metadata": {
    "execution": {
     "iopub.execute_input": "2020-10-20T17:57:57.315943Z",
     "iopub.status.busy": "2020-10-20T17:57:57.315654Z",
     "iopub.status.idle": "2020-10-20T17:57:57.509488Z",
     "shell.execute_reply": "2020-10-20T17:57:57.508408Z",
     "shell.execute_reply.started": "2020-10-20T17:57:57.315914Z"
    }
   },
   "outputs": [
    {
     "data": {
      "text/html": [
       "<div>\n",
       "<style scoped>\n",
       "    .dataframe tbody tr th:only-of-type {\n",
       "        vertical-align: middle;\n",
       "    }\n",
       "\n",
       "    .dataframe tbody tr th {\n",
       "        vertical-align: top;\n",
       "    }\n",
       "\n",
       "    .dataframe thead th {\n",
       "        text-align: right;\n",
       "    }\n",
       "</style>\n",
       "<table border=\"1\" class=\"dataframe\">\n",
       "  <thead>\n",
       "    <tr style=\"text-align: right;\">\n",
       "      <th></th>\n",
       "      <th>I-E</th>\n",
       "      <th>J-P</th>\n",
       "      <th>N-S</th>\n",
       "      <th>T-F</th>\n",
       "      <th>type</th>\n",
       "      <th>post</th>\n",
       "    </tr>\n",
       "  </thead>\n",
       "  <tbody>\n",
       "    <tr>\n",
       "      <th>0</th>\n",
       "      <td>0</td>\n",
       "      <td>0</td>\n",
       "      <td>1</td>\n",
       "      <td>1</td>\n",
       "      <td>INFJ</td>\n",
       "      <td>http://www.youtube.com/watch?v=qsXHcwe3krw</td>\n",
       "    </tr>\n",
       "    <tr>\n",
       "      <th>1</th>\n",
       "      <td>0</td>\n",
       "      <td>0</td>\n",
       "      <td>1</td>\n",
       "      <td>1</td>\n",
       "      <td>INFJ</td>\n",
       "      <td>http://41.media.tumblr.com/tumblr_lfouy03PMA1q...</td>\n",
       "    </tr>\n",
       "    <tr>\n",
       "      <th>2</th>\n",
       "      <td>0</td>\n",
       "      <td>0</td>\n",
       "      <td>1</td>\n",
       "      <td>1</td>\n",
       "      <td>INFJ</td>\n",
       "      <td>enfp and intj moments  https://www.youtube.com...</td>\n",
       "    </tr>\n",
       "    <tr>\n",
       "      <th>4</th>\n",
       "      <td>0</td>\n",
       "      <td>0</td>\n",
       "      <td>1</td>\n",
       "      <td>1</td>\n",
       "      <td>INFJ</td>\n",
       "      <td>http://www.youtube.com/watch?v=vXZeYwwRDw8   h...</td>\n",
       "    </tr>\n",
       "    <tr>\n",
       "      <th>6</th>\n",
       "      <td>0</td>\n",
       "      <td>0</td>\n",
       "      <td>1</td>\n",
       "      <td>1</td>\n",
       "      <td>INFJ</td>\n",
       "      <td>The last thing my INFJ friend posted on his fa...</td>\n",
       "    </tr>\n",
       "  </tbody>\n",
       "</table>\n",
       "</div>"
      ],
      "text/plain": [
       "   I-E  J-P  N-S  T-F  type                                               post\n",
       "0    0    0    1    1  INFJ         http://www.youtube.com/watch?v=qsXHcwe3krw\n",
       "1    0    0    1    1  INFJ  http://41.media.tumblr.com/tumblr_lfouy03PMA1q...\n",
       "2    0    0    1    1  INFJ  enfp and intj moments  https://www.youtube.com...\n",
       "4    0    0    1    1  INFJ  http://www.youtube.com/watch?v=vXZeYwwRDw8   h...\n",
       "6    0    0    1    1  INFJ  The last thing my INFJ friend posted on his fa..."
      ]
     },
     "execution_count": 51,
     "metadata": {},
     "output_type": "execute_result"
    }
   ],
   "source": [
    "links_df = df[['http' in post for post in df['post']]]\n",
    "links_df.head()"
   ]
  },
  {
   "cell_type": "code",
   "execution_count": 52,
   "metadata": {
    "execution": {
     "iopub.execute_input": "2020-10-20T17:57:57.511386Z",
     "iopub.status.busy": "2020-10-20T17:57:57.511135Z",
     "iopub.status.idle": "2020-10-20T17:57:57.714844Z",
     "shell.execute_reply": "2020-10-20T17:57:57.714120Z",
     "shell.execute_reply.started": "2020-10-20T17:57:57.511360Z"
    }
   },
   "outputs": [],
   "source": [
    "df.drop(df[['http' in post for post in df['post']]].index, inplace = True)"
   ]
  },
  {
   "cell_type": "markdown",
   "metadata": {},
   "source": [
    "Text preprocessing steps - remove numbers, captial letters and punctuation"
   ]
  },
  {
   "cell_type": "code",
   "execution_count": 54,
   "metadata": {
    "execution": {
     "iopub.execute_input": "2020-10-20T17:57:57.872072Z",
     "iopub.status.busy": "2020-10-20T17:57:57.871792Z",
     "iopub.status.idle": "2020-10-20T17:58:14.075359Z",
     "shell.execute_reply": "2020-10-20T17:58:14.073940Z",
     "shell.execute_reply.started": "2020-10-20T17:57:57.872044Z"
    }
   },
   "outputs": [
    {
     "data": {
      "text/html": [
       "<div>\n",
       "<style scoped>\n",
       "    .dataframe tbody tr th:only-of-type {\n",
       "        vertical-align: middle;\n",
       "    }\n",
       "\n",
       "    .dataframe tbody tr th {\n",
       "        vertical-align: top;\n",
       "    }\n",
       "\n",
       "    .dataframe thead th {\n",
       "        text-align: right;\n",
       "    }\n",
       "</style>\n",
       "<table border=\"1\" class=\"dataframe\">\n",
       "  <thead>\n",
       "    <tr style=\"text-align: right;\">\n",
       "      <th></th>\n",
       "      <th>I-E</th>\n",
       "      <th>J-P</th>\n",
       "      <th>N-S</th>\n",
       "      <th>T-F</th>\n",
       "      <th>type</th>\n",
       "      <th>post</th>\n",
       "      <th>tweet_length</th>\n",
       "      <th>clean_post</th>\n",
       "    </tr>\n",
       "  </thead>\n",
       "  <tbody>\n",
       "    <tr>\n",
       "      <th>3</th>\n",
       "      <td>0</td>\n",
       "      <td>0</td>\n",
       "      <td>1</td>\n",
       "      <td>1</td>\n",
       "      <td>INFJ</td>\n",
       "      <td>What has been the most life-changing experienc...</td>\n",
       "      <td>61</td>\n",
       "      <td>what has been the most lifechanging experience...</td>\n",
       "    </tr>\n",
       "    <tr>\n",
       "      <th>5</th>\n",
       "      <td>0</td>\n",
       "      <td>0</td>\n",
       "      <td>1</td>\n",
       "      <td>1</td>\n",
       "      <td>INFJ</td>\n",
       "      <td>May the PerC Experience immerse you.</td>\n",
       "      <td>36</td>\n",
       "      <td>may the perc experience immerse you</td>\n",
       "    </tr>\n",
       "    <tr>\n",
       "      <th>7</th>\n",
       "      <td>0</td>\n",
       "      <td>0</td>\n",
       "      <td>1</td>\n",
       "      <td>1</td>\n",
       "      <td>INFJ</td>\n",
       "      <td>Hello ENFJ7. Sorry to hear of your distress. I...</td>\n",
       "      <td>200</td>\n",
       "      <td>hello  sorry to hear of your distress its only...</td>\n",
       "    </tr>\n",
       "    <tr>\n",
       "      <th>9</th>\n",
       "      <td>0</td>\n",
       "      <td>0</td>\n",
       "      <td>1</td>\n",
       "      <td>1</td>\n",
       "      <td>INFJ</td>\n",
       "      <td>Welcome and stuff.</td>\n",
       "      <td>18</td>\n",
       "      <td>welcome and stuff</td>\n",
       "    </tr>\n",
       "    <tr>\n",
       "      <th>11</th>\n",
       "      <td>0</td>\n",
       "      <td>0</td>\n",
       "      <td>1</td>\n",
       "      <td>1</td>\n",
       "      <td>INFJ</td>\n",
       "      <td>Prozac, wellbrutin, at least thirty minutes of...</td>\n",
       "      <td>201</td>\n",
       "      <td>prozac wellbrutin at least thirty minutes of m...</td>\n",
       "    </tr>\n",
       "    <tr>\n",
       "      <th>...</th>\n",
       "      <td>...</td>\n",
       "      <td>...</td>\n",
       "      <td>...</td>\n",
       "      <td>...</td>\n",
       "      <td>...</td>\n",
       "      <td>...</td>\n",
       "      <td>...</td>\n",
       "      <td>...</td>\n",
       "    </tr>\n",
       "    <tr>\n",
       "      <th>422840</th>\n",
       "      <td>0</td>\n",
       "      <td>1</td>\n",
       "      <td>1</td>\n",
       "      <td>1</td>\n",
       "      <td>INFP</td>\n",
       "      <td>I was going to close my facebook a few months ...</td>\n",
       "      <td>193</td>\n",
       "      <td>i was going to close my facebook a few months ...</td>\n",
       "    </tr>\n",
       "    <tr>\n",
       "      <th>422841</th>\n",
       "      <td>0</td>\n",
       "      <td>1</td>\n",
       "      <td>1</td>\n",
       "      <td>1</td>\n",
       "      <td>INFP</td>\n",
       "      <td>30 Seconds to Mars - All of my collections. It...</td>\n",
       "      <td>85</td>\n",
       "      <td>seconds to mars  all of my collections it see...</td>\n",
       "    </tr>\n",
       "    <tr>\n",
       "      <th>422842</th>\n",
       "      <td>0</td>\n",
       "      <td>1</td>\n",
       "      <td>1</td>\n",
       "      <td>1</td>\n",
       "      <td>INFP</td>\n",
       "      <td>I have seen it, and i agree. I did actually th...</td>\n",
       "      <td>199</td>\n",
       "      <td>i have seen it and i agree i did actually thin...</td>\n",
       "    </tr>\n",
       "    <tr>\n",
       "      <th>422843</th>\n",
       "      <td>0</td>\n",
       "      <td>1</td>\n",
       "      <td>1</td>\n",
       "      <td>1</td>\n",
       "      <td>INFP</td>\n",
       "      <td>Ok so i have just watched Underworld 4 (Awaken...</td>\n",
       "      <td>200</td>\n",
       "      <td>ok so i have just watched underworld  awakenin...</td>\n",
       "    </tr>\n",
       "    <tr>\n",
       "      <th>422844</th>\n",
       "      <td>0</td>\n",
       "      <td>1</td>\n",
       "      <td>1</td>\n",
       "      <td>1</td>\n",
       "      <td>INFP</td>\n",
       "      <td>I would never want to turn off my emotions. so...</td>\n",
       "      <td>111</td>\n",
       "      <td>i would never want to turn off my emotions som...</td>\n",
       "    </tr>\n",
       "  </tbody>\n",
       "</table>\n",
       "<p>397614 rows × 8 columns</p>\n",
       "</div>"
      ],
      "text/plain": [
       "        I-E  J-P  N-S  T-F  type                                               post  tweet_length                                         clean_post\n",
       "3         0    0    1    1  INFJ  What has been the most life-changing experienc...            61  what has been the most lifechanging experience...\n",
       "5         0    0    1    1  INFJ               May the PerC Experience immerse you.            36                may the perc experience immerse you\n",
       "7         0    0    1    1  INFJ  Hello ENFJ7. Sorry to hear of your distress. I...           200  hello  sorry to hear of your distress its only...\n",
       "9         0    0    1    1  INFJ                                 Welcome and stuff.            18                                  welcome and stuff\n",
       "11        0    0    1    1  INFJ  Prozac, wellbrutin, at least thirty minutes of...           201  prozac wellbrutin at least thirty minutes of m...\n",
       "...     ...  ...  ...  ...   ...                                                ...           ...                                                ...\n",
       "422840    0    1    1    1  INFP  I was going to close my facebook a few months ...           193  i was going to close my facebook a few months ...\n",
       "422841    0    1    1    1  INFP  30 Seconds to Mars - All of my collections. It...            85   seconds to mars  all of my collections it see...\n",
       "422842    0    1    1    1  INFP  I have seen it, and i agree. I did actually th...           199  i have seen it and i agree i did actually thin...\n",
       "422843    0    1    1    1  INFP  Ok so i have just watched Underworld 4 (Awaken...           200  ok so i have just watched underworld  awakenin...\n",
       "422844    0    1    1    1  INFP  I would never want to turn off my emotions. so...           111  i would never want to turn off my emotions som...\n",
       "\n",
       "[397614 rows x 8 columns]"
      ]
     },
     "execution_count": 54,
     "metadata": {},
     "output_type": "execute_result"
    }
   ],
   "source": [
    "alphanumeric = lambda x: re.sub('\\w*\\d\\w*', '', x)\n",
    "punc_lower = lambda x: re.sub('[%s]' % re.escape(string.punctuation), '', x.lower())\n",
    "\n",
    "df['clean_post'] = df.post.map(alphanumeric).map(punc_lower)\n",
    "df"
   ]
  },
  {
   "cell_type": "markdown",
   "metadata": {},
   "source": [
    "Compare example post before and after preprocessing"
   ]
  },
  {
   "cell_type": "code",
   "execution_count": 36,
   "metadata": {
    "execution": {
     "iopub.execute_input": "2020-10-20T07:03:44.893259Z",
     "iopub.status.busy": "2020-10-20T07:03:44.892976Z",
     "iopub.status.idle": "2020-10-20T07:03:44.906790Z",
     "shell.execute_reply": "2020-10-20T07:03:44.906131Z",
     "shell.execute_reply.started": "2020-10-20T07:03:44.893231Z"
    }
   },
   "outputs": [
    {
     "name": "stdout",
     "output_type": "stream",
     "text": [
      "Hello ENFJ7. Sorry to hear of your distress. It's only natural for a relationship to not be perfection all the time in every moment of existence. Try to figure the hard times as times of growth, as... \n",
      "\n",
      "hello  sorry to hear of your distress its only natural for a relationship to not be perfection all the time in every moment of existence try to figure the hard times as times of growth as\n"
     ]
    }
   ],
   "source": [
    "print(df.post[7], '\\n')\n",
    "print(df.clean_post[7])"
   ]
  },
  {
   "cell_type": "code",
   "execution_count": 32,
   "metadata": {
    "execution": {
     "iopub.execute_input": "2020-10-22T00:58:20.824230Z",
     "iopub.status.busy": "2020-10-22T00:58:20.823991Z",
     "iopub.status.idle": "2020-10-22T00:58:21.287193Z",
     "shell.execute_reply": "2020-10-22T00:58:21.286125Z",
     "shell.execute_reply.started": "2020-10-22T00:58:20.824205Z"
    }
   },
   "outputs": [
    {
     "ename": "AttributeError",
     "evalue": "'DataFrame' object has no attribute 'tweet_length'",
     "output_type": "error",
     "traceback": [
      "\u001b[0;31m---------------------------------------------------------------------------\u001b[0m",
      "\u001b[0;31mAttributeError\u001b[0m                            Traceback (most recent call last)",
      "\u001b[0;32m<ipython-input-32-d7ca5c9406db>\u001b[0m in \u001b[0;36m<module>\u001b[0;34m\u001b[0m\n\u001b[0;32m----> 1\u001b[0;31m \u001b[0mdf\u001b[0m\u001b[0;34m.\u001b[0m\u001b[0mtweet_length\u001b[0m\u001b[0;34m.\u001b[0m\u001b[0mhist\u001b[0m\u001b[0;34m(\u001b[0m\u001b[0mbins\u001b[0m\u001b[0;34m=\u001b[0m\u001b[0;36m50\u001b[0m\u001b[0;34m)\u001b[0m\u001b[0;34m\u001b[0m\u001b[0;34m\u001b[0m\u001b[0m\n\u001b[0m",
      "\u001b[0;32m~/opt/anaconda3/envs/metis/lib/python3.8/site-packages/pandas/core/generic.py\u001b[0m in \u001b[0;36m__getattr__\u001b[0;34m(self, name)\u001b[0m\n\u001b[1;32m   5137\u001b[0m             \u001b[0;32mif\u001b[0m \u001b[0mself\u001b[0m\u001b[0;34m.\u001b[0m\u001b[0m_info_axis\u001b[0m\u001b[0;34m.\u001b[0m\u001b[0m_can_hold_identifiers_and_holds_name\u001b[0m\u001b[0;34m(\u001b[0m\u001b[0mname\u001b[0m\u001b[0;34m)\u001b[0m\u001b[0;34m:\u001b[0m\u001b[0;34m\u001b[0m\u001b[0;34m\u001b[0m\u001b[0m\n\u001b[1;32m   5138\u001b[0m                 \u001b[0;32mreturn\u001b[0m \u001b[0mself\u001b[0m\u001b[0;34m[\u001b[0m\u001b[0mname\u001b[0m\u001b[0;34m]\u001b[0m\u001b[0;34m\u001b[0m\u001b[0;34m\u001b[0m\u001b[0m\n\u001b[0;32m-> 5139\u001b[0;31m             \u001b[0;32mreturn\u001b[0m \u001b[0mobject\u001b[0m\u001b[0;34m.\u001b[0m\u001b[0m__getattribute__\u001b[0m\u001b[0;34m(\u001b[0m\u001b[0mself\u001b[0m\u001b[0;34m,\u001b[0m \u001b[0mname\u001b[0m\u001b[0;34m)\u001b[0m\u001b[0;34m\u001b[0m\u001b[0;34m\u001b[0m\u001b[0m\n\u001b[0m\u001b[1;32m   5140\u001b[0m \u001b[0;34m\u001b[0m\u001b[0m\n\u001b[1;32m   5141\u001b[0m     \u001b[0;32mdef\u001b[0m \u001b[0m__setattr__\u001b[0m\u001b[0;34m(\u001b[0m\u001b[0mself\u001b[0m\u001b[0;34m,\u001b[0m \u001b[0mname\u001b[0m\u001b[0;34m:\u001b[0m \u001b[0mstr\u001b[0m\u001b[0;34m,\u001b[0m \u001b[0mvalue\u001b[0m\u001b[0;34m)\u001b[0m \u001b[0;34m->\u001b[0m \u001b[0;32mNone\u001b[0m\u001b[0;34m:\u001b[0m\u001b[0;34m\u001b[0m\u001b[0;34m\u001b[0m\u001b[0m\n",
      "\u001b[0;31mAttributeError\u001b[0m: 'DataFrame' object has no attribute 'tweet_length'"
     ]
    }
   ],
   "source": [
    "df.tweet_length.hist(bins=50)"
   ]
  },
  {
   "cell_type": "markdown",
   "metadata": {},
   "source": [
    "#### d6tstack"
   ]
  },
  {
   "cell_type": "code",
   "execution_count": 11,
   "metadata": {
    "execution": {
     "iopub.execute_input": "2020-10-14T23:57:47.682983Z",
     "iopub.status.busy": "2020-10-14T23:57:47.682763Z",
     "iopub.status.idle": "2020-10-14T23:57:47.782361Z",
     "shell.execute_reply": "2020-10-14T23:57:47.781782Z",
     "shell.execute_reply.started": "2020-10-14T23:57:47.682960Z"
    }
   },
   "outputs": [
    {
     "data": {
      "text/plain": [
       "\u001b[0;31mSignature:\u001b[0m\n",
       "\u001b[0md6tstack\u001b[0m\u001b[0;34m.\u001b[0m\u001b[0mutils\u001b[0m\u001b[0;34m.\u001b[0m\u001b[0mpd_to_psql\u001b[0m\u001b[0;34m(\u001b[0m\u001b[0;34m\u001b[0m\n",
       "\u001b[0;34m\u001b[0m    \u001b[0mdf\u001b[0m\u001b[0;34m,\u001b[0m\u001b[0;34m\u001b[0m\n",
       "\u001b[0;34m\u001b[0m    \u001b[0muri\u001b[0m\u001b[0;34m,\u001b[0m\u001b[0;34m\u001b[0m\n",
       "\u001b[0;34m\u001b[0m    \u001b[0mtable_name\u001b[0m\u001b[0;34m,\u001b[0m\u001b[0;34m\u001b[0m\n",
       "\u001b[0;34m\u001b[0m    \u001b[0mschema_name\u001b[0m\u001b[0;34m=\u001b[0m\u001b[0;32mNone\u001b[0m\u001b[0;34m,\u001b[0m\u001b[0;34m\u001b[0m\n",
       "\u001b[0;34m\u001b[0m    \u001b[0mif_exists\u001b[0m\u001b[0;34m=\u001b[0m\u001b[0;34m'fail'\u001b[0m\u001b[0;34m,\u001b[0m\u001b[0;34m\u001b[0m\n",
       "\u001b[0;34m\u001b[0m    \u001b[0msep\u001b[0m\u001b[0;34m=\u001b[0m\u001b[0;34m','\u001b[0m\u001b[0;34m,\u001b[0m\u001b[0;34m\u001b[0m\n",
       "\u001b[0;34m\u001b[0m\u001b[0;34m)\u001b[0m\u001b[0;34m\u001b[0m\u001b[0;34m\u001b[0m\u001b[0m\n",
       "\u001b[0;31mDocstring:\u001b[0m\n",
       "Load pandas dataframe into a sql table using native postgres COPY FROM.\n",
       "\n",
       "Args:\n",
       "    df (dataframe): pandas dataframe\n",
       "    uri (str): postgres psycopg2 sqlalchemy database uri\n",
       "    table_name (str): table to store data in\n",
       "    schema_name (str): name of schema in db to write to\n",
       "    if_exists (str): {‘fail’, ‘replace’, ‘append’}, default ‘fail’. See `pandas.to_sql()` for details\n",
       "    sep (str): separator for temp file, eg ',' or ' '\n",
       "\n",
       "Returns:\n",
       "    bool: True if loader finished\n",
       "\u001b[0;31mFile:\u001b[0m      ~/opt/anaconda3/envs/metis/lib/python3.8/site-packages/d6tstack/utils.py\n",
       "\u001b[0;31mType:\u001b[0m      function\n"
      ]
     },
     "metadata": {},
     "output_type": "display_data"
    }
   ],
   "source": [
    "d6tstack.utils.pd_to_psql?"
   ]
  },
  {
   "cell_type": "code",
   "execution_count": 149,
   "metadata": {
    "execution": {
     "iopub.execute_input": "2020-10-18T01:43:23.784323Z",
     "iopub.status.busy": "2020-10-18T01:43:23.784054Z",
     "iopub.status.idle": "2020-10-18T01:43:27.782677Z",
     "shell.execute_reply": "2020-10-18T01:43:27.782044Z",
     "shell.execute_reply.started": "2020-10-18T01:43:23.784296Z"
    }
   },
   "outputs": [
    {
     "data": {
      "text/plain": [
       "True"
      ]
     },
     "execution_count": 149,
     "metadata": {},
     "output_type": "execute_result"
    }
   ],
   "source": [
    "import d6tstack\n",
    "\n",
    "# fast CSV to SQL import - see SQL examples notebook\n",
    "d6tstack.utils.pd_to_psql(df, 'postgresql+psycopg2://briantam: @localhost/myers_briggs', 'twitter', if_exists='replace')"
   ]
  },
  {
   "cell_type": "code",
   "execution_count": null,
   "metadata": {
    "execution": {
     "iopub.status.busy": "2020-10-18T01:37:00.816010Z",
     "iopub.status.idle": "2020-10-18T01:37:00.816244Z"
    }
   },
   "outputs": [],
   "source": [
    "# Create our list of punctuation marks\n",
    "punctuations = df.post[3].punctuation\n",
    "# Create our list of stopwords\n",
    "spacy.load('en_core_web_sm')\n",
    "stop_words = spacy.lang.en.stop_words.STOP_WORDS\n",
    "# Load English tokenizer, tagger, parser, NER and word vectors\n",
    "parser = EN()\n",
    "# Creating our tokenizer function\n",
    "def spacy_tokenizer(sentence):\n",
    "    # Creating our token object, which is used to create documents with linguistic annotations.\n",
    "    mytokens = parser(sentence)\n",
    "    # Lemmatizing each token and converting each token into lowercase\n",
    "    mytokens = [ word.lemma_.lower().strip() if word.lemma_ != \"-PRON-\" else word.lower_ for word in mytokens ]\n",
    "    # Removing stop words\n",
    "    mytokens = [ word for word in mytokens if word not in stop_words and word not in punctuations ]\n",
    "    # return preprocessed list of tokens\n",
    "    return mytokens"
   ]
  },
  {
   "cell_type": "code",
   "execution_count": null,
   "metadata": {},
   "outputs": [],
   "source": []
  }
 ],
 "metadata": {
  "kernelspec": {
   "display_name": "Python [conda env:metis] *",
   "language": "python",
   "name": "conda-env-metis-py"
  },
  "language_info": {
   "codemirror_mode": {
    "name": "ipython",
    "version": 3
   },
   "file_extension": ".py",
   "mimetype": "text/x-python",
   "name": "python",
   "nbconvert_exporter": "python",
   "pygments_lexer": "ipython3",
   "version": "3.8.5"
  },
  "toc-autonumbering": false,
  "toc-showtags": false
 },
 "nbformat": 4,
 "nbformat_minor": 4
}
