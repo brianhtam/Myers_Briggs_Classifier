{
 "cells": [
  {
   "cell_type": "markdown",
   "metadata": {},
   "source": [
    "# Sentiment Analysis\n",
    "Author Brian Tam, 10/16/2020\n",
    "\n",
    "- Sentiment Analysis with Vadar \n",
    "- Parts-of-Speech counting"
   ]
  },
  {
   "cell_type": "code",
   "execution_count": 9,
   "metadata": {
    "execution": {
     "iopub.execute_input": "2020-10-27T18:36:46.887289Z",
     "iopub.status.busy": "2020-10-27T18:36:46.887044Z",
     "iopub.status.idle": "2020-10-27T18:36:46.967403Z",
     "shell.execute_reply": "2020-10-27T18:36:46.965665Z",
     "shell.execute_reply.started": "2020-10-27T18:36:46.887264Z"
    }
   },
   "outputs": [],
   "source": [
    "# Get pandas and postgres to work together\n",
    "import psycopg2 as pg\n",
    "import pandas as pd\n",
    "import numpy as np\n",
    "\n",
    "# Import spacy to do NLP\n",
    "import spacy\n",
    "\n",
    "# import VADER for sentiment analysis \n",
    "import nltk\n",
    "from nltk.sentiment.vader import SentimentIntensityAnalyzer\n",
    "\n",
    "sid = SentimentIntensityAnalyzer()\n",
    "\n",
    "from sklearn.feature_extraction.text import CountVectorizer"
   ]
  },
  {
   "cell_type": "code",
   "execution_count": 10,
   "metadata": {
    "execution": {
     "iopub.execute_input": "2020-10-27T18:36:52.905176Z",
     "iopub.status.busy": "2020-10-27T18:36:52.904942Z",
     "iopub.status.idle": "2020-10-27T18:36:59.774042Z",
     "shell.execute_reply": "2020-10-27T18:36:59.773431Z",
     "shell.execute_reply.started": "2020-10-27T18:36:52.905151Z"
    }
   },
   "outputs": [
    {
     "data": {
      "text/html": [
       "<div>\n",
       "<style scoped>\n",
       "    .dataframe tbody tr th:only-of-type {\n",
       "        vertical-align: middle;\n",
       "    }\n",
       "\n",
       "    .dataframe tbody tr th {\n",
       "        vertical-align: top;\n",
       "    }\n",
       "\n",
       "    .dataframe thead th {\n",
       "        text-align: right;\n",
       "    }\n",
       "</style>\n",
       "<table border=\"1\" class=\"dataframe\">\n",
       "  <thead>\n",
       "    <tr style=\"text-align: right;\">\n",
       "      <th></th>\n",
       "      <th>type</th>\n",
       "      <th>E/I</th>\n",
       "      <th>N/S</th>\n",
       "      <th>F/T</th>\n",
       "      <th>P/J</th>\n",
       "      <th>post</th>\n",
       "      <th>post_no_links</th>\n",
       "      <th>spacy_post</th>\n",
       "      <th>clean_post</th>\n",
       "    </tr>\n",
       "  </thead>\n",
       "  <tbody>\n",
       "    <tr>\n",
       "      <th>0</th>\n",
       "      <td>INFJ</td>\n",
       "      <td>0</td>\n",
       "      <td>1</td>\n",
       "      <td>1</td>\n",
       "      <td>0</td>\n",
       "      <td>\"['http://www.youtube.com/watch?v=qsXHcwe3krw'...</td>\n",
       "      <td>What has been the most life-changing experienc...</td>\n",
       "      <td>life change experience life perc experience im...</td>\n",
       "      <td>life change experience life perc experience im...</td>\n",
       "    </tr>\n",
       "    <tr>\n",
       "      <th>1</th>\n",
       "      <td>ENTP</td>\n",
       "      <td>1</td>\n",
       "      <td>1</td>\n",
       "      <td>0</td>\n",
       "      <td>1</td>\n",
       "      <td>\"[\"\"I'm finding the lack of me in these posts ...</td>\n",
       "      <td>I'm finding the lack of me in these posts very...</td>\n",
       "      <td>find lack post alarming sex boring position ex...</td>\n",
       "      <td>find lack post alarming sex boring position ex...</td>\n",
       "    </tr>\n",
       "    <tr>\n",
       "      <th>2</th>\n",
       "      <td>INTP</td>\n",
       "      <td>0</td>\n",
       "      <td>1</td>\n",
       "      <td>0</td>\n",
       "      <td>1</td>\n",
       "      <td>\"['Good one  _____   https://www.youtube.com/w...</td>\n",
       "      <td>Of course, to which I say I know; that's my bl...</td>\n",
       "      <td>course know blessing curse absolutely positive...</td>\n",
       "      <td>course know blessing curse absolutely positive...</td>\n",
       "    </tr>\n",
       "    <tr>\n",
       "      <th>3</th>\n",
       "      <td>INTJ</td>\n",
       "      <td>0</td>\n",
       "      <td>1</td>\n",
       "      <td>0</td>\n",
       "      <td>0</td>\n",
       "      <td>\"['Dear INTP,   I enjoyed our conversation the...</td>\n",
       "      <td>Dear INTP,   I enjoyed our conversation the ot...</td>\n",
       "      <td>dear intp enjoy conversation day esoteric gabb...</td>\n",
       "      <td>dear intp enjoy conversation day esoteric gabb...</td>\n",
       "    </tr>\n",
       "    <tr>\n",
       "      <th>4</th>\n",
       "      <td>ENTJ</td>\n",
       "      <td>1</td>\n",
       "      <td>1</td>\n",
       "      <td>0</td>\n",
       "      <td>0</td>\n",
       "      <td>\"[\"\"You're fired.\"\", \"\"That's another silly mi...</td>\n",
       "      <td>You're fired. That's another silly misconcepti...</td>\n",
       "      <td>fire silly misconception approach logically ke...</td>\n",
       "      <td>fire silly misconception approach logically ke...</td>\n",
       "    </tr>\n",
       "    <tr>\n",
       "      <th>...</th>\n",
       "      <td>...</td>\n",
       "      <td>...</td>\n",
       "      <td>...</td>\n",
       "      <td>...</td>\n",
       "      <td>...</td>\n",
       "      <td>...</td>\n",
       "      <td>...</td>\n",
       "      <td>...</td>\n",
       "      <td>...</td>\n",
       "    </tr>\n",
       "    <tr>\n",
       "      <th>8670</th>\n",
       "      <td>ENTP</td>\n",
       "      <td>1</td>\n",
       "      <td>1</td>\n",
       "      <td>0</td>\n",
       "      <td>1</td>\n",
       "      <td>\"['I think generally people experience post tr...</td>\n",
       "      <td>I think generally people experience post traum...</td>\n",
       "      <td>think generally people experience post trauma ...</td>\n",
       "      <td>think generally people experience post trauma ...</td>\n",
       "    </tr>\n",
       "    <tr>\n",
       "      <th>8671</th>\n",
       "      <td>INTJ</td>\n",
       "      <td>0</td>\n",
       "      <td>1</td>\n",
       "      <td>0</td>\n",
       "      <td>0</td>\n",
       "      <td>\"[\"\"Here's a planned stress relieving activity...</td>\n",
       "      <td>Here's a planned stress relieving activity tha...</td>\n",
       "      <td>planned stress relieve activity work ... day g...</td>\n",
       "      <td>planned stress relieve activity work  day guy ...</td>\n",
       "    </tr>\n",
       "    <tr>\n",
       "      <th>8672</th>\n",
       "      <td>INFJ</td>\n",
       "      <td>0</td>\n",
       "      <td>1</td>\n",
       "      <td>1</td>\n",
       "      <td>0</td>\n",
       "      <td>\"[\"\"I'm not sure about a method for picking ou...</td>\n",
       "      <td>I'm not sure about a method for picking out IN...</td>\n",
       "      <td>sure method pick infj musical artist throw cau...</td>\n",
       "      <td>sure method pick infj musical artist throw cau...</td>\n",
       "    </tr>\n",
       "    <tr>\n",
       "      <th>8673</th>\n",
       "      <td>ISFP</td>\n",
       "      <td>0</td>\n",
       "      <td>0</td>\n",
       "      <td>1</td>\n",
       "      <td>1</td>\n",
       "      <td>\"['https://www.youtube.com/watch?v=t8edHB_h908...</td>\n",
       "      <td>Especially on websites that have become a have...</td>\n",
       "      <td>especially website haven neo nazis perc. nerd ...</td>\n",
       "      <td>especially website haven neo nazis perc nerd l...</td>\n",
       "    </tr>\n",
       "    <tr>\n",
       "      <th>8674</th>\n",
       "      <td>ENFP</td>\n",
       "      <td>1</td>\n",
       "      <td>1</td>\n",
       "      <td>1</td>\n",
       "      <td>1</td>\n",
       "      <td>\"['So...if this thread already exists someplac...</td>\n",
       "      <td>Ooops...I guess I didn't look too hard because...</td>\n",
       "      <td>ooop ... guess look hard start movies enfp wat...</td>\n",
       "      <td>ooop  guess look hard start movies enfp watch ...</td>\n",
       "    </tr>\n",
       "  </tbody>\n",
       "</table>\n",
       "<p>8675 rows × 9 columns</p>\n",
       "</div>"
      ],
      "text/plain": [
       "      type  E/I  N/S  F/T  P/J  \\\n",
       "0     INFJ    0    1    1    0   \n",
       "1     ENTP    1    1    0    1   \n",
       "2     INTP    0    1    0    1   \n",
       "3     INTJ    0    1    0    0   \n",
       "4     ENTJ    1    1    0    0   \n",
       "...    ...  ...  ...  ...  ...   \n",
       "8670  ENTP    1    1    0    1   \n",
       "8671  INTJ    0    1    0    0   \n",
       "8672  INFJ    0    1    1    0   \n",
       "8673  ISFP    0    0    1    1   \n",
       "8674  ENFP    1    1    1    1   \n",
       "\n",
       "                                                   post  \\\n",
       "0     \"['http://www.youtube.com/watch?v=qsXHcwe3krw'...   \n",
       "1     \"[\"\"I'm finding the lack of me in these posts ...   \n",
       "2     \"['Good one  _____   https://www.youtube.com/w...   \n",
       "3     \"['Dear INTP,   I enjoyed our conversation the...   \n",
       "4     \"[\"\"You're fired.\"\", \"\"That's another silly mi...   \n",
       "...                                                 ...   \n",
       "8670  \"['I think generally people experience post tr...   \n",
       "8671  \"[\"\"Here's a planned stress relieving activity...   \n",
       "8672  \"[\"\"I'm not sure about a method for picking ou...   \n",
       "8673  \"['https://www.youtube.com/watch?v=t8edHB_h908...   \n",
       "8674  \"['So...if this thread already exists someplac...   \n",
       "\n",
       "                                          post_no_links  \\\n",
       "0     What has been the most life-changing experienc...   \n",
       "1     I'm finding the lack of me in these posts very...   \n",
       "2     Of course, to which I say I know; that's my bl...   \n",
       "3     Dear INTP,   I enjoyed our conversation the ot...   \n",
       "4     You're fired. That's another silly misconcepti...   \n",
       "...                                                 ...   \n",
       "8670  I think generally people experience post traum...   \n",
       "8671  Here's a planned stress relieving activity tha...   \n",
       "8672  I'm not sure about a method for picking out IN...   \n",
       "8673  Especially on websites that have become a have...   \n",
       "8674  Ooops...I guess I didn't look too hard because...   \n",
       "\n",
       "                                             spacy_post  \\\n",
       "0     life change experience life perc experience im...   \n",
       "1     find lack post alarming sex boring position ex...   \n",
       "2     course know blessing curse absolutely positive...   \n",
       "3     dear intp enjoy conversation day esoteric gabb...   \n",
       "4     fire silly misconception approach logically ke...   \n",
       "...                                                 ...   \n",
       "8670  think generally people experience post trauma ...   \n",
       "8671  planned stress relieve activity work ... day g...   \n",
       "8672  sure method pick infj musical artist throw cau...   \n",
       "8673  especially website haven neo nazis perc. nerd ...   \n",
       "8674  ooop ... guess look hard start movies enfp wat...   \n",
       "\n",
       "                                             clean_post  \n",
       "0     life change experience life perc experience im...  \n",
       "1     find lack post alarming sex boring position ex...  \n",
       "2     course know blessing curse absolutely positive...  \n",
       "3     dear intp enjoy conversation day esoteric gabb...  \n",
       "4     fire silly misconception approach logically ke...  \n",
       "...                                                 ...  \n",
       "8670  think generally people experience post trauma ...  \n",
       "8671  planned stress relieve activity work  day guy ...  \n",
       "8672  sure method pick infj musical artist throw cau...  \n",
       "8673  especially website haven neo nazis perc nerd l...  \n",
       "8674  ooop  guess look hard start movies enfp watch ...  \n",
       "\n",
       "[8675 rows x 9 columns]"
      ]
     },
     "execution_count": 10,
     "metadata": {},
     "output_type": "execute_result"
    }
   ],
   "source": [
    "# Postgres info to connect\n",
    "connection_args = {\n",
    "    'host': 'localhost',  # We are connecting to our _local_ version of psql\n",
    "    'dbname': 'myers_briggs',    # DB that we are connecting to\n",
    "}\n",
    "\n",
    "connection = pg.connect(**connection_args)  # What is that \"**\" there??\n",
    "\n",
    "query = \"SELECT * FROM cleaned_posts;\"\n",
    "\n",
    "df = pd.read_sql(query, connection)\n",
    "df"
   ]
  },
  {
   "cell_type": "code",
   "execution_count": 4,
   "metadata": {
    "execution": {
     "iopub.execute_input": "2020-10-24T17:22:05.362621Z",
     "iopub.status.busy": "2020-10-24T17:22:05.362413Z",
     "iopub.status.idle": "2020-10-24T17:22:05.379457Z",
     "shell.execute_reply": "2020-10-24T17:22:05.378868Z",
     "shell.execute_reply.started": "2020-10-24T17:22:05.362599Z"
    }
   },
   "outputs": [],
   "source": [
    "df = df.dropna()"
   ]
  },
  {
   "cell_type": "markdown",
   "metadata": {},
   "source": [
    "# VADOR Sentiment analysis"
   ]
  },
  {
   "cell_type": "code",
   "execution_count": 25,
   "metadata": {
    "execution": {
     "iopub.execute_input": "2020-10-23T04:38:42.626602Z",
     "iopub.status.busy": "2020-10-23T04:38:42.626387Z",
     "iopub.status.idle": "2020-10-23T04:38:42.667852Z",
     "shell.execute_reply": "2020-10-23T04:38:42.667196Z",
     "shell.execute_reply.started": "2020-10-23T04:38:42.626579Z"
    }
   },
   "outputs": [],
   "source": [
    "example = df.post_no_links.iloc[0:3].apply(lambda x: sid.polarity_scores(x))"
   ]
  },
  {
   "cell_type": "code",
   "execution_count": 26,
   "metadata": {
    "execution": {
     "iopub.execute_input": "2020-10-23T04:38:44.159382Z",
     "iopub.status.busy": "2020-10-23T04:38:44.159160Z",
     "iopub.status.idle": "2020-10-23T04:47:39.415905Z",
     "shell.execute_reply": "2020-10-23T04:47:39.415349Z",
     "shell.execute_reply.started": "2020-10-23T04:38:44.159350Z"
    }
   },
   "outputs": [
    {
     "name": "stderr",
     "output_type": "stream",
     "text": [
      "<ipython-input-26-ebd6ee2825eb>:4: SettingWithCopyWarning: \n",
      "A value is trying to be set on a copy of a slice from a DataFrame.\n",
      "Try using .loc[row_indexer,col_indexer] = value instead\n",
      "\n",
      "See the caveats in the documentation: https://pandas.pydata.org/pandas-docs/stable/user_guide/indexing.html#returning-a-view-versus-a-copy\n",
      "  df['compound'] = [analyzer.polarity_scores(v)['compound'] for v in df['post_no_links']]\n",
      "<ipython-input-26-ebd6ee2825eb>:5: SettingWithCopyWarning: \n",
      "A value is trying to be set on a copy of a slice from a DataFrame.\n",
      "Try using .loc[row_indexer,col_indexer] = value instead\n",
      "\n",
      "See the caveats in the documentation: https://pandas.pydata.org/pandas-docs/stable/user_guide/indexing.html#returning-a-view-versus-a-copy\n",
      "  df['neg'] = [analyzer.polarity_scores(v)['neg'] for v in df['post_no_links']]\n",
      "<ipython-input-26-ebd6ee2825eb>:6: SettingWithCopyWarning: \n",
      "A value is trying to be set on a copy of a slice from a DataFrame.\n",
      "Try using .loc[row_indexer,col_indexer] = value instead\n",
      "\n",
      "See the caveats in the documentation: https://pandas.pydata.org/pandas-docs/stable/user_guide/indexing.html#returning-a-view-versus-a-copy\n",
      "  df['neu'] = [analyzer.polarity_scores(v)['neu'] for v in df['post_no_links']]\n",
      "<ipython-input-26-ebd6ee2825eb>:7: SettingWithCopyWarning: \n",
      "A value is trying to be set on a copy of a slice from a DataFrame.\n",
      "Try using .loc[row_indexer,col_indexer] = value instead\n",
      "\n",
      "See the caveats in the documentation: https://pandas.pydata.org/pandas-docs/stable/user_guide/indexing.html#returning-a-view-versus-a-copy\n",
      "  df['pos'] = [analyzer.polarity_scores(v)['pos'] for v in df['post_no_links']]\n"
     ]
    }
   ],
   "source": [
    "#load VADER\n",
    "analyzer = SentimentIntensityAnalyzer()\n",
    "#Add VADER metrics to dataframe\n",
    "df['compound'] = [analyzer.polarity_scores(v)['compound'] for v in df['post_no_links']]\n",
    "df['neg'] = [analyzer.polarity_scores(v)['neg'] for v in df['post_no_links']]\n",
    "df['neu'] = [analyzer.polarity_scores(v)['neu'] for v in df['post_no_links']]\n",
    "df['pos'] = [analyzer.polarity_scores(v)['pos'] for v in df['post_no_links']]"
   ]
  },
  {
   "cell_type": "code",
   "execution_count": 22,
   "metadata": {
    "execution": {
     "iopub.execute_input": "2020-10-23T04:30:36.304169Z",
     "iopub.status.busy": "2020-10-23T04:30:36.303911Z",
     "iopub.status.idle": "2020-10-23T04:30:36.309562Z",
     "shell.execute_reply": "2020-10-23T04:30:36.308705Z",
     "shell.execute_reply.started": "2020-10-23T04:30:36.304140Z"
    }
   },
   "outputs": [
    {
     "data": {
      "text/plain": [
       "{'neg': 0.084, 'neu': 0.778, 'pos': 0.138, 'compound': 0.9789}"
      ]
     },
     "execution_count": 22,
     "metadata": {},
     "output_type": "execute_result"
    }
   ],
   "source": [
    "example[0]"
   ]
  },
  {
   "cell_type": "code",
   "execution_count": 33,
   "metadata": {
    "execution": {
     "iopub.execute_input": "2020-10-23T05:13:50.953291Z",
     "iopub.status.busy": "2020-10-23T05:13:50.953047Z",
     "iopub.status.idle": "2020-10-23T05:13:50.958207Z",
     "shell.execute_reply": "2020-10-23T05:13:50.956661Z",
     "shell.execute_reply.started": "2020-10-23T05:13:50.953245Z"
    }
   },
   "outputs": [],
   "source": [
    "sentiment_df = df.iloc[:,-4:]"
   ]
  },
  {
   "cell_type": "code",
   "execution_count": 34,
   "metadata": {
    "execution": {
     "iopub.execute_input": "2020-10-23T05:13:51.746967Z",
     "iopub.status.busy": "2020-10-23T05:13:51.746758Z",
     "iopub.status.idle": "2020-10-23T05:13:52.129158Z",
     "shell.execute_reply": "2020-10-23T05:13:52.128452Z",
     "shell.execute_reply.started": "2020-10-23T05:13:51.746944Z"
    }
   },
   "outputs": [
    {
     "data": {
      "text/plain": [
       "True"
      ]
     },
     "execution_count": 34,
     "metadata": {},
     "output_type": "execute_result"
    }
   ],
   "source": [
    "import d6tstack\n",
    "\n",
    "# fast CSV to SQL import - see SQL examples notebook\n",
    "d6tstack.utils.pd_to_psql(sentiment_df, \n",
    "                          'postgresql+psycopg2://briantam: @localhost/myers_briggs', \n",
    "                          'polarity_scores', \n",
    "                          if_exists='replace',\n",
    "                          sep='\\t')\n"
   ]
  },
  {
   "cell_type": "code",
   "execution_count": 37,
   "metadata": {
    "execution": {
     "iopub.execute_input": "2020-10-23T05:15:42.313978Z",
     "iopub.status.busy": "2020-10-23T05:15:42.311405Z",
     "iopub.status.idle": "2020-10-23T05:15:42.342994Z",
     "shell.execute_reply": "2020-10-23T05:15:42.341964Z",
     "shell.execute_reply.started": "2020-10-23T05:15:42.313909Z"
    }
   },
   "outputs": [
    {
     "data": {
      "text/plain": [
       "{'neg': 0.0, 'neu': 0.192, 'pos': 0.808, 'compound': 0.6369}"
      ]
     },
     "execution_count": 37,
     "metadata": {},
     "output_type": "execute_result"
    }
   ],
   "source": [
    "sid.polarity_scores()"
   ]
  },
  {
   "cell_type": "code",
   "execution_count": null,
   "metadata": {},
   "outputs": [],
   "source": [
    "# Parts of"
   ]
  },
  {
   "cell_type": "code",
   "execution_count": 38,
   "metadata": {
    "execution": {
     "iopub.execute_input": "2020-10-23T05:57:12.997683Z",
     "iopub.status.busy": "2020-10-23T05:57:12.997481Z",
     "iopub.status.idle": "2020-10-23T06:19:57.743465Z",
     "shell.execute_reply": "2020-10-23T06:19:57.742867Z",
     "shell.execute_reply.started": "2020-10-23T05:57:12.997660Z"
    }
   },
   "outputs": [
    {
     "name": "stderr",
     "output_type": "stream",
     "text": [
      "<ipython-input-38-87b6ac1237c0>:1: SettingWithCopyWarning: \n",
      "A value is trying to be set on a copy of a slice from a DataFrame.\n",
      "Try using .loc[row_indexer,col_indexer] = value instead\n",
      "\n",
      "See the caveats in the documentation: https://pandas.pydata.org/pandas-docs/stable/user_guide/indexing.html#returning-a-view-versus-a-copy\n",
      "  df['POS'] = df.post_no_links.apply(lambda x:[token.pos_ for token in nlp(x)])\n"
     ]
    }
   ],
   "source": [
    "df['POS'] = df.post_no_links.apply(lambda x:[token.pos_ for token in nlp(x)]) "
   ]
  },
  {
   "cell_type": "code",
   "execution_count": 58,
   "metadata": {
    "execution": {
     "iopub.execute_input": "2020-10-24T00:40:09.349071Z",
     "iopub.status.busy": "2020-10-24T00:40:09.348824Z",
     "iopub.status.idle": "2020-10-24T00:40:09.360288Z",
     "shell.execute_reply": "2020-10-24T00:40:09.359303Z",
     "shell.execute_reply.started": "2020-10-24T00:40:09.349046Z"
    }
   },
   "outputs": [
    {
     "ename": "AttributeError",
     "evalue": "'list' object has no attribute 'unique'",
     "output_type": "error",
     "traceback": [
      "\u001b[0;31m---------------------------------------------------------------------------\u001b[0m",
      "\u001b[0;31mAttributeError\u001b[0m                            Traceback (most recent call last)",
      "\u001b[0;32m<ipython-input-58-6bf9fae071cf>\u001b[0m in \u001b[0;36m<module>\u001b[0;34m\u001b[0m\n\u001b[0;32m----> 1\u001b[0;31m \u001b[0mdf\u001b[0m\u001b[0;34m.\u001b[0m\u001b[0mPOS\u001b[0m\u001b[0;34m[\u001b[0m\u001b[0;36m0\u001b[0m\u001b[0;34m]\u001b[0m\u001b[0;34m.\u001b[0m\u001b[0munique\u001b[0m\u001b[0;34m\u001b[0m\u001b[0;34m\u001b[0m\u001b[0m\n\u001b[0m",
      "\u001b[0;31mAttributeError\u001b[0m: 'list' object has no attribute 'unique'"
     ]
    }
   ],
   "source": [
    "df.POS[0].unique"
   ]
  },
  {
   "cell_type": "code",
   "execution_count": 51,
   "metadata": {
    "execution": {
     "iopub.execute_input": "2020-10-24T00:39:15.711329Z",
     "iopub.status.busy": "2020-10-24T00:39:15.711082Z",
     "iopub.status.idle": "2020-10-24T00:39:27.893039Z",
     "shell.execute_reply": "2020-10-24T00:39:27.892400Z",
     "shell.execute_reply.started": "2020-10-24T00:39:15.711302Z"
    }
   },
   "outputs": [],
   "source": [
    "POS_df = pd.get_dummies(df.POS.apply(pd.Series).stack()).sum(level=0)"
   ]
  },
  {
   "cell_type": "code",
   "execution_count": 59,
   "metadata": {
    "execution": {
     "iopub.execute_input": "2020-10-24T00:40:30.207154Z",
     "iopub.status.busy": "2020-10-24T00:40:30.206846Z",
     "iopub.status.idle": "2020-10-24T00:40:30.234087Z",
     "shell.execute_reply": "2020-10-24T00:40:30.233367Z",
     "shell.execute_reply.started": "2020-10-24T00:40:30.207121Z"
    }
   },
   "outputs": [
    {
     "data": {
      "text/html": [
       "<div>\n",
       "<style scoped>\n",
       "    .dataframe tbody tr th:only-of-type {\n",
       "        vertical-align: middle;\n",
       "    }\n",
       "\n",
       "    .dataframe tbody tr th {\n",
       "        vertical-align: top;\n",
       "    }\n",
       "\n",
       "    .dataframe thead th {\n",
       "        text-align: right;\n",
       "    }\n",
       "</style>\n",
       "<table border=\"1\" class=\"dataframe\">\n",
       "  <thead>\n",
       "    <tr style=\"text-align: right;\">\n",
       "      <th></th>\n",
       "      <th>ADJ</th>\n",
       "      <th>ADP</th>\n",
       "      <th>ADV</th>\n",
       "      <th>AUX</th>\n",
       "      <th>CCONJ</th>\n",
       "      <th>DET</th>\n",
       "      <th>INTJ</th>\n",
       "      <th>NOUN</th>\n",
       "      <th>NUM</th>\n",
       "      <th>PART</th>\n",
       "      <th>PRON</th>\n",
       "      <th>PROPN</th>\n",
       "      <th>PUNCT</th>\n",
       "      <th>SCONJ</th>\n",
       "      <th>SPACE</th>\n",
       "      <th>SYM</th>\n",
       "      <th>VERB</th>\n",
       "      <th>X</th>\n",
       "    </tr>\n",
       "  </thead>\n",
       "  <tbody>\n",
       "    <tr>\n",
       "      <th>0</th>\n",
       "      <td>45.0</td>\n",
       "      <td>55.0</td>\n",
       "      <td>37.0</td>\n",
       "      <td>30.0</td>\n",
       "      <td>12.0</td>\n",
       "      <td>65.0</td>\n",
       "      <td>5.0</td>\n",
       "      <td>105.0</td>\n",
       "      <td>6.0</td>\n",
       "      <td>17.0</td>\n",
       "      <td>44.0</td>\n",
       "      <td>16.0</td>\n",
       "      <td>80.0</td>\n",
       "      <td>16.0</td>\n",
       "      <td>6.0</td>\n",
       "      <td>1.0</td>\n",
       "      <td>70.0</td>\n",
       "      <td>3.0</td>\n",
       "    </tr>\n",
       "    <tr>\n",
       "      <th>1</th>\n",
       "      <td>91.0</td>\n",
       "      <td>91.0</td>\n",
       "      <td>75.0</td>\n",
       "      <td>97.0</td>\n",
       "      <td>44.0</td>\n",
       "      <td>117.0</td>\n",
       "      <td>10.0</td>\n",
       "      <td>174.0</td>\n",
       "      <td>15.0</td>\n",
       "      <td>40.0</td>\n",
       "      <td>174.0</td>\n",
       "      <td>54.0</td>\n",
       "      <td>165.0</td>\n",
       "      <td>40.0</td>\n",
       "      <td>20.0</td>\n",
       "      <td>5.0</td>\n",
       "      <td>170.0</td>\n",
       "      <td>5.0</td>\n",
       "    </tr>\n",
       "    <tr>\n",
       "      <th>2</th>\n",
       "      <td>81.0</td>\n",
       "      <td>66.0</td>\n",
       "      <td>95.0</td>\n",
       "      <td>66.0</td>\n",
       "      <td>26.0</td>\n",
       "      <td>80.0</td>\n",
       "      <td>13.0</td>\n",
       "      <td>141.0</td>\n",
       "      <td>18.0</td>\n",
       "      <td>32.0</td>\n",
       "      <td>96.0</td>\n",
       "      <td>18.0</td>\n",
       "      <td>146.0</td>\n",
       "      <td>23.0</td>\n",
       "      <td>18.0</td>\n",
       "      <td>3.0</td>\n",
       "      <td>123.0</td>\n",
       "      <td>0.0</td>\n",
       "    </tr>\n",
       "    <tr>\n",
       "      <th>3</th>\n",
       "      <td>81.0</td>\n",
       "      <td>96.0</td>\n",
       "      <td>97.0</td>\n",
       "      <td>105.0</td>\n",
       "      <td>35.0</td>\n",
       "      <td>125.0</td>\n",
       "      <td>9.0</td>\n",
       "      <td>166.0</td>\n",
       "      <td>21.0</td>\n",
       "      <td>38.0</td>\n",
       "      <td>152.0</td>\n",
       "      <td>38.0</td>\n",
       "      <td>181.0</td>\n",
       "      <td>37.0</td>\n",
       "      <td>28.0</td>\n",
       "      <td>4.0</td>\n",
       "      <td>151.0</td>\n",
       "      <td>1.0</td>\n",
       "    </tr>\n",
       "    <tr>\n",
       "      <th>4</th>\n",
       "      <td>88.0</td>\n",
       "      <td>84.0</td>\n",
       "      <td>68.0</td>\n",
       "      <td>113.0</td>\n",
       "      <td>34.0</td>\n",
       "      <td>117.0</td>\n",
       "      <td>9.0</td>\n",
       "      <td>172.0</td>\n",
       "      <td>5.0</td>\n",
       "      <td>42.0</td>\n",
       "      <td>122.0</td>\n",
       "      <td>28.0</td>\n",
       "      <td>145.0</td>\n",
       "      <td>14.0</td>\n",
       "      <td>13.0</td>\n",
       "      <td>2.0</td>\n",
       "      <td>135.0</td>\n",
       "      <td>1.0</td>\n",
       "    </tr>\n",
       "    <tr>\n",
       "      <th>...</th>\n",
       "      <td>...</td>\n",
       "      <td>...</td>\n",
       "      <td>...</td>\n",
       "      <td>...</td>\n",
       "      <td>...</td>\n",
       "      <td>...</td>\n",
       "      <td>...</td>\n",
       "      <td>...</td>\n",
       "      <td>...</td>\n",
       "      <td>...</td>\n",
       "      <td>...</td>\n",
       "      <td>...</td>\n",
       "      <td>...</td>\n",
       "      <td>...</td>\n",
       "      <td>...</td>\n",
       "      <td>...</td>\n",
       "      <td>...</td>\n",
       "      <td>...</td>\n",
       "    </tr>\n",
       "    <tr>\n",
       "      <th>8670</th>\n",
       "      <td>126.0</td>\n",
       "      <td>114.0</td>\n",
       "      <td>144.0</td>\n",
       "      <td>109.0</td>\n",
       "      <td>62.0</td>\n",
       "      <td>191.0</td>\n",
       "      <td>11.0</td>\n",
       "      <td>233.0</td>\n",
       "      <td>13.0</td>\n",
       "      <td>50.0</td>\n",
       "      <td>160.0</td>\n",
       "      <td>29.0</td>\n",
       "      <td>170.0</td>\n",
       "      <td>40.0</td>\n",
       "      <td>15.0</td>\n",
       "      <td>1.0</td>\n",
       "      <td>222.0</td>\n",
       "      <td>1.0</td>\n",
       "    </tr>\n",
       "    <tr>\n",
       "      <th>8671</th>\n",
       "      <td>70.0</td>\n",
       "      <td>89.0</td>\n",
       "      <td>102.0</td>\n",
       "      <td>91.0</td>\n",
       "      <td>49.0</td>\n",
       "      <td>118.0</td>\n",
       "      <td>6.0</td>\n",
       "      <td>170.0</td>\n",
       "      <td>8.0</td>\n",
       "      <td>46.0</td>\n",
       "      <td>154.0</td>\n",
       "      <td>21.0</td>\n",
       "      <td>138.0</td>\n",
       "      <td>35.0</td>\n",
       "      <td>9.0</td>\n",
       "      <td>2.0</td>\n",
       "      <td>183.0</td>\n",
       "      <td>0.0</td>\n",
       "    </tr>\n",
       "    <tr>\n",
       "      <th>8672</th>\n",
       "      <td>76.0</td>\n",
       "      <td>117.0</td>\n",
       "      <td>92.0</td>\n",
       "      <td>101.0</td>\n",
       "      <td>28.0</td>\n",
       "      <td>126.0</td>\n",
       "      <td>12.0</td>\n",
       "      <td>182.0</td>\n",
       "      <td>15.0</td>\n",
       "      <td>49.0</td>\n",
       "      <td>125.0</td>\n",
       "      <td>70.0</td>\n",
       "      <td>230.0</td>\n",
       "      <td>29.0</td>\n",
       "      <td>54.0</td>\n",
       "      <td>3.0</td>\n",
       "      <td>156.0</td>\n",
       "      <td>1.0</td>\n",
       "    </tr>\n",
       "    <tr>\n",
       "      <th>8673</th>\n",
       "      <td>72.0</td>\n",
       "      <td>61.0</td>\n",
       "      <td>65.0</td>\n",
       "      <td>85.0</td>\n",
       "      <td>28.0</td>\n",
       "      <td>83.0</td>\n",
       "      <td>5.0</td>\n",
       "      <td>126.0</td>\n",
       "      <td>7.0</td>\n",
       "      <td>33.0</td>\n",
       "      <td>105.0</td>\n",
       "      <td>36.0</td>\n",
       "      <td>106.0</td>\n",
       "      <td>36.0</td>\n",
       "      <td>13.0</td>\n",
       "      <td>2.0</td>\n",
       "      <td>112.0</td>\n",
       "      <td>0.0</td>\n",
       "    </tr>\n",
       "    <tr>\n",
       "      <th>8674</th>\n",
       "      <td>89.0</td>\n",
       "      <td>87.0</td>\n",
       "      <td>112.0</td>\n",
       "      <td>133.0</td>\n",
       "      <td>76.0</td>\n",
       "      <td>130.0</td>\n",
       "      <td>13.0</td>\n",
       "      <td>182.0</td>\n",
       "      <td>9.0</td>\n",
       "      <td>62.0</td>\n",
       "      <td>200.0</td>\n",
       "      <td>55.0</td>\n",
       "      <td>256.0</td>\n",
       "      <td>33.0</td>\n",
       "      <td>76.0</td>\n",
       "      <td>16.0</td>\n",
       "      <td>220.0</td>\n",
       "      <td>13.0</td>\n",
       "    </tr>\n",
       "  </tbody>\n",
       "</table>\n",
       "<p>8674 rows × 18 columns</p>\n",
       "</div>"
      ],
      "text/plain": [
       "        ADJ    ADP    ADV    AUX  CCONJ    DET  INTJ   NOUN   NUM  PART   PRON  PROPN  PUNCT  SCONJ  SPACE   SYM   VERB     X\n",
       "0      45.0   55.0   37.0   30.0   12.0   65.0   5.0  105.0   6.0  17.0   44.0   16.0   80.0   16.0    6.0   1.0   70.0   3.0\n",
       "1      91.0   91.0   75.0   97.0   44.0  117.0  10.0  174.0  15.0  40.0  174.0   54.0  165.0   40.0   20.0   5.0  170.0   5.0\n",
       "2      81.0   66.0   95.0   66.0   26.0   80.0  13.0  141.0  18.0  32.0   96.0   18.0  146.0   23.0   18.0   3.0  123.0   0.0\n",
       "3      81.0   96.0   97.0  105.0   35.0  125.0   9.0  166.0  21.0  38.0  152.0   38.0  181.0   37.0   28.0   4.0  151.0   1.0\n",
       "4      88.0   84.0   68.0  113.0   34.0  117.0   9.0  172.0   5.0  42.0  122.0   28.0  145.0   14.0   13.0   2.0  135.0   1.0\n",
       "...     ...    ...    ...    ...    ...    ...   ...    ...   ...   ...    ...    ...    ...    ...    ...   ...    ...   ...\n",
       "8670  126.0  114.0  144.0  109.0   62.0  191.0  11.0  233.0  13.0  50.0  160.0   29.0  170.0   40.0   15.0   1.0  222.0   1.0\n",
       "8671   70.0   89.0  102.0   91.0   49.0  118.0   6.0  170.0   8.0  46.0  154.0   21.0  138.0   35.0    9.0   2.0  183.0   0.0\n",
       "8672   76.0  117.0   92.0  101.0   28.0  126.0  12.0  182.0  15.0  49.0  125.0   70.0  230.0   29.0   54.0   3.0  156.0   1.0\n",
       "8673   72.0   61.0   65.0   85.0   28.0   83.0   5.0  126.0   7.0  33.0  105.0   36.0  106.0   36.0   13.0   2.0  112.0   0.0\n",
       "8674   89.0   87.0  112.0  133.0   76.0  130.0  13.0  182.0   9.0  62.0  200.0   55.0  256.0   33.0   76.0  16.0  220.0  13.0\n",
       "\n",
       "[8674 rows x 18 columns]"
      ]
     },
     "execution_count": 59,
     "metadata": {},
     "output_type": "execute_result"
    }
   ],
   "source": [
    "POS_df"
   ]
  },
  {
   "cell_type": "code",
   "execution_count": 65,
   "metadata": {
    "execution": {
     "iopub.execute_input": "2020-10-24T00:49:30.962758Z",
     "iopub.status.busy": "2020-10-24T00:49:30.962504Z",
     "iopub.status.idle": "2020-10-24T00:49:30.976018Z",
     "shell.execute_reply": "2020-10-24T00:49:30.975110Z",
     "shell.execute_reply.started": "2020-10-24T00:49:30.962733Z"
    }
   },
   "outputs": [
    {
     "data": {
      "text/html": [
       "<div>\n",
       "<style scoped>\n",
       "    .dataframe tbody tr th:only-of-type {\n",
       "        vertical-align: middle;\n",
       "    }\n",
       "\n",
       "    .dataframe tbody tr th {\n",
       "        vertical-align: top;\n",
       "    }\n",
       "\n",
       "    .dataframe thead th {\n",
       "        text-align: right;\n",
       "    }\n",
       "</style>\n",
       "<table border=\"1\" class=\"dataframe\">\n",
       "  <thead>\n",
       "    <tr style=\"text-align: right;\">\n",
       "      <th></th>\n",
       "      <th>compound</th>\n",
       "      <th>neg</th>\n",
       "      <th>neu</th>\n",
       "      <th>pos</th>\n",
       "    </tr>\n",
       "  </thead>\n",
       "  <tbody>\n",
       "    <tr>\n",
       "      <th>0</th>\n",
       "      <td>0.9789</td>\n",
       "      <td>0.084</td>\n",
       "      <td>0.778</td>\n",
       "      <td>0.138</td>\n",
       "    </tr>\n",
       "    <tr>\n",
       "      <th>1</th>\n",
       "      <td>0.9993</td>\n",
       "      <td>0.086</td>\n",
       "      <td>0.717</td>\n",
       "      <td>0.196</td>\n",
       "    </tr>\n",
       "    <tr>\n",
       "      <th>2</th>\n",
       "      <td>0.9990</td>\n",
       "      <td>0.081</td>\n",
       "      <td>0.718</td>\n",
       "      <td>0.201</td>\n",
       "    </tr>\n",
       "    <tr>\n",
       "      <th>3</th>\n",
       "      <td>0.9982</td>\n",
       "      <td>0.056</td>\n",
       "      <td>0.811</td>\n",
       "      <td>0.132</td>\n",
       "    </tr>\n",
       "    <tr>\n",
       "      <th>4</th>\n",
       "      <td>0.9727</td>\n",
       "      <td>0.124</td>\n",
       "      <td>0.731</td>\n",
       "      <td>0.146</td>\n",
       "    </tr>\n",
       "    <tr>\n",
       "      <th>...</th>\n",
       "      <td>...</td>\n",
       "      <td>...</td>\n",
       "      <td>...</td>\n",
       "      <td>...</td>\n",
       "    </tr>\n",
       "    <tr>\n",
       "      <th>8670</th>\n",
       "      <td>0.9993</td>\n",
       "      <td>0.079</td>\n",
       "      <td>0.753</td>\n",
       "      <td>0.168</td>\n",
       "    </tr>\n",
       "    <tr>\n",
       "      <th>8671</th>\n",
       "      <td>0.9991</td>\n",
       "      <td>0.095</td>\n",
       "      <td>0.719</td>\n",
       "      <td>0.186</td>\n",
       "    </tr>\n",
       "    <tr>\n",
       "      <th>8672</th>\n",
       "      <td>0.9988</td>\n",
       "      <td>0.065</td>\n",
       "      <td>0.789</td>\n",
       "      <td>0.146</td>\n",
       "    </tr>\n",
       "    <tr>\n",
       "      <th>8673</th>\n",
       "      <td>0.9959</td>\n",
       "      <td>0.105</td>\n",
       "      <td>0.730</td>\n",
       "      <td>0.165</td>\n",
       "    </tr>\n",
       "    <tr>\n",
       "      <th>8674</th>\n",
       "      <td>0.9999</td>\n",
       "      <td>0.047</td>\n",
       "      <td>0.681</td>\n",
       "      <td>0.272</td>\n",
       "    </tr>\n",
       "  </tbody>\n",
       "</table>\n",
       "<p>8674 rows × 4 columns</p>\n",
       "</div>"
      ],
      "text/plain": [
       "      compound    neg    neu    pos\n",
       "0       0.9789  0.084  0.778  0.138\n",
       "1       0.9993  0.086  0.717  0.196\n",
       "2       0.9990  0.081  0.718  0.201\n",
       "3       0.9982  0.056  0.811  0.132\n",
       "4       0.9727  0.124  0.731  0.146\n",
       "...        ...    ...    ...    ...\n",
       "8670    0.9993  0.079  0.753  0.168\n",
       "8671    0.9991  0.095  0.719  0.186\n",
       "8672    0.9988  0.065  0.789  0.146\n",
       "8673    0.9959  0.105  0.730  0.165\n",
       "8674    0.9999  0.047  0.681  0.272\n",
       "\n",
       "[8674 rows x 4 columns]"
      ]
     },
     "execution_count": 65,
     "metadata": {},
     "output_type": "execute_result"
    }
   ],
   "source": [
    "df.iloc[:,-5:-1]"
   ]
  },
  {
   "cell_type": "code",
   "execution_count": 52,
   "metadata": {
    "execution": {
     "iopub.execute_input": "2020-10-29T03:03:32.787216Z",
     "iopub.status.busy": "2020-10-29T03:03:32.786846Z",
     "iopub.status.idle": "2020-10-29T03:03:32.816396Z",
     "shell.execute_reply": "2020-10-29T03:03:32.815771Z",
     "shell.execute_reply.started": "2020-10-29T03:03:32.787187Z"
    }
   },
   "outputs": [
    {
     "data": {
      "text/html": [
       "<div>\n",
       "<style scoped>\n",
       "    .dataframe tbody tr th:only-of-type {\n",
       "        vertical-align: middle;\n",
       "    }\n",
       "\n",
       "    .dataframe tbody tr th {\n",
       "        vertical-align: top;\n",
       "    }\n",
       "\n",
       "    .dataframe thead th {\n",
       "        text-align: right;\n",
       "    }\n",
       "</style>\n",
       "<table border=\"1\" class=\"dataframe\">\n",
       "  <thead>\n",
       "    <tr style=\"text-align: right;\">\n",
       "      <th></th>\n",
       "      <th>type</th>\n",
       "      <th>E/I</th>\n",
       "      <th>N/S</th>\n",
       "      <th>F/T</th>\n",
       "      <th>P/J</th>\n",
       "      <th>post</th>\n",
       "      <th>post_no_links</th>\n",
       "      <th>spacy_post</th>\n",
       "      <th>clean_post</th>\n",
       "    </tr>\n",
       "  </thead>\n",
       "  <tbody>\n",
       "    <tr>\n",
       "      <th>31</th>\n",
       "      <td>ISFP</td>\n",
       "      <td>0</td>\n",
       "      <td>0</td>\n",
       "      <td>1</td>\n",
       "      <td>1</td>\n",
       "      <td>\"['They paint without numbers', \"\"I'd guess at...</td>\n",
       "      <td>They paint without numbers I'd guess at istp t...</td>\n",
       "      <td>paint number guess istp good bud esfp funny en...</td>\n",
       "      <td>paint number guess istp good bud esfp funny en...</td>\n",
       "    </tr>\n",
       "    <tr>\n",
       "      <th>40</th>\n",
       "      <td>ISTP</td>\n",
       "      <td>0</td>\n",
       "      <td>0</td>\n",
       "      <td>0</td>\n",
       "      <td>1</td>\n",
       "      <td>\"[\"\"I got 593.  From what I've read about the ...</td>\n",
       "      <td>I got 593.  From what I've read about the Enne...</td>\n",
       "      <td>593 read enneagram 953 read lot 9 mistype 5 gt...</td>\n",
       "      <td>read enneagram  read lot  mistype  gtfo feele...</td>\n",
       "    </tr>\n",
       "    <tr>\n",
       "      <th>48</th>\n",
       "      <td>ISFJ</td>\n",
       "      <td>0</td>\n",
       "      <td>0</td>\n",
       "      <td>1</td>\n",
       "      <td>0</td>\n",
       "      <td>\"['I love feeling affectionate for the one I l...</td>\n",
       "      <td>I love feeling affectionate for the one I love...</td>\n",
       "      <td>love feeling affectionate love care care deepl...</td>\n",
       "      <td>love feeling affectionate love care care deepl...</td>\n",
       "    </tr>\n",
       "    <tr>\n",
       "      <th>52</th>\n",
       "      <td>ISFJ</td>\n",
       "      <td>0</td>\n",
       "      <td>0</td>\n",
       "      <td>1</td>\n",
       "      <td>0</td>\n",
       "      <td>\"[\"\"I'm currently rooting around in the forum,...</td>\n",
       "      <td>I'm currently rooting around in the forum, loo...</td>\n",
       "      <td>currently root forum look place rant think thr...</td>\n",
       "      <td>currently root forum look place rant think thr...</td>\n",
       "    </tr>\n",
       "    <tr>\n",
       "      <th>66</th>\n",
       "      <td>ISFP</td>\n",
       "      <td>0</td>\n",
       "      <td>0</td>\n",
       "      <td>1</td>\n",
       "      <td>1</td>\n",
       "      <td>\"[\"\"True, sadly not many have felt like partic...</td>\n",
       "      <td>True, sadly not many have felt like participat...</td>\n",
       "      <td>true sadly feel like participate unsure helpfu...</td>\n",
       "      <td>true sadly feel like participate unsure helpfu...</td>\n",
       "    </tr>\n",
       "    <tr>\n",
       "      <th>...</th>\n",
       "      <td>...</td>\n",
       "      <td>...</td>\n",
       "      <td>...</td>\n",
       "      <td>...</td>\n",
       "      <td>...</td>\n",
       "      <td>...</td>\n",
       "      <td>...</td>\n",
       "      <td>...</td>\n",
       "      <td>...</td>\n",
       "    </tr>\n",
       "    <tr>\n",
       "      <th>8654</th>\n",
       "      <td>ISTP</td>\n",
       "      <td>0</td>\n",
       "      <td>0</td>\n",
       "      <td>0</td>\n",
       "      <td>1</td>\n",
       "      <td>\"['-Being alone -Being insensitive  -Over thin...</td>\n",
       "      <td>-Being alone -Being insensitive  -Over thinkin...</td>\n",
       "      <td>-bee -being insensitive -over think loud socia...</td>\n",
       "      <td>bee being insensitive over think loud social s...</td>\n",
       "    </tr>\n",
       "    <tr>\n",
       "      <th>8655</th>\n",
       "      <td>ISFJ</td>\n",
       "      <td>0</td>\n",
       "      <td>0</td>\n",
       "      <td>1</td>\n",
       "      <td>0</td>\n",
       "      <td>\"['Being assertive and standing up for myself ...</td>\n",
       "      <td>Being assertive and standing up for myself is ...</td>\n",
       "      <td>assertive stand struggle day worrying think ne...</td>\n",
       "      <td>assertive stand struggle day worrying think ne...</td>\n",
       "    </tr>\n",
       "    <tr>\n",
       "      <th>8657</th>\n",
       "      <td>ISTJ</td>\n",
       "      <td>0</td>\n",
       "      <td>0</td>\n",
       "      <td>0</td>\n",
       "      <td>0</td>\n",
       "      <td>\"[\"\"Assuming I had a hand in it, I always at l...</td>\n",
       "      <td>Assuming I had a hand in it, I always at least...</td>\n",
       "      <td>assume hand consider possibility culpability l...</td>\n",
       "      <td>assume hand consider possibility culpability l...</td>\n",
       "    </tr>\n",
       "    <tr>\n",
       "      <th>8661</th>\n",
       "      <td>ESFJ</td>\n",
       "      <td>1</td>\n",
       "      <td>0</td>\n",
       "      <td>1</td>\n",
       "      <td>0</td>\n",
       "      <td>\"[\"\"Don't worry, I do that too when a car come...</td>\n",
       "      <td>Don't worry, I do that too when a car comes cl...</td>\n",
       "      <td>worry car come close change lane outrun assume...</td>\n",
       "      <td>worry car come close change lane outrun assume...</td>\n",
       "    </tr>\n",
       "    <tr>\n",
       "      <th>8673</th>\n",
       "      <td>ISFP</td>\n",
       "      <td>0</td>\n",
       "      <td>0</td>\n",
       "      <td>1</td>\n",
       "      <td>1</td>\n",
       "      <td>\"['https://www.youtube.com/watch?v=t8edHB_h908...</td>\n",
       "      <td>Especially on websites that have become a have...</td>\n",
       "      <td>especially website haven neo nazis perc. nerd ...</td>\n",
       "      <td>especially website haven neo nazis perc nerd l...</td>\n",
       "    </tr>\n",
       "  </tbody>\n",
       "</table>\n",
       "<p>1197 rows × 9 columns</p>\n",
       "</div>"
      ],
      "text/plain": [
       "      type  E/I  N/S  F/T  P/J  \\\n",
       "31    ISFP    0    0    1    1   \n",
       "40    ISTP    0    0    0    1   \n",
       "48    ISFJ    0    0    1    0   \n",
       "52    ISFJ    0    0    1    0   \n",
       "66    ISFP    0    0    1    1   \n",
       "...    ...  ...  ...  ...  ...   \n",
       "8654  ISTP    0    0    0    1   \n",
       "8655  ISFJ    0    0    1    0   \n",
       "8657  ISTJ    0    0    0    0   \n",
       "8661  ESFJ    1    0    1    0   \n",
       "8673  ISFP    0    0    1    1   \n",
       "\n",
       "                                                   post  \\\n",
       "31    \"['They paint without numbers', \"\"I'd guess at...   \n",
       "40    \"[\"\"I got 593.  From what I've read about the ...   \n",
       "48    \"['I love feeling affectionate for the one I l...   \n",
       "52    \"[\"\"I'm currently rooting around in the forum,...   \n",
       "66    \"[\"\"True, sadly not many have felt like partic...   \n",
       "...                                                 ...   \n",
       "8654  \"['-Being alone -Being insensitive  -Over thin...   \n",
       "8655  \"['Being assertive and standing up for myself ...   \n",
       "8657  \"[\"\"Assuming I had a hand in it, I always at l...   \n",
       "8661  \"[\"\"Don't worry, I do that too when a car come...   \n",
       "8673  \"['https://www.youtube.com/watch?v=t8edHB_h908...   \n",
       "\n",
       "                                          post_no_links  \\\n",
       "31    They paint without numbers I'd guess at istp t...   \n",
       "40    I got 593.  From what I've read about the Enne...   \n",
       "48    I love feeling affectionate for the one I love...   \n",
       "52    I'm currently rooting around in the forum, loo...   \n",
       "66    True, sadly not many have felt like participat...   \n",
       "...                                                 ...   \n",
       "8654  -Being alone -Being insensitive  -Over thinkin...   \n",
       "8655  Being assertive and standing up for myself is ...   \n",
       "8657  Assuming I had a hand in it, I always at least...   \n",
       "8661  Don't worry, I do that too when a car comes cl...   \n",
       "8673  Especially on websites that have become a have...   \n",
       "\n",
       "                                             spacy_post  \\\n",
       "31    paint number guess istp good bud esfp funny en...   \n",
       "40    593 read enneagram 953 read lot 9 mistype 5 gt...   \n",
       "48    love feeling affectionate love care care deepl...   \n",
       "52    currently root forum look place rant think thr...   \n",
       "66    true sadly feel like participate unsure helpfu...   \n",
       "...                                                 ...   \n",
       "8654  -bee -being insensitive -over think loud socia...   \n",
       "8655  assertive stand struggle day worrying think ne...   \n",
       "8657  assume hand consider possibility culpability l...   \n",
       "8661  worry car come close change lane outrun assume...   \n",
       "8673  especially website haven neo nazis perc. nerd ...   \n",
       "\n",
       "                                             clean_post  \n",
       "31    paint number guess istp good bud esfp funny en...  \n",
       "40     read enneagram  read lot  mistype  gtfo feele...  \n",
       "48    love feeling affectionate love care care deepl...  \n",
       "52    currently root forum look place rant think thr...  \n",
       "66    true sadly feel like participate unsure helpfu...  \n",
       "...                                                 ...  \n",
       "8654  bee being insensitive over think loud social s...  \n",
       "8655  assertive stand struggle day worrying think ne...  \n",
       "8657  assume hand consider possibility culpability l...  \n",
       "8661  worry car come close change lane outrun assume...  \n",
       "8673  especially website haven neo nazis perc nerd l...  \n",
       "\n",
       "[1197 rows x 9 columns]"
      ]
     },
     "execution_count": 52,
     "metadata": {},
     "output_type": "execute_result"
    }
   ],
   "source": [
    "df[df['N/S']==0]"
   ]
  },
  {
   "cell_type": "markdown",
   "metadata": {},
   "source": [
    "# EXPORT to SQL tables"
   ]
  },
  {
   "cell_type": "code",
   "execution_count": 66,
   "metadata": {
    "execution": {
     "iopub.execute_input": "2020-10-24T00:50:07.206901Z",
     "iopub.status.busy": "2020-10-24T00:50:07.206670Z",
     "iopub.status.idle": "2020-10-24T00:50:07.431976Z",
     "shell.execute_reply": "2020-10-24T00:50:07.431320Z",
     "shell.execute_reply.started": "2020-10-24T00:50:07.206876Z"
    }
   },
   "outputs": [
    {
     "data": {
      "text/plain": [
       "True"
      ]
     },
     "execution_count": 66,
     "metadata": {},
     "output_type": "execute_result"
    }
   ],
   "source": [
    "import d6tstack\n",
    "\n",
    "# fast CSV to SQL import - see SQL examples notebook\n",
    "d6tstack.utils.pd_to_psql(df.iloc[:,-5:-1], \n",
    "                          'postgresql+psycopg2://briantam: @localhost/myers_briggs', \n",
    "                          'sentiment', \n",
    "                          if_exists='replace',\n",
    "                          sep='\\t')"
   ]
  },
  {
   "cell_type": "code",
   "execution_count": 61,
   "metadata": {
    "execution": {
     "iopub.execute_input": "2020-10-24T00:46:23.510514Z",
     "iopub.status.busy": "2020-10-24T00:46:23.509454Z",
     "iopub.status.idle": "2020-10-24T00:46:24.072297Z",
     "shell.execute_reply": "2020-10-24T00:46:24.071716Z",
     "shell.execute_reply.started": "2020-10-24T00:46:23.510445Z"
    }
   },
   "outputs": [
    {
     "data": {
      "text/plain": [
       "True"
      ]
     },
     "execution_count": 61,
     "metadata": {},
     "output_type": "execute_result"
    }
   ],
   "source": [
    "# fast CSV to SQL import - see SQL examples notebook\n",
    "d6tstack.utils.pd_to_psql(POS_df, \n",
    "                          'postgresql+psycopg2://briantam: @localhost/myers_briggs', \n",
    "                          'POS', \n",
    "                          if_exists='replace',\n",
    "                          sep='\\t')"
   ]
  },
  {
   "cell_type": "code",
   "execution_count": 6,
   "metadata": {
    "execution": {
     "iopub.execute_input": "2020-10-24T17:22:38.071283Z",
     "iopub.status.busy": "2020-10-24T17:22:38.071052Z",
     "iopub.status.idle": "2020-10-24T17:22:38.281680Z",
     "shell.execute_reply": "2020-10-24T17:22:38.280787Z",
     "shell.execute_reply.started": "2020-10-24T17:22:38.071259Z"
    }
   },
   "outputs": [
    {
     "ename": "NameError",
     "evalue": "name 'd6tstack' is not defined",
     "output_type": "error",
     "traceback": [
      "\u001b[0;31m---------------------------------------------------------------------------\u001b[0m",
      "\u001b[0;31mNameError\u001b[0m                                 Traceback (most recent call last)",
      "\u001b[0;32m<ipython-input-6-3e6690a73a1d>\u001b[0m in \u001b[0;36m<module>\u001b[0;34m\u001b[0m\n\u001b[1;32m      1\u001b[0m \u001b[0;31m# fast CSV to SQL import - see SQL examples notebook\u001b[0m\u001b[0;34m\u001b[0m\u001b[0;34m\u001b[0m\u001b[0;34m\u001b[0m\u001b[0m\n\u001b[0;32m----> 2\u001b[0;31m d6tstack.utils.pd_to_psql(POS_df, \n\u001b[0m\u001b[1;32m      3\u001b[0m                           \u001b[0;34m'postgresql+psycopg2://briantam: @localhost/myers_briggs'\u001b[0m\u001b[0;34m,\u001b[0m\u001b[0;34m\u001b[0m\u001b[0;34m\u001b[0m\u001b[0m\n\u001b[1;32m      4\u001b[0m                           \u001b[0;34m'clean_posts'\u001b[0m\u001b[0;34m,\u001b[0m\u001b[0;34m\u001b[0m\u001b[0;34m\u001b[0m\u001b[0m\n\u001b[1;32m      5\u001b[0m                           \u001b[0mif_exists\u001b[0m\u001b[0;34m=\u001b[0m\u001b[0;34m'replace'\u001b[0m\u001b[0;34m,\u001b[0m\u001b[0;34m\u001b[0m\u001b[0;34m\u001b[0m\u001b[0m\n",
      "\u001b[0;31mNameError\u001b[0m: name 'd6tstack' is not defined"
     ]
    }
   ],
   "source": [
    "# fast CSV to SQL import - see SQL examples notebook\n",
    "d6tstack.utils.pd_to_psql(POS_df, \n",
    "                          'postgresql+psycopg2://briantam: @localhost/myers_briggs', \n",
    "                          'clean_posts', \n",
    "                          if_exists='replace',\n",
    "                          sep='\\t')"
   ]
  },
  {
   "cell_type": "markdown",
   "metadata": {},
   "source": [
    "# Appendix"
   ]
  },
  {
   "cell_type": "code",
   "execution_count": 7,
   "metadata": {
    "execution": {
     "iopub.execute_input": "2020-10-23T03:53:47.306615Z",
     "iopub.status.busy": "2020-10-23T03:53:47.306328Z",
     "iopub.status.idle": "2020-10-23T03:53:47.905906Z",
     "shell.execute_reply": "2020-10-23T03:53:47.905140Z",
     "shell.execute_reply.started": "2020-10-23T03:53:47.306566Z"
    }
   },
   "outputs": [],
   "source": [
    "import spacy\n",
    "nlp = spacy.load('en_core_web_sm')\n",
    "\n",
    "# Import spaCy Matcher\n",
    "from spacy.matcher import Matcher\n",
    "\n",
    "# Initialize the matcher with the spaCy vocabulary\n",
    "matcher = Matcher(nlp.vocab)\n",
    "\n",
    "doc = nlp(\"Some people start their day with lemon water\")\n",
    "\n",
    "# Define rule\n",
    "pattern = [{'TEXT': 'lemon'}, {'TEXT': 'water'}]\n",
    "\n",
    "# Add rule\n",
    "matcher.add('rule_1', None, pattern)"
   ]
  },
  {
   "cell_type": "code",
   "execution_count": 2,
   "metadata": {
    "execution": {
     "iopub.execute_input": "2020-10-22T05:53:14.919565Z",
     "iopub.status.busy": "2020-10-22T05:53:14.919345Z",
     "iopub.status.idle": "2020-10-22T05:53:14.930220Z",
     "shell.execute_reply": "2020-10-22T05:53:14.929342Z",
     "shell.execute_reply.started": "2020-10-22T05:53:14.919541Z"
    }
   },
   "outputs": [
    {
     "data": {
      "text/plain": [
       "[(7604275899133490726, 6, 8)]"
      ]
     },
     "execution_count": 2,
     "metadata": {},
     "output_type": "execute_result"
    }
   ],
   "source": [
    "matches = matcher(doc)\n",
    "matches"
   ]
  },
  {
   "cell_type": "code",
   "execution_count": 3,
   "metadata": {
    "execution": {
     "iopub.execute_input": "2020-10-22T05:54:18.612760Z",
     "iopub.status.busy": "2020-10-22T05:54:18.612546Z",
     "iopub.status.idle": "2020-10-22T05:54:18.632101Z",
     "shell.execute_reply": "2020-10-22T05:54:18.630583Z",
     "shell.execute_reply.started": "2020-10-22T05:54:18.612736Z"
    }
   },
   "outputs": [],
   "source": [
    "\n",
    "doc1 = nlp(\"You read this book\")\n",
    "doc2 = nlp(\"I will book my ticket\")\n",
    "\n",
    "pattern = [{'TEXT': 'book', 'POS': 'NOUN'}]\n",
    "\n",
    "# Initialize the matcher with the shared vocab\n",
    "matcher = Matcher(nlp.vocab)\n",
    "matcher.add('rule_2', None, pattern)"
   ]
  },
  {
   "cell_type": "code",
   "execution_count": 4,
   "metadata": {
    "execution": {
     "iopub.execute_input": "2020-10-22T05:54:26.697174Z",
     "iopub.status.busy": "2020-10-22T05:54:26.696877Z",
     "iopub.status.idle": "2020-10-22T05:54:26.701888Z",
     "shell.execute_reply": "2020-10-22T05:54:26.701152Z",
     "shell.execute_reply.started": "2020-10-22T05:54:26.697144Z"
    }
   },
   "outputs": [
    {
     "data": {
      "text/plain": [
       "[(375134486054924901, 3, 4)]"
      ]
     },
     "execution_count": 4,
     "metadata": {},
     "output_type": "execute_result"
    }
   ],
   "source": [
    "matches = matcher(doc1)\n",
    "matches"
   ]
  },
  {
   "cell_type": "code",
   "execution_count": null,
   "metadata": {},
   "outputs": [],
   "source": []
  }
 ],
 "metadata": {
  "kernelspec": {
   "display_name": "Python [conda env:metis] *",
   "language": "python",
   "name": "conda-env-metis-py"
  },
  "language_info": {
   "codemirror_mode": {
    "name": "ipython",
    "version": 3
   },
   "file_extension": ".py",
   "mimetype": "text/x-python",
   "name": "python",
   "nbconvert_exporter": "python",
   "pygments_lexer": "ipython3",
   "version": "3.8.5"
  }
 },
 "nbformat": 4,
 "nbformat_minor": 4
}
